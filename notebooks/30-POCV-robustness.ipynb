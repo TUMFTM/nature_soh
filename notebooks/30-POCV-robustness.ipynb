{
 "cells": [
  {
   "cell_type": "markdown",
   "id": "df7e6497-b58a-4941-8a0d-ec77ce3b8815",
   "metadata": {},
   "source": [
    "# Analyze the robustness of the proposed standard measurement"
   ]
  },
  {
   "cell_type": "markdown",
   "id": "f39e39e1-f1e2-4cac-822c-db2ced16ba4b",
   "metadata": {},
   "source": [
    "The robustness of the proposed standard measurement is analyzed here with data from: \\\n",
    "* the same five Cupra Borns in 2024 with mileages between 12000-17000km\n",
    "* Cupra Born with license plate nr 213 was repeatadly measured 3 times in a row (in the course of a week without adding km) to analyze reproducibility\n",
    "--> It is assumed that the vehicles were utilized similarly, as the were used in a research project analyzinig car sharing. More information on the research project can be found here:  [Comfficient Share](https://mcube-cluster.de/en/projekt/comfficientshare/)\n",
    "* VW ID.3 analyzed in the aging section was also repeatedly measured 3 times in a row without adding km"
   ]
  },
  {
   "cell_type": "code",
   "execution_count": 3,
   "id": "6cc0bf2d-790b-4c5d-bd58-d42bf8bc7ae3",
   "metadata": {},
   "outputs": [],
   "source": [
    "import os\n",
    "import sys\n",
    "import math\n",
    "sys.path.append(os.path.join(os.getcwd().partition('nature_soh')[0], \"nature_soh\"))\n",
    "from src.config_base import GeneralConfig"
   ]
  },
  {
   "cell_type": "code",
   "execution_count": 4,
   "id": "7a248134-8c89-4cf3-bda6-30fd5e49676d",
   "metadata": {},
   "outputs": [],
   "source": [
    "import pandas as pd\n",
    "import numpy as np\n",
    "import scipy as sp\n",
    "import matplotlib.pyplot as plt\n",
    "import matplotlib.ticker as ticker\n",
    "from matplotlib.ticker import FormatStrFormatter\n",
    "import matplotlib.gridspec as gridspec\n",
    "from matplotlib.ticker import AutoMinorLocator, FixedLocator\n",
    "import matplotlib.patches as patches\n",
    "import matplotlib.patheffects as mpe"
   ]
  },
  {
   "cell_type": "code",
   "execution_count": 5,
   "id": "538b73db-2367-4e25-8fd4-5f7e44474956",
   "metadata": {},
   "outputs": [],
   "source": [
    "from src.data.read_feather import ReadFeather\n",
    "from src.filtering.filter_methods import FilterMethods\n",
    "from src.voltage_capacity_analysis.dva import DVA\n",
    "from src.visualization.config_visualization import VisualizationConfig, instantiate_matplotlib_parameters, cm2inch\n",
    "instantiate_matplotlib_parameters()\n",
    "from src.visualization.colormaps import ColorMaps"
   ]
  },
  {
   "cell_type": "code",
   "execution_count": 6,
   "id": "31178f85-cc79-4e5b-b9ac-fb5cc0dcda2e",
   "metadata": {},
   "outputs": [
    {
     "data": {
      "text/plain": [
       "8.8"
      ]
     },
     "execution_count": 6,
     "metadata": {},
     "output_type": "execute_result"
    }
   ],
   "source": [
    "VisualizationConfig.columnwidth_in_cm.value"
   ]
  },
  {
   "cell_type": "code",
   "execution_count": 7,
   "id": "ec588ba8-a8fa-4c14-ad2c-ca28ad054dce",
   "metadata": {},
   "outputs": [
    {
     "data": {
      "image/png": "[encoded data removed]",
      "text/html": [
       "<div style=\"vertical-align: middle;\"><strong>tum_orange</strong> </div><div class=\"cmap\"><img alt=\"tum_orange colormap\" title=\"tum_orange\" style=\"border: 1px solid #555;\" src=\"data:image/png;base64,iVBORw0KGgoAAAANSUhEUgAAAgAAAABACAYAAABsv8+/AAAAGXRFWHRUaXRsZQB0dW1fb3JhbmdlIGNvbG9ybWFwixbW5QAAAB90RVh0RGVzY3JpcHRpb24AdHVtX29yYW5nZSBjb2xvcm1hcPE+F6sAAAAwdEVYdEF1dGhvcgBNYXRwbG90bGliIHYzLjguNCwgaHR0cHM6Ly9tYXRwbG90bGliLm9yZ2TOsrQAAAAydEVYdFNvZnR3YXJlAE1hdHBsb3RsaWIgdjMuOC40LCBodHRwczovL21hdHBsb3RsaWIub3JnSmgtkwAAAYpJREFUeJzt1kFugzAUQEHco/SIvXIP0myyqaMohRBo9GY2ETICI39Fb3x/ff4sv4zrz5iuV67f3LdM1xvf8/A5G9f3es68fvc799rvk+/Zer6rz3+n99z7joPndTxY331eT5+jlft42fkfNa/LdP2qef3j+unnv22/49k5erf/q/8+R9P6xwIA5AgAAAgSAAAQJAAAIEgAAECQAACAIAEAAEECAACCBAAABAkAAAgSAAAQJAAAIEgAAECQAACAIAEAAEECAACCBAAABAkAAAgSAAAQJAAAIEgAAECQAACAIAEAAEECAACCBAAABAkAAAgSAAAQJAAAIEgAAECQAACAIAEAAEECAACCBAAABAkAAAgSAAAQJAAAIEgAAECQAACAIAEAAEECAACCBAAABAkAAAgSAAAQJAAAIEgAAECQAACAIAEAAEECAACCBAAABAkAAAgSAAAQJAAAIEgAAECQAACAIAEAAEECAACCBAAABAkAAAgSAAAQJAAAIEgAAECQAACAIAEAAEEXgqwELiXJxakAAAAASUVORK5CYII=\"></div><div style=\"vertical-align: middle; max-width: 514px; display: flex; justify-content: space-between;\"><div style=\"float: left;\"><div title=\"#e37222ff\" style=\"display: inline-block; width: 1em; height: 1em; margin: 0; vertical-align: middle; border: 1px solid #555; background-color: #e37222ff;\"></div> under</div><div style=\"margin: 0 auto; display: inline-block;\">bad <div title=\"#00000000\" style=\"display: inline-block; width: 1em; height: 1em; margin: 0; vertical-align: middle; border: 1px solid #555; background-color: #00000000;\"></div></div><div style=\"float: right;\">over <div title=\"#e6e6e6ff\" style=\"display: inline-block; width: 1em; height: 1em; margin: 0; vertical-align: middle; border: 1px solid #555; background-color: #e6e6e6ff;\"></div></div>"
      ],
      "text/plain": [
       "<matplotlib.colors.ListedColormap at 0x1d5488d7590>"
      ]
     },
     "execution_count": 7,
     "metadata": {},
     "output_type": "execute_result"
    }
   ],
   "source": [
    "tum_orange_cmap = ColorMaps.orange_tum()\n",
    "orange_colors = tum_orange_cmap(np.linspace(0,1, 10))\n",
    "tum_orange_cmap"
   ]
  },
  {
   "cell_type": "code",
   "execution_count": 8,
   "id": "27235247-c600-4eac-9655-c40a1794707d",
   "metadata": {},
   "outputs": [
    {
     "data": {
      "image/png": "[encoded data removed]",
      "text/html": [
       "<div style=\"vertical-align: middle;\"><strong>tum_blue</strong> </div><div class=\"cmap\"><img alt=\"tum_blue colormap\" title=\"tum_blue\" style=\"border: 1px solid #555;\" src=\"data:image/png;base64,iVBORw0KGgoAAAANSUhEUgAAAgAAAABACAYAAABsv8+/AAAAF3RFWHRUaXRsZQB0dW1fYmx1ZSBjb2xvcm1hcKbbBgQAAAAddEVYdERlc2NyaXB0aW9uAHR1bV9ibHVlIGNvbG9ybWFwj6XhLQAAADB0RVh0QXV0aG9yAE1hdHBsb3RsaWIgdjMuOC40LCBodHRwczovL21hdHBsb3RsaWIub3JnZM6ytAAAADJ0RVh0U29mdHdhcmUATWF0cGxvdGxpYiB2My44LjQsIGh0dHBzOi8vbWF0cGxvdGxpYi5vcmdKaC2TAAABqElEQVR4nO3WXW6CQBhAUeheu8yurX3RtFphQOhPcs95MRPJlxlGkztPr2/v0xfzfPkcrufV77/PW39+NH/7/uZN86edz4/mj/e37/zTwfd1/n1c17cD//4+Hp9nvL+fvo/18yzv77nf4/K8jfPvnptO2tfyvGPzP+ed8z9Z3t9z88fnvV+vn//37+P2PP/nPh6fZ7y/Y+/r/Pu4rvf+Xs69j5cJAMgRAAAQJAAAIEgAAECQAACAIAEAAEECAACCBAAABAkAAAgSAAAQJAAAIEgAAECQAACAIAEAAEECAACCBAAABAkAAAgSAAAQJAAAIEgAAECQAACAIAEAAEECAACCBAAABAkAAAgSAAAQJAAAIEgAAECQAACAIAEAAEECAACCBAAABAkAAAgSAAAQJAAAIEgAAECQAACAIAEAAEECAACCBAAABAkAAAgSAAAQJAAAIEgAAECQAACAIAEAAEECAACCBAAABAkAAAgSAAAQJAAAIEgAAECQAACAIAEAAEECAACCBAAABAkAAAgSAAAQJAAAIEgAAECQAACAIAEAAEECAACCPgAujQQuZCaHmgAAAABJRU5ErkJggg==\"></div><div style=\"vertical-align: middle; max-width: 514px; display: flex; justify-content: space-between;\"><div style=\"float: left;\"><div title=\"#0065bdff\" style=\"display: inline-block; width: 1em; height: 1em; margin: 0; vertical-align: middle; border: 1px solid #555; background-color: #0065bdff;\"></div> under</div><div style=\"margin: 0 auto; display: inline-block;\">bad <div title=\"#00000000\" style=\"display: inline-block; width: 1em; height: 1em; margin: 0; vertical-align: middle; border: 1px solid #555; background-color: #00000000;\"></div></div><div style=\"float: right;\">over <div title=\"#e6e6e6ff\" style=\"display: inline-block; width: 1em; height: 1em; margin: 0; vertical-align: middle; border: 1px solid #555; background-color: #e6e6e6ff;\"></div></div>"
      ],
      "text/plain": [
       "<matplotlib.colors.ListedColormap at 0x1d56896c810>"
      ]
     },
     "execution_count": 8,
     "metadata": {},
     "output_type": "execute_result"
    }
   ],
   "source": [
    "tum_blue_cmap = ColorMaps.blue_tum()\n",
    "blue_colors = tum_blue_cmap(np.linspace(0,1, 10))\n",
    "tum_blue_cmap"
   ]
  },
  {
   "cell_type": "code",
   "execution_count": 9,
   "id": "f891546e-04b2-4456-b4d5-1e9f9f653fdc",
   "metadata": {},
   "outputs": [
    {
     "data": {
      "image/png": "[encoded data removed]",
      "text/html": [
       "<div style=\"vertical-align: middle;\"><strong>tum_orange_blue</strong> </div><div class=\"cmap\"><img alt=\"tum_orange_blue colormap\" title=\"tum_orange_blue\" style=\"border: 1px solid #555;\" src=\"data:image/png;base64,iVBORw0KGgoAAAANSUhEUgAAAgAAAABACAYAAABsv8+/AAAAHnRFWHRUaXRsZQB0dW1fb3JhbmdlX2JsdWUgY29sb3JtYXDqIpipAAAAJHRFWHREZXNjcmlwdGlvbgB0dW1fb3JhbmdlX2JsdWUgY29sb3JtYXAgnnHGAAAAMHRFWHRBdXRob3IATWF0cGxvdGxpYiB2My44LjQsIGh0dHBzOi8vbWF0cGxvdGxpYi5vcmdkzrK0AAAAMnRFWHRTb2Z0d2FyZQBNYXRwbG90bGliIHYzLjguNCwgaHR0cHM6Ly9tYXRwbG90bGliLm9yZ0poLZMAAAHUSURBVHic7dZLTsMwFEBRh72yTNZmBrSVmmLSUj6De84kSkycpzQSdxuvb3OMMbYxx8dxjE/Pt4P18/l2sP5f+x3sc/ay2OeyvpjrZn0313L9fP/25Ppl/uvr22Vlnu6/nuv5937v3/317/3s835prnv3+6PnjcV943J+Os6D9eV3uVif+/X9HNfH2zm/N9dynt1+R3Mdzj0P5r5z3tt5HnzP+7nn59cfnm+3z7fnm7v5FnM/Otfj3+fuuT/1fR6+99U8i/X59frd3+fp+vn/AQAQIgAAIEgAAECQAACAIAEAAEECAACCBAAABAkAAAgSAAAQJAAAIEgAAECQAACAIAEAAEECAACCBAAABAkAAAgSAAAQJAAAIEgAAECQAACAIAEAAEECAACCBAAABAkAAAgSAAAQJAAAIEgAAECQAACAIAEAAEECAACCBAAABAkAAAgSAAAQJAAAIEgAAECQAACAIAEAAEECAACCBAAABAkAAAgSAAAQJAAAIEgAAECQAACAIAEAAEECAACCBAAABAkAAAgSAAAQJAAAIEgAAECQAACAIAEAAEECAACCBAAABAkAAAgSAAAQJAAAIEgAAECQAACAIAEAAEECAACCBAAABL0D1huq9hb1rQgAAAAASUVORK5CYII=\"></div><div style=\"vertical-align: middle; max-width: 514px; display: flex; justify-content: space-between;\"><div style=\"float: left;\"><div title=\"#0065bdff\" style=\"display: inline-block; width: 1em; height: 1em; margin: 0; vertical-align: middle; border: 1px solid #555; background-color: #0065bdff;\"></div> under</div><div style=\"margin: 0 auto; display: inline-block;\">bad <div title=\"#00000000\" style=\"display: inline-block; width: 1em; height: 1em; margin: 0; vertical-align: middle; border: 1px solid #555; background-color: #00000000;\"></div></div><div style=\"float: right;\">over <div title=\"#e37222ff\" style=\"display: inline-block; width: 1em; height: 1em; margin: 0; vertical-align: middle; border: 1px solid #555; background-color: #e37222ff;\"></div></div>"
      ],
      "text/plain": [
       "<matplotlib.colors.ListedColormap at 0x1d56892c9d0>"
      ]
     },
     "execution_count": 9,
     "metadata": {},
     "output_type": "execute_result"
    }
   ],
   "source": [
    "tum_cmap = ColorMaps.blue_orange_tum(grayscale=0.5)\n",
    "colors = tum_cmap(np.linspace(0,1, 5))\n",
    "tum_cmap"
   ]
  },
  {
   "cell_type": "markdown",
   "id": "96411e3e-75e1-4e36-bf5c-0b168d63706d",
   "metadata": {},
   "source": [
    "## Load Data"
   ]
  },
  {
   "cell_type": "code",
   "execution_count": 11,
   "id": "10ecbddb-f80b-4f6c-815a-5e0783fefbf4",
   "metadata": {},
   "outputs": [],
   "source": [
    "def filter_func_preprocess(signal):\n",
    "    perc_filter = 1/100 * len(signal) #% filter\n",
    "    filtered_signal = FilterMethods().rolling_mean_df(signal,window_size=FilterMethods().round_to_next_odd_number(perc_filter))\n",
    "    #filtered_signal = FilterMethods().savgol(signal,window_size=FilterMethods().round_to_next_odd_number(perc_filter * len(signal)))\n",
    "    return filtered_signal"
   ]
  },
  {
   "cell_type": "code",
   "execution_count": 12,
   "id": "5e3e89ed-c7bb-4ab4-860c-4cf62ab6cbb3",
   "metadata": {},
   "outputs": [],
   "source": [
    "read_feather = ReadFeather()\n",
    "read_feather.set_filter_U(filter_func_preprocess)\n",
    "read_feather.set_filter_Q(filter_func_preprocess)"
   ]
  },
  {
   "cell_type": "markdown",
   "id": "137c5784-cc39-4d18-a937-cd7028a90ddd",
   "metadata": {},
   "source": [
    "Nr in file name corresponds to the license plate number"
   ]
  },
  {
   "cell_type": "markdown",
   "id": "66fc3008-da6e-49b8-ad0c-d61870db02ba",
   "metadata": {},
   "source": [
    "96% BMS-SOC equates to 100% UI-SOC, i.e. a fully charged vehicle, ask VW why"
   ]
  },
  {
   "cell_type": "code",
   "execution_count": 15,
   "id": "d100bc95-1e3f-4802-aa1c-f94595f74c1f",
   "metadata": {},
   "outputs": [],
   "source": [
    "net_energy = 58"
   ]
  },
  {
   "cell_type": "code",
   "execution_count": 16,
   "id": "3358bc0e-fb9d-4047-b60b-3800aec6c931",
   "metadata": {},
   "outputs": [],
   "source": [
    "df_cupra_397_2024 =  read_feather.read(os.path.join(GeneralConfig.path2data.value,\"Cupra\",\"Cupra_Born_397_JB_8A_CEE7_CS_2024.feather\"))\n",
    "df_cupra_349_2024 =  read_feather.read(os.path.join(GeneralConfig.path2data.value,\"Cupra\",\"Cupra_Born_349_JB_8A_CEE7_CS_2024.feather\"))\n",
    "df_cupra_288_2024 =  read_feather.read(os.path.join(GeneralConfig.path2data.value,\"Cupra\",\"Cupra_Born_288_JB_8A_CEE7_CS_2024.feather\"))\n",
    "df_cupra_204_2024 =  read_feather.read(os.path.join(GeneralConfig.path2data.value,\"Cupra\",\"Cupra_Born_204_JB_8A_CEE7_CS_2024.feather\"))\n",
    "df_cupra_213_2024 =  read_feather.read(os.path.join(GeneralConfig.path2data.value,\"Cupra\",\"Cupra_Born_213_JB_8A_CEE7_CS_2024.feather\"))"
   ]
  },
  {
   "cell_type": "code",
   "execution_count": 17,
   "id": "2f1566d3-6c51-4ece-a1d4-0158e4897910",
   "metadata": {},
   "outputs": [
    {
     "name": "stdout",
     "output_type": "stream",
     "text": [
      "SOC (min): 0.0 %\n",
      "SOC (max): 96.0 %\n",
      "U (min): 359.0 V\n",
      "U (max): 447.5 V\n",
      "E (max): 56.5 kWh\n",
      "SOH_E: 97.4 %\n"
     ]
    }
   ],
   "source": [
    "print(f\"SOC (min): {df_cupra_397_2024.SOC.min()} %\")\n",
    "print(f\"SOC (max): {df_cupra_397_2024.SOC.max()} %\")\n",
    "print(f\"U (min): {df_cupra_397_2024.U.min():.1f} V\")\n",
    "print(f\"U (max): {df_cupra_397_2024.U.max():.1f} V\")\n",
    "print(f\"E (max): {df_cupra_397_2024.E.max():.1f} kWh\")\n",
    "print(f\"SOH_E: {df_cupra_397_2024.E.max()/net_energy*100:.1f} %\")"
   ]
  },
  {
   "cell_type": "code",
   "execution_count": 18,
   "id": "3752bc7c-13b3-4264-81c4-7d02f1710f17",
   "metadata": {},
   "outputs": [
    {
     "name": "stdout",
     "output_type": "stream",
     "text": [
      "SOC (min): 0.0 %\n",
      "SOC (max): 96.0 %\n",
      "U (min): 363.0 V\n",
      "U (max): 449.3 V\n",
      "E (max): 57.8 kWh\n",
      "SOH_E: 99.6 %\n"
     ]
    }
   ],
   "source": [
    "print(f\"SOC (min): {df_cupra_349_2024.SOC.min()} %\")\n",
    "print(f\"SOC (max): {df_cupra_349_2024.SOC.max()} %\")\n",
    "print(f\"U (min): {df_cupra_349_2024.U.min():.1f} V\")\n",
    "print(f\"U (max): {df_cupra_349_2024.U.max():.1f} V\")\n",
    "print(f\"E (max): {df_cupra_349_2024.E.max():.1f} kWh\")\n",
    "print(f\"SOH_E: {df_cupra_349_2024.E.max()/net_energy*100:.1f} %\")"
   ]
  },
  {
   "cell_type": "code",
   "execution_count": 19,
   "id": "fbfc1295-5b9d-4d45-90c9-f2693424d9d2",
   "metadata": {},
   "outputs": [
    {
     "name": "stdout",
     "output_type": "stream",
     "text": [
      "SOC (min): 0.0 %\n",
      "SOC (max): 96.0 %\n",
      "U (min): 361.8 V\n",
      "U (max): 449.3 V\n",
      "E (max): 57.7 kWh\n",
      "SOH_E: 99.4 %\n"
     ]
    }
   ],
   "source": [
    "print(f\"SOC (min): {df_cupra_288_2024.SOC.min()} %\")\n",
    "print(f\"SOC (max): {df_cupra_288_2024.SOC.max()} %\")\n",
    "print(f\"U (min): {df_cupra_288_2024.U.min():.1f} V\")\n",
    "print(f\"U (max): {df_cupra_288_2024.U.max():.1f} V\")\n",
    "print(f\"E (max): {df_cupra_288_2024.E.max():.1f} kWh\")\n",
    "print(f\"SOH_E: {df_cupra_288_2024.E.max()/net_energy*100:.1f} %\")"
   ]
  },
  {
   "cell_type": "code",
   "execution_count": 20,
   "id": "2f4464b3-cd6a-4262-a49e-1231ae2ef812",
   "metadata": {},
   "outputs": [
    {
     "name": "stdout",
     "output_type": "stream",
     "text": [
      "SOC (min): 0.0 %\n",
      "SOC (max): 96.0 %\n",
      "U (min): 358.8 V\n",
      "U (max): 452.2 V\n",
      "E (max): 58.7 kWh\n",
      "SOH_E: 101.1 %\n"
     ]
    }
   ],
   "source": [
    "print(f\"SOC (min): {df_cupra_204_2024.SOC.min()} %\")\n",
    "print(f\"SOC (max): {df_cupra_204_2024.SOC.max()} %\")\n",
    "print(f\"U (min): {df_cupra_204_2024.U.min():.1f} V\")\n",
    "print(f\"U (max): {df_cupra_204_2024.U.max():.1f} V\")\n",
    "print(f\"E (max): {df_cupra_204_2024.E.max():.1f} kWh\")\n",
    "print(f\"SOH_E: {df_cupra_204_2024.E.max()/net_energy*100:.1f} %\")"
   ]
  },
  {
   "cell_type": "code",
   "execution_count": 21,
   "id": "773e408e-fd91-4554-bd48-29ea1db2573d",
   "metadata": {},
   "outputs": [
    {
     "name": "stdout",
     "output_type": "stream",
     "text": [
      "SOC (min): 0.0 %\n",
      "SOC (max): 96.0 %\n",
      "U (min): 357.2 V\n",
      "U (max): 453.0 V\n",
      "E (max): 60.5 kWh\n",
      "SOH_E: 104.2 %\n"
     ]
    }
   ],
   "source": [
    "print(f\"SOC (min): {df_cupra_213_2024.SOC.min()} %\")\n",
    "print(f\"SOC (max): {df_cupra_213_2024.SOC.max()} %\")\n",
    "print(f\"U (min): {df_cupra_213_2024.U.min():.1f} V\")\n",
    "print(f\"U (max): {df_cupra_213_2024.U.max():.1f} V\")\n",
    "print(f\"E (max): {df_cupra_213_2024.E.max():.1f} kWh\")\n",
    "print(f\"SOH_E: {df_cupra_213_2024.E.max()/net_energy*100:.1f} %\")"
   ]
  },
  {
   "cell_type": "markdown",
   "id": "3c26e69e-6aeb-468d-8ba0-77e1621c8fed",
   "metadata": {},
   "source": [
    "## fixed betweem 370-445V"
   ]
  },
  {
   "cell_type": "code",
   "execution_count": 23,
   "id": "7363a0e6-2e72-4d82-a658-9b64d463a8bc",
   "metadata": {},
   "outputs": [],
   "source": [
    "%%capture\n",
    "df_cupra_397_2024 =  read_feather.read(os.path.join(GeneralConfig.path2data.value,\"Cupra\",\"Cupra_Born_397_JB_8A_CEE7_CS_2024.feather\"), lower_voltage=370, upper_voltage=445)\n",
    "df_cupra_349_2024 =  read_feather.read(os.path.join(GeneralConfig.path2data.value,\"Cupra\",\"Cupra_Born_349_JB_8A_CEE7_CS_2024.feather\"), lower_voltage=370, upper_voltage=445)\n",
    "df_cupra_288_2024 =  read_feather.read(os.path.join(GeneralConfig.path2data.value,\"Cupra\",\"Cupra_Born_288_JB_8A_CEE7_CS_2024.feather\"), lower_voltage=370, upper_voltage=445)\n",
    "df_cupra_204_2024 =  read_feather.read(os.path.join(GeneralConfig.path2data.value,\"Cupra\",\"Cupra_Born_204_JB_8A_CEE7_CS_2024.feather\"), lower_voltage=370, upper_voltage=445)\n",
    "df_cupra_213_2024 =  read_feather.read(os.path.join(GeneralConfig.path2data.value,\"Cupra\",\"Cupra_Born_213_JB_8A_CEE7_CS_2024.feather\"), lower_voltage=370, upper_voltage=445)"
   ]
  },
  {
   "cell_type": "code",
   "execution_count": 24,
   "id": "057d3c7a-b3b7-4462-8e8a-c7270e16f1c8",
   "metadata": {},
   "outputs": [
    {
     "name": "stdout",
     "output_type": "stream",
     "text": [
      "SOC (min): 3.2 %\n",
      "SOC (max): 93.6 %\n",
      "U (min): 370.0 V\n",
      "U (max): 445.0 V\n",
      "E (max): 53.3 kWh\n",
      "SOH_E: 92.0 %\n"
     ]
    }
   ],
   "source": [
    "print(f\"SOC (min): {df_cupra_397_2024.SOC.min()} %\")\n",
    "print(f\"SOC (max): {df_cupra_397_2024.SOC.max()} %\")\n",
    "print(f\"U (min): {df_cupra_397_2024.U.min():.1f} V\")\n",
    "print(f\"U (max): {df_cupra_397_2024.U.max():.1f} V\")\n",
    "print(f\"E (max): {df_cupra_397_2024.E.max():.1f} kWh\")\n",
    "print(f\"SOH_E: {df_cupra_397_2024.E.max()/net_energy*100:.1f} %\")"
   ]
  },
  {
   "cell_type": "code",
   "execution_count": 25,
   "id": "468a46b7-de7c-474f-9ab3-5b0c263e1b13",
   "metadata": {},
   "outputs": [
    {
     "name": "stdout",
     "output_type": "stream",
     "text": [
      "SOC (min): 2.4 %\n",
      "SOC (max): 92.4 %\n",
      "U (min): 370.0 V\n",
      "U (max): 445.0 V\n",
      "E (max): 53.9 kWh\n",
      "SOH_E: 93.0 %\n"
     ]
    }
   ],
   "source": [
    "print(f\"SOC (min): {df_cupra_349_2024.SOC.min()} %\")\n",
    "print(f\"SOC (max): {df_cupra_349_2024.SOC.max()} %\")\n",
    "print(f\"U (min): {df_cupra_349_2024.U.min():.1f} V\")\n",
    "print(f\"U (max): {df_cupra_349_2024.U.max():.1f} V\")\n",
    "print(f\"E (max): {df_cupra_349_2024.E.max():.1f} kWh\")\n",
    "print(f\"SOH_E: {df_cupra_349_2024.E.max()/net_energy*100:.1f} %\")"
   ]
  },
  {
   "cell_type": "code",
   "execution_count": 26,
   "id": "ca5be4f5-2bd9-4857-ad86-0a445d208c1f",
   "metadata": {},
   "outputs": [
    {
     "name": "stdout",
     "output_type": "stream",
     "text": [
      "SOC (min): 2.4 %\n",
      "SOC (max): 92.0 %\n",
      "U (min): 370.0 V\n",
      "U (max): 445.0 V\n",
      "E (max): 53.7 kWh\n",
      "SOH_E: 92.6 %\n"
     ]
    }
   ],
   "source": [
    "print(f\"SOC (min): {df_cupra_288_2024.SOC.min()} %\")\n",
    "print(f\"SOC (max): {df_cupra_288_2024.SOC.max()} %\")\n",
    "print(f\"U (min): {df_cupra_288_2024.U.min():.1f} V\")\n",
    "print(f\"U (max): {df_cupra_288_2024.U.max():.1f} V\")\n",
    "print(f\"E (max): {df_cupra_288_2024.E.max():.1f} kWh\")\n",
    "print(f\"SOH_E: {df_cupra_288_2024.E.max()/net_energy*100:.1f} %\")"
   ]
  },
  {
   "cell_type": "code",
   "execution_count": 27,
   "id": "c6128964-6df5-478b-a2ea-073015fded7e",
   "metadata": {},
   "outputs": [
    {
     "name": "stdout",
     "output_type": "stream",
     "text": [
      "SOC (min): 3.2 %\n",
      "SOC (max): 89.6 %\n",
      "U (min): 370.0 V\n",
      "U (max): 445.0 V\n",
      "E (max): 52.7 kWh\n",
      "SOH_E: 90.8 %\n"
     ]
    }
   ],
   "source": [
    "print(f\"SOC (min): {df_cupra_204_2024.SOC.min()} %\")\n",
    "print(f\"SOC (max): {df_cupra_204_2024.SOC.max()} %\")\n",
    "print(f\"U (min): {df_cupra_204_2024.U.min():.1f} V\")\n",
    "print(f\"U (max): {df_cupra_204_2024.U.max():.1f} V\")\n",
    "print(f\"E (max): {df_cupra_204_2024.E.max():.1f} kWh\")\n",
    "print(f\"SOH_E: {df_cupra_204_2024.E.max()/net_energy*100:.1f} %\")"
   ]
  },
  {
   "cell_type": "code",
   "execution_count": 28,
   "id": "5b81fd41-64c8-4990-b035-e699a27c24a4",
   "metadata": {},
   "outputs": [
    {
     "name": "stdout",
     "output_type": "stream",
     "text": [
      "SOC (min): 3.2 %\n",
      "SOC (max): 89.2 %\n",
      "U (min): 370.0 V\n",
      "U (max): 445.0 V\n",
      "E (max): 53.8 kWh\n",
      "SOH_E: 92.8 %\n"
     ]
    }
   ],
   "source": [
    "print(f\"SOC (min): {df_cupra_213_2024.SOC.min()} %\")\n",
    "print(f\"SOC (max): {df_cupra_213_2024.SOC.max()} %\")\n",
    "print(f\"U (min): {df_cupra_213_2024.U.min():.1f} V\")\n",
    "print(f\"U (max): {df_cupra_213_2024.U.max():.1f} V\")\n",
    "print(f\"E (max): {df_cupra_213_2024.E.max():.1f} kWh\")\n",
    "print(f\"SOH_E: {df_cupra_213_2024.E.max()/net_energy*100:.1f} %\")"
   ]
  },
  {
   "cell_type": "markdown",
   "id": "a4e03e6e-56d4-490a-abf7-7ac7ae94cde0",
   "metadata": {},
   "source": [
    "## 2024 repeated measurements"
   ]
  },
  {
   "cell_type": "code",
   "execution_count": 30,
   "id": "ad024318-f674-4587-a5d1-fdb20627d2aa",
   "metadata": {},
   "outputs": [],
   "source": [
    "%%capture\n",
    "df_cupra_213_2024_rep2 =  read_feather.read(os.path.join(GeneralConfig.path2data.value,\"Cupra\",\"Cupra_Born_213_JB_8A_CEE7_CS_2024_Rep2.feather\"))\n",
    "df_cupra_213_2024_rep3 =  read_feather.read(os.path.join(GeneralConfig.path2data.value,\"Cupra\",\"Cupra_Born_213_JB_8A_CEE7_CS_2024_Rep3.feather\"))"
   ]
  },
  {
   "cell_type": "code",
   "execution_count": 31,
   "id": "c08f6426-c57d-4229-a411-539fea76de16",
   "metadata": {},
   "outputs": [
    {
     "name": "stdout",
     "output_type": "stream",
     "text": [
      "SOC (min): 0.0 %\n",
      "SOC (max): 96.0 %\n",
      "U (min): 359.0 V\n",
      "U (max): 453.0 V\n",
      "E (max): 60.5 kWh\n",
      "SOH_E: 104.2 %\n"
     ]
    }
   ],
   "source": [
    "print(f\"SOC (min): {df_cupra_213_2024_rep2.SOC.min()} %\")\n",
    "print(f\"SOC (max): {df_cupra_213_2024_rep2.SOC.max()} %\")\n",
    "print(f\"U (min): {df_cupra_213_2024_rep2.U.min():.1f} V\")\n",
    "print(f\"U (max): {df_cupra_213_2024_rep2.U.max():.1f} V\")\n",
    "print(f\"E (max): {df_cupra_213_2024_rep2.E.max():.1f} kWh\")\n",
    "print(f\"SOH_E: {df_cupra_213_2024_rep2.E.max()/net_energy*100:.1f} %\")"
   ]
  },
  {
   "cell_type": "code",
   "execution_count": 32,
   "id": "8d9217e5-ba36-460f-97a2-27a12a700618",
   "metadata": {},
   "outputs": [
    {
     "name": "stdout",
     "output_type": "stream",
     "text": [
      "SOC (min): 0.0 %\n",
      "SOC (max): 96.0 %\n",
      "U (min): 363.5 V\n",
      "U (max): 452.6 V\n",
      "E (max): 59.9 kWh\n",
      "SOH_E: 103.2 %\n"
     ]
    }
   ],
   "source": [
    "print(f\"SOC (min): {df_cupra_213_2024_rep3.SOC.min()} %\")\n",
    "print(f\"SOC (max): {df_cupra_213_2024_rep3.SOC.max()} %\")\n",
    "print(f\"U (min): {df_cupra_213_2024_rep3.U.min():.1f} V\")\n",
    "print(f\"U (max): {df_cupra_213_2024_rep3.U.max():.1f} V\")\n",
    "print(f\"E (max): {df_cupra_213_2024_rep3.E.max():.1f} kWh\")\n",
    "print(f\"SOH_E: {df_cupra_213_2024_rep3.E.max()/net_energy*100:.1f} %\")"
   ]
  },
  {
   "cell_type": "code",
   "execution_count": 33,
   "id": "2fa05fe6-8d76-47a8-af5b-75c63371b283",
   "metadata": {},
   "outputs": [],
   "source": [
    "%%capture\n",
    "df_cupra_213_2024_rep2 =  read_feather.read(os.path.join(GeneralConfig.path2data.value,\"Cupra\",\"Cupra_Born_213_JB_8A_CEE7_CS_2024_Rep2.feather\"), lower_voltage=370, upper_voltage=445)\n",
    "df_cupra_213_2024_rep3 =  read_feather.read(os.path.join(GeneralConfig.path2data.value,\"Cupra\",\"Cupra_Born_213_JB_8A_CEE7_CS_2024_Rep3.feather\"), lower_voltage=370, upper_voltage=445)"
   ]
  },
  {
   "cell_type": "code",
   "execution_count": 34,
   "id": "03e2ebaf-60fa-4e07-bcfc-27fd5209aa30",
   "metadata": {},
   "outputs": [
    {
     "name": "stdout",
     "output_type": "stream",
     "text": [
      "SOC (min): 3.2 %\n",
      "SOC (max): 89.2 %\n",
      "U (min): 370.0 V\n",
      "U (max): 445.0 V\n",
      "E (max): 53.9 kWh\n",
      "SOH_E: 93.0 %\n"
     ]
    }
   ],
   "source": [
    "print(f\"SOC (min): {df_cupra_213_2024_rep2.SOC.min()} %\")\n",
    "print(f\"SOC (max): {df_cupra_213_2024_rep2.SOC.max()} %\")\n",
    "print(f\"U (min): {df_cupra_213_2024_rep2.U.min():.1f} V\")\n",
    "print(f\"U (max): {df_cupra_213_2024_rep2.U.max():.1f} V\")\n",
    "print(f\"E (max): {df_cupra_213_2024_rep2.E.max():.1f} kWh\")\n",
    "print(f\"SOH_E: {df_cupra_213_2024_rep2.E.max()/net_energy*100:.1f} %\")"
   ]
  },
  {
   "cell_type": "code",
   "execution_count": 35,
   "id": "c26d851f-5b69-4418-9348-401c1566fe65",
   "metadata": {},
   "outputs": [
    {
     "name": "stdout",
     "output_type": "stream",
     "text": [
      "SOC (min): 2.4 %\n",
      "SOC (max): 89.6 %\n",
      "U (min): 370.0 V\n",
      "U (max): 445.0 V\n",
      "E (max): 54.0 kWh\n",
      "SOH_E: 93.1 %\n"
     ]
    }
   ],
   "source": [
    "print(f\"SOC (min): {df_cupra_213_2024_rep3.SOC.min()} %\")\n",
    "print(f\"SOC (max): {df_cupra_213_2024_rep3.SOC.max()} %\")\n",
    "print(f\"U (min): {df_cupra_213_2024_rep3.U.min():.1f} V\")\n",
    "print(f\"U (max): {df_cupra_213_2024_rep3.U.max():.1f} V\")\n",
    "print(f\"E (max): {df_cupra_213_2024_rep3.E.max():.1f} kWh\")\n",
    "print(f\"SOH_E: {df_cupra_213_2024_rep3.E.max()/net_energy*100:.1f} %\")"
   ]
  },
  {
   "cell_type": "code",
   "execution_count": 93,
   "id": "9e92f4d8-5cda-4c9b-a8d4-19c62ded4a65",
   "metadata": {},
   "outputs": [
    {
     "data": {
      "text/plain": [
       "4.0"
      ]
     },
     "execution_count": 93,
     "metadata": {},
     "output_type": "execute_result"
    }
   ],
   "source": [
    "60.5-56.5"
   ]
  },
  {
   "cell_type": "code",
   "execution_count": 95,
   "id": "66ed5ad5-16ab-48b5-86b1-e93d3a2482c9",
   "metadata": {},
   "outputs": [
    {
     "data": {
      "text/plain": [
       "1.1999999999999957"
      ]
     },
     "execution_count": 95,
     "metadata": {},
     "output_type": "execute_result"
    }
   ],
   "source": [
    "53.9-52.7"
   ]
  },
  {
   "cell_type": "code",
   "execution_count": 97,
   "id": "27616f13-f254-4fa7-8eb7-a6f4f3a35b03",
   "metadata": {},
   "outputs": [
    {
     "data": {
      "text/plain": [
       "0.6000000000000014"
      ]
     },
     "execution_count": 97,
     "metadata": {},
     "output_type": "execute_result"
    }
   ],
   "source": [
    "60.5-59.9"
   ]
  },
  {
   "cell_type": "code",
   "execution_count": 99,
   "id": "1827e885-9205-4a4a-a48f-92c6ef3aed6d",
   "metadata": {},
   "outputs": [
    {
     "data": {
      "text/plain": [
       "0.20000000000000284"
      ]
     },
     "execution_count": 99,
     "metadata": {},
     "output_type": "execute_result"
    }
   ],
   "source": [
    "54.0-53.8"
   ]
  },
  {
   "cell_type": "code",
   "execution_count": null,
   "id": "f6f0de2a-bc83-4de1-a8bb-26dc3f7f1384",
   "metadata": {},
   "outputs": [],
   "source": []
  }
 ],
 "metadata": {
  "kernelspec": {
   "display_name": "Python 3 (ipykernel)",
   "language": "python",
   "name": "python3"
  },
  "language_info": {
   "codemirror_mode": {
    "name": "ipython",
    "version": 3
   },
   "file_extension": ".py",
   "mimetype": "text/x-python",
   "name": "python",
   "nbconvert_exporter": "python",
   "pygments_lexer": "ipython3",
   "version": "3.11.7"
  }
 },
 "nbformat": 4,
 "nbformat_minor": 5
}
