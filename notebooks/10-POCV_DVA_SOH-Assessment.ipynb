{
 "cells": [
  {
   "cell_type": "markdown",
   "id": "df7e6497-b58a-4941-8a0d-ec77ce3b8815",
   "metadata": {},
   "source": [
    "# Init and aged Vehicle DVA"
   ]
  },
  {
   "cell_type": "code",
   "execution_count": 2,
   "id": "6cc0bf2d-790b-4c5d-bd58-d42bf8bc7ae3",
   "metadata": {},
   "outputs": [],
   "source": [
    "import os\n",
    "import sys\n",
    "import math\n",
    "sys.path.append(os.path.join(os.getcwd().partition('nature_soh')[0], \"nature_soh\"))\n",
    "from src.config_base import GeneralConfig"
   ]
  },
  {
   "cell_type": "code",
   "execution_count": 3,
   "id": "7a248134-8c89-4cf3-bda6-30fd5e49676d",
   "metadata": {},
   "outputs": [],
   "source": [
    "import pandas as pd\n",
    "import numpy as np\n",
    "import scipy as sp\n",
    "import matplotlib.pyplot as plt\n",
    "import matplotlib.ticker as ticker\n",
    "from matplotlib.ticker import FormatStrFormatter\n",
    "import matplotlib.gridspec as gridspec\n",
    "from matplotlib.ticker import AutoMinorLocator, FixedLocator\n",
    "import matplotlib.patches as patches\n",
    "import matplotlib.lines as mlines"
   ]
  },
  {
   "cell_type": "code",
   "execution_count": 4,
   "id": "538b73db-2367-4e25-8fd4-5f7e44474956",
   "metadata": {},
   "outputs": [],
   "source": [
    "from src.data.read_feather import ReadFeather\n",
    "from src.filtering.filter_methods import FilterMethods\n",
    "from src.voltage_capacity_analysis.dva import DVA\n",
    "from src.visualization.config_visualization import VisualizationConfig, instantiate_matplotlib_parameters, cm2inch\n",
    "instantiate_matplotlib_parameters()\n",
    "from src.visualization.colormaps import ColorMaps"
   ]
  },
  {
   "cell_type": "code",
   "execution_count": 5,
   "id": "ec588ba8-a8fa-4c14-ad2c-ca28ad054dce",
   "metadata": {},
   "outputs": [
    {
     "data": {
      "image/png": "[encoded data removed]",
      "text/html": [
       "<div style=\"vertical-align: middle;\"><strong>tum_orange</strong> </div><div class=\"cmap\"><img alt=\"tum_orange colormap\" title=\"tum_orange\" style=\"border: 1px solid #555;\" src=\"data:image/png;base64,iVBORw0KGgoAAAANSUhEUgAAAgAAAABACAYAAABsv8+/AAAAGXRFWHRUaXRsZQB0dW1fb3JhbmdlIGNvbG9ybWFwixbW5QAAAB90RVh0RGVzY3JpcHRpb24AdHVtX29yYW5nZSBjb2xvcm1hcPE+F6sAAAAwdEVYdEF1dGhvcgBNYXRwbG90bGliIHYzLjguNCwgaHR0cHM6Ly9tYXRwbG90bGliLm9yZ2TOsrQAAAAydEVYdFNvZnR3YXJlAE1hdHBsb3RsaWIgdjMuOC40LCBodHRwczovL21hdHBsb3RsaWIub3JnSmgtkwAAAYpJREFUeJzt1kFugzAUQEHco/SIvXIP0myyqaMohRBo9GY2ETICI39Fb3x/ff4sv4zrz5iuV67f3LdM1xvf8/A5G9f3es68fvc799rvk+/Zer6rz3+n99z7joPndTxY331eT5+jlft42fkfNa/LdP2qef3j+unnv22/49k5erf/q/8+R9P6xwIA5AgAAAgSAAAQJAAAIEgAAECQAACAIAEAAEECAACCBAAABAkAAAgSAAAQJAAAIEgAAECQAACAIAEAAEECAACCBAAABAkAAAgSAAAQJAAAIEgAAECQAACAIAEAAEECAACCBAAABAkAAAgSAAAQJAAAIEgAAECQAACAIAEAAEECAACCBAAABAkAAAgSAAAQJAAAIEgAAECQAACAIAEAAEECAACCBAAABAkAAAgSAAAQJAAAIEgAAECQAACAIAEAAEECAACCBAAABAkAAAgSAAAQJAAAIEgAAECQAACAIAEAAEECAACCBAAABAkAAAgSAAAQJAAAIEgAAECQAACAIAEAAEEXgqwELiXJxakAAAAASUVORK5CYII=\"></div><div style=\"vertical-align: middle; max-width: 514px; display: flex; justify-content: space-between;\"><div style=\"float: left;\"><div title=\"#e37222ff\" style=\"display: inline-block; width: 1em; height: 1em; margin: 0; vertical-align: middle; border: 1px solid #555; background-color: #e37222ff;\"></div> under</div><div style=\"margin: 0 auto; display: inline-block;\">bad <div title=\"#00000000\" style=\"display: inline-block; width: 1em; height: 1em; margin: 0; vertical-align: middle; border: 1px solid #555; background-color: #00000000;\"></div></div><div style=\"float: right;\">over <div title=\"#e6e6e6ff\" style=\"display: inline-block; width: 1em; height: 1em; margin: 0; vertical-align: middle; border: 1px solid #555; background-color: #e6e6e6ff;\"></div></div>"
      ],
      "text/plain": [
       "<matplotlib.colors.ListedColormap at 0x1e069d54850>"
      ]
     },
     "execution_count": 5,
     "metadata": {},
     "output_type": "execute_result"
    }
   ],
   "source": [
    "tum_orange_cmap = ColorMaps.orange_tum()\n",
    "orange_colors = tum_orange_cmap(np.linspace(0,1, 10))\n",
    "tum_orange_cmap"
   ]
  },
  {
   "cell_type": "code",
   "execution_count": 6,
   "id": "27235247-c600-4eac-9655-c40a1794707d",
   "metadata": {},
   "outputs": [
    {
     "data": {
      "image/png": "[encoded data removed]",
      "text/html": [
       "<div style=\"vertical-align: middle;\"><strong>tum_blue</strong> </div><div class=\"cmap\"><img alt=\"tum_blue colormap\" title=\"tum_blue\" style=\"border: 1px solid #555;\" src=\"data:image/png;base64,iVBORw0KGgoAAAANSUhEUgAAAgAAAABACAYAAABsv8+/AAAAF3RFWHRUaXRsZQB0dW1fYmx1ZSBjb2xvcm1hcKbbBgQAAAAddEVYdERlc2NyaXB0aW9uAHR1bV9ibHVlIGNvbG9ybWFwj6XhLQAAADB0RVh0QXV0aG9yAE1hdHBsb3RsaWIgdjMuOC40LCBodHRwczovL21hdHBsb3RsaWIub3JnZM6ytAAAADJ0RVh0U29mdHdhcmUATWF0cGxvdGxpYiB2My44LjQsIGh0dHBzOi8vbWF0cGxvdGxpYi5vcmdKaC2TAAABqElEQVR4nO3WXW6CQBhAUeheu8yurX3RtFphQOhPcs95MRPJlxlGkztPr2/v0xfzfPkcrufV77/PW39+NH/7/uZN86edz4/mj/e37/zTwfd1/n1c17cD//4+Hp9nvL+fvo/18yzv77nf4/K8jfPvnptO2tfyvGPzP+ed8z9Z3t9z88fnvV+vn//37+P2PP/nPh6fZ7y/Y+/r/Pu4rvf+Xs69j5cJAMgRAAAQJAAAIEgAAECQAACAIAEAAEECAACCBAAABAkAAAgSAAAQJAAAIEgAAECQAACAIAEAAEECAACCBAAABAkAAAgSAAAQJAAAIEgAAECQAACAIAEAAEECAACCBAAABAkAAAgSAAAQJAAAIEgAAECQAACAIAEAAEECAACCBAAABAkAAAgSAAAQJAAAIEgAAECQAACAIAEAAEECAACCBAAABAkAAAgSAAAQJAAAIEgAAECQAACAIAEAAEECAACCBAAABAkAAAgSAAAQJAAAIEgAAECQAACAIAEAAEECAACCBAAABAkAAAgSAAAQJAAAIEgAAECQAACAIAEAAEECAACCPgAujQQuZCaHmgAAAABJRU5ErkJggg==\"></div><div style=\"vertical-align: middle; max-width: 514px; display: flex; justify-content: space-between;\"><div style=\"float: left;\"><div title=\"#0065bdff\" style=\"display: inline-block; width: 1em; height: 1em; margin: 0; vertical-align: middle; border: 1px solid #555; background-color: #0065bdff;\"></div> under</div><div style=\"margin: 0 auto; display: inline-block;\">bad <div title=\"#00000000\" style=\"display: inline-block; width: 1em; height: 1em; margin: 0; vertical-align: middle; border: 1px solid #555; background-color: #00000000;\"></div></div><div style=\"float: right;\">over <div title=\"#e6e6e6ff\" style=\"display: inline-block; width: 1em; height: 1em; margin: 0; vertical-align: middle; border: 1px solid #555; background-color: #e6e6e6ff;\"></div></div>"
      ],
      "text/plain": [
       "<matplotlib.colors.ListedColormap at 0x1e069ecb110>"
      ]
     },
     "execution_count": 6,
     "metadata": {},
     "output_type": "execute_result"
    }
   ],
   "source": [
    "tum_blue_cmap = ColorMaps.blue_tum()\n",
    "blue_colors = tum_blue_cmap(np.linspace(0,1, 10))\n",
    "tum_blue_cmap"
   ]
  },
  {
   "cell_type": "code",
   "execution_count": 7,
   "id": "f891546e-04b2-4456-b4d5-1e9f9f653fdc",
   "metadata": {},
   "outputs": [
    {
     "data": {
      "image/png": "[encoded data removed]",
      "text/html": [
       "<div style=\"vertical-align: middle;\"><strong>tum_orange_blue</strong> </div><div class=\"cmap\"><img alt=\"tum_orange_blue colormap\" title=\"tum_orange_blue\" style=\"border: 1px solid #555;\" src=\"data:image/png;base64,iVBORw0KGgoAAAANSUhEUgAAAgAAAABACAYAAABsv8+/AAAAHnRFWHRUaXRsZQB0dW1fb3JhbmdlX2JsdWUgY29sb3JtYXDqIpipAAAAJHRFWHREZXNjcmlwdGlvbgB0dW1fb3JhbmdlX2JsdWUgY29sb3JtYXAgnnHGAAAAMHRFWHRBdXRob3IATWF0cGxvdGxpYiB2My44LjQsIGh0dHBzOi8vbWF0cGxvdGxpYi5vcmdkzrK0AAAAMnRFWHRTb2Z0d2FyZQBNYXRwbG90bGliIHYzLjguNCwgaHR0cHM6Ly9tYXRwbG90bGliLm9yZ0poLZMAAAHUSURBVHic7dZLTsMwFEBRh72yTNZmBrSVmmLSUj6De84kSkycpzQSdxuvb3OMMbYxx8dxjE/Pt4P18/l2sP5f+x3sc/ay2OeyvpjrZn0313L9fP/25Ppl/uvr22Vlnu6/nuv5937v3/317/3s835prnv3+6PnjcV943J+Os6D9eV3uVif+/X9HNfH2zm/N9dynt1+R3Mdzj0P5r5z3tt5HnzP+7nn59cfnm+3z7fnm7v5FnM/Otfj3+fuuT/1fR6+99U8i/X59frd3+fp+vn/AQAQIgAAIEgAAECQAACAIAEAAEECAACCBAAABAkAAAgSAAAQJAAAIEgAAECQAACAIAEAAEECAACCBAAABAkAAAgSAAAQJAAAIEgAAECQAACAIAEAAEECAACCBAAABAkAAAgSAAAQJAAAIEgAAECQAACAIAEAAEECAACCBAAABAkAAAgSAAAQJAAAIEgAAECQAACAIAEAAEECAACCBAAABAkAAAgSAAAQJAAAIEgAAECQAACAIAEAAEECAACCBAAABAkAAAgSAAAQJAAAIEgAAECQAACAIAEAAEECAACCBAAABAkAAAgSAAAQJAAAIEgAAECQAACAIAEAAEECAACCBAAABL0D1huq9hb1rQgAAAAASUVORK5CYII=\"></div><div style=\"vertical-align: middle; max-width: 514px; display: flex; justify-content: space-between;\"><div style=\"float: left;\"><div title=\"#0065bdff\" style=\"display: inline-block; width: 1em; height: 1em; margin: 0; vertical-align: middle; border: 1px solid #555; background-color: #0065bdff;\"></div> under</div><div style=\"margin: 0 auto; display: inline-block;\">bad <div title=\"#00000000\" style=\"display: inline-block; width: 1em; height: 1em; margin: 0; vertical-align: middle; border: 1px solid #555; background-color: #00000000;\"></div></div><div style=\"float: right;\">over <div title=\"#e37222ff\" style=\"display: inline-block; width: 1em; height: 1em; margin: 0; vertical-align: middle; border: 1px solid #555; background-color: #e37222ff;\"></div></div>"
      ],
      "text/plain": [
       "<matplotlib.colors.ListedColormap at 0x1e069ecba90>"
      ]
     },
     "execution_count": 7,
     "metadata": {},
     "output_type": "execute_result"
    }
   ],
   "source": [
    "tum_cmap = ColorMaps.blue_orange_tum(grayscale=0.5)\n",
    "colors = tum_cmap(np.linspace(0,1, 5))\n",
    "tum_cmap"
   ]
  },
  {
   "cell_type": "code",
   "execution_count": 8,
   "id": "10ecbddb-f80b-4f6c-815a-5e0783fefbf4",
   "metadata": {},
   "outputs": [],
   "source": [
    "def filter_func_preprocess(signal):\n",
    "    perc_filter = 1/100 * len(signal) #% filter\n",
    "    filtered_signal = FilterMethods().rolling_mean_df(signal,window_size=FilterMethods().round_to_next_odd_number(perc_filter))\n",
    "    #filtered_signal = FilterMethods().savgol(signal,window_size=FilterMethods().round_to_next_odd_number(perc_filter * len(signal)))\n",
    "    return filtered_signal"
   ]
  },
  {
   "cell_type": "code",
   "execution_count": 9,
   "id": "5e3e89ed-c7bb-4ab4-860c-4cf62ab6cbb3",
   "metadata": {},
   "outputs": [],
   "source": [
    "read_feather = ReadFeather()\n",
    "read_feather.set_filter_U(filter_func_preprocess)\n",
    "read_feather.set_filter_Q(filter_func_preprocess)"
   ]
  },
  {
   "cell_type": "markdown",
   "id": "96411e3e-75e1-4e36-bf5c-0b168d63706d",
   "metadata": {},
   "source": [
    "## Load vehicle data"
   ]
  },
  {
   "cell_type": "code",
   "execution_count": 11,
   "id": "f0bac78b-b735-455f-aa8d-174257f26d7b",
   "metadata": {},
   "outputs": [
    {
     "name": "stderr",
     "output_type": "stream",
     "text": [
      "H:\\1000-Repositories\\nature_soh\\src\\data\\read_pickle.py:61: SettingWithCopyWarning: \n",
      "A value is trying to be set on a copy of a slice from a DataFrame.\n",
      "Try using .loc[row_indexer,col_indexer] = value instead\n",
      "\n",
      "See the caveats in the documentation: https://pandas.pydata.org/pandas-docs/stable/user_guide/indexing.html#returning-a-view-versus-a-copy\n",
      "  df[\"Q\"] = df[\"Q\"]-df[\"Q\"].iloc[0] # reset Q counter\n",
      "H:\\1000-Repositories\\nature_soh\\src\\data\\read_pickle.py:62: SettingWithCopyWarning: \n",
      "A value is trying to be set on a copy of a slice from a DataFrame.\n",
      "Try using .loc[row_indexer,col_indexer] = value instead\n",
      "\n",
      "See the caveats in the documentation: https://pandas.pydata.org/pandas-docs/stable/user_guide/indexing.html#returning-a-view-versus-a-copy\n",
      "  df[\"E\"] = df[\"E\"]-df[\"E\"].iloc[0] # reset E counter\n",
      "H:\\1000-Repositories\\nature_soh\\src\\data\\read_pickle.py:61: SettingWithCopyWarning: \n",
      "A value is trying to be set on a copy of a slice from a DataFrame.\n",
      "Try using .loc[row_indexer,col_indexer] = value instead\n",
      "\n",
      "See the caveats in the documentation: https://pandas.pydata.org/pandas-docs/stable/user_guide/indexing.html#returning-a-view-versus-a-copy\n",
      "  df[\"Q\"] = df[\"Q\"]-df[\"Q\"].iloc[0] # reset Q counter\n",
      "H:\\1000-Repositories\\nature_soh\\src\\data\\read_pickle.py:62: SettingWithCopyWarning: \n",
      "A value is trying to be set on a copy of a slice from a DataFrame.\n",
      "Try using .loc[row_indexer,col_indexer] = value instead\n",
      "\n",
      "See the caveats in the documentation: https://pandas.pydata.org/pandas-docs/stable/user_guide/indexing.html#returning-a-view-versus-a-copy\n",
      "  df[\"E\"] = df[\"E\"]-df[\"E\"].iloc[0] # reset E counter\n"
     ]
    }
   ],
   "source": [
    "df_taycan =  read_feather.read(os.path.join(GeneralConfig.path2data.value,\"Taycan\",\"Taycan_JB_13A_CEE7_C36.feather\"), lower_voltage=650, upper_voltage=830)\n",
    "df_taycan_aged =  read_feather.read(os.path.join(GeneralConfig.path2data.value,\"Taycan\",\"Porsche_Taycan_JB_10A_CEE7_AMS.feather\"),lower_voltage=650, upper_voltage=830)"
   ]
  },
  {
   "cell_type": "code",
   "execution_count": 12,
   "id": "b840e97b-cafe-4f27-a79a-efbe95f36d61",
   "metadata": {},
   "outputs": [
    {
     "name": "stderr",
     "output_type": "stream",
     "text": [
      "H:\\1000-Repositories\\nature_soh\\src\\data\\read_pickle.py:61: SettingWithCopyWarning: \n",
      "A value is trying to be set on a copy of a slice from a DataFrame.\n",
      "Try using .loc[row_indexer,col_indexer] = value instead\n",
      "\n",
      "See the caveats in the documentation: https://pandas.pydata.org/pandas-docs/stable/user_guide/indexing.html#returning-a-view-versus-a-copy\n",
      "  df[\"Q\"] = df[\"Q\"]-df[\"Q\"].iloc[0] # reset Q counter\n",
      "H:\\1000-Repositories\\nature_soh\\src\\data\\read_pickle.py:62: SettingWithCopyWarning: \n",
      "A value is trying to be set on a copy of a slice from a DataFrame.\n",
      "Try using .loc[row_indexer,col_indexer] = value instead\n",
      "\n",
      "See the caveats in the documentation: https://pandas.pydata.org/pandas-docs/stable/user_guide/indexing.html#returning-a-view-versus-a-copy\n",
      "  df[\"E\"] = df[\"E\"]-df[\"E\"].iloc[0] # reset E counter\n",
      "H:\\1000-Repositories\\nature_soh\\src\\data\\read_pickle.py:61: SettingWithCopyWarning: \n",
      "A value is trying to be set on a copy of a slice from a DataFrame.\n",
      "Try using .loc[row_indexer,col_indexer] = value instead\n",
      "\n",
      "See the caveats in the documentation: https://pandas.pydata.org/pandas-docs/stable/user_guide/indexing.html#returning-a-view-versus-a-copy\n",
      "  df[\"Q\"] = df[\"Q\"]-df[\"Q\"].iloc[0] # reset Q counter\n",
      "H:\\1000-Repositories\\nature_soh\\src\\data\\read_pickle.py:62: SettingWithCopyWarning: \n",
      "A value is trying to be set on a copy of a slice from a DataFrame.\n",
      "Try using .loc[row_indexer,col_indexer] = value instead\n",
      "\n",
      "See the caveats in the documentation: https://pandas.pydata.org/pandas-docs/stable/user_guide/indexing.html#returning-a-view-versus-a-copy\n",
      "  df[\"E\"] = df[\"E\"]-df[\"E\"].iloc[0] # reset E counter\n"
     ]
    }
   ],
   "source": [
    "df_vw = read_feather.read(os.path.join(GeneralConfig.path2data.value,\"VW\",\"VW_ID3_JB_8A_C40_2021.feather\"), lower_voltage=360, upper_voltage=450)\n",
    "df_vw_aged = read_feather.read(os.path.join(GeneralConfig.path2data.value,\"VW\",\"VW_ID3_JB_8A_C40_2024.feather\"), lower_voltage=360, upper_voltage=450)"
   ]
  },
  {
   "cell_type": "code",
   "execution_count": 13,
   "id": "862ca516-e8b9-403f-929b-ad83a4205d6c",
   "metadata": {},
   "outputs": [
    {
     "name": "stderr",
     "output_type": "stream",
     "text": [
      "H:\\1000-Repositories\\nature_soh\\src\\data\\read_pickle.py:61: SettingWithCopyWarning: \n",
      "A value is trying to be set on a copy of a slice from a DataFrame.\n",
      "Try using .loc[row_indexer,col_indexer] = value instead\n",
      "\n",
      "See the caveats in the documentation: https://pandas.pydata.org/pandas-docs/stable/user_guide/indexing.html#returning-a-view-versus-a-copy\n",
      "  df[\"Q\"] = df[\"Q\"]-df[\"Q\"].iloc[0] # reset Q counter\n",
      "H:\\1000-Repositories\\nature_soh\\src\\data\\read_pickle.py:62: SettingWithCopyWarning: \n",
      "A value is trying to be set on a copy of a slice from a DataFrame.\n",
      "Try using .loc[row_indexer,col_indexer] = value instead\n",
      "\n",
      "See the caveats in the documentation: https://pandas.pydata.org/pandas-docs/stable/user_guide/indexing.html#returning-a-view-versus-a-copy\n",
      "  df[\"E\"] = df[\"E\"]-df[\"E\"].iloc[0] # reset E counter\n",
      "H:\\1000-Repositories\\nature_soh\\src\\data\\read_pickle.py:61: SettingWithCopyWarning: \n",
      "A value is trying to be set on a copy of a slice from a DataFrame.\n",
      "Try using .loc[row_indexer,col_indexer] = value instead\n",
      "\n",
      "See the caveats in the documentation: https://pandas.pydata.org/pandas-docs/stable/user_guide/indexing.html#returning-a-view-versus-a-copy\n",
      "  df[\"Q\"] = df[\"Q\"]-df[\"Q\"].iloc[0] # reset Q counter\n",
      "H:\\1000-Repositories\\nature_soh\\src\\data\\read_pickle.py:62: SettingWithCopyWarning: \n",
      "A value is trying to be set on a copy of a slice from a DataFrame.\n",
      "Try using .loc[row_indexer,col_indexer] = value instead\n",
      "\n",
      "See the caveats in the documentation: https://pandas.pydata.org/pandas-docs/stable/user_guide/indexing.html#returning-a-view-versus-a-copy\n",
      "  df[\"E\"] = df[\"E\"]-df[\"E\"].iloc[0] # reset E counter\n"
     ]
    }
   ],
   "source": [
    "df_teslaY = read_feather.read(os.path.join(GeneralConfig.path2data.value,\"Tesla\",\"Tesla_Model_Y_JB_8A_CEE7_Miles_2025.feather\"), lower_voltage=300, upper_voltage=400)\n",
    "#df_teslaY_aged = read_feather.read(os.path.join(GeneralConfig.path2data.value,\"Tesla\",\"Tesla_Model_Y_JB_8A_CEE7_C40_2024.feather\"), lower_voltage=300, upper_voltage=400)\n",
    "df_teslaY_aged = read_feather.read(os.path.join(GeneralConfig.path2data.value,\"Tesla\",\"Tesla_Model_3_JB_8A_CEE7_2024_Tom_Winkler.feather\"), lower_voltage=300, upper_voltage=400)"
   ]
  },
  {
   "cell_type": "code",
   "execution_count": 14,
   "id": "a81ae131-e445-4a03-91c3-818427e49524",
   "metadata": {},
   "outputs": [
    {
     "name": "stderr",
     "output_type": "stream",
     "text": [
      "H:\\1000-Repositories\\nature_soh\\src\\data\\read_pickle.py:61: SettingWithCopyWarning: \n",
      "A value is trying to be set on a copy of a slice from a DataFrame.\n",
      "Try using .loc[row_indexer,col_indexer] = value instead\n",
      "\n",
      "See the caveats in the documentation: https://pandas.pydata.org/pandas-docs/stable/user_guide/indexing.html#returning-a-view-versus-a-copy\n",
      "  df[\"Q\"] = df[\"Q\"]-df[\"Q\"].iloc[0] # reset Q counter\n",
      "H:\\1000-Repositories\\nature_soh\\src\\data\\read_pickle.py:62: SettingWithCopyWarning: \n",
      "A value is trying to be set on a copy of a slice from a DataFrame.\n",
      "Try using .loc[row_indexer,col_indexer] = value instead\n",
      "\n",
      "See the caveats in the documentation: https://pandas.pydata.org/pandas-docs/stable/user_guide/indexing.html#returning-a-view-versus-a-copy\n",
      "  df[\"E\"] = df[\"E\"]-df[\"E\"].iloc[0] # reset E counter\n"
     ]
    }
   ],
   "source": [
    "df_tesla_aged = read_feather.read(os.path.join(GeneralConfig.path2data.value,\"Tesla\",\"Tesla_JB_6A_CEE7_C57_2025.feather\"), lower_voltage=335, upper_voltage=365)"
   ]
  },
  {
   "cell_type": "code",
   "execution_count": 15,
   "id": "0e89fe5a-ce38-4333-a6b8-611b27716df8",
   "metadata": {},
   "outputs": [],
   "source": [
    "## the sharp voltage increased of LFP cells can be filtered out, if the windowsize is too wide\n",
    "def filter_func_preprocess_tesla(signal):\n",
    "    perc_filter = 0.1/100 * len(signal) #% filter\n",
    "    filtered_signal = FilterMethods().rolling_mean_df(signal,window_size=FilterMethods().round_to_next_odd_number(perc_filter))\n",
    "    #filtered_signal = FilterMethods().savgol(signal,window_size=FilterMethods().round_to_next_odd_number(perc_filter * len(signal)))\n",
    "    return filtered_signal"
   ]
  },
  {
   "cell_type": "code",
   "execution_count": 16,
   "id": "4cf1898a-635e-45c8-8959-6cc757a73134",
   "metadata": {},
   "outputs": [],
   "source": [
    "read_feather.set_filter_U(filter_func_preprocess_tesla)\n",
    "read_feather.set_filter_Q(filter_func_preprocess_tesla)"
   ]
  },
  {
   "cell_type": "code",
   "execution_count": 17,
   "id": "5955ac91-8b75-4f83-a985-d9d76c2d94cb",
   "metadata": {},
   "outputs": [
    {
     "name": "stderr",
     "output_type": "stream",
     "text": [
      "H:\\1000-Repositories\\nature_soh\\src\\data\\read_pickle.py:61: SettingWithCopyWarning: \n",
      "A value is trying to be set on a copy of a slice from a DataFrame.\n",
      "Try using .loc[row_indexer,col_indexer] = value instead\n",
      "\n",
      "See the caveats in the documentation: https://pandas.pydata.org/pandas-docs/stable/user_guide/indexing.html#returning-a-view-versus-a-copy\n",
      "  df[\"Q\"] = df[\"Q\"]-df[\"Q\"].iloc[0] # reset Q counter\n",
      "H:\\1000-Repositories\\nature_soh\\src\\data\\read_pickle.py:62: SettingWithCopyWarning: \n",
      "A value is trying to be set on a copy of a slice from a DataFrame.\n",
      "Try using .loc[row_indexer,col_indexer] = value instead\n",
      "\n",
      "See the caveats in the documentation: https://pandas.pydata.org/pandas-docs/stable/user_guide/indexing.html#returning-a-view-versus-a-copy\n",
      "  df[\"E\"] = df[\"E\"]-df[\"E\"].iloc[0] # reset E counter\n"
     ]
    }
   ],
   "source": [
    "df_tesla = read_feather.read(os.path.join(GeneralConfig.path2data.value,\"Tesla\",\"Tesla_JB_6A_CEE7_C57_2021.feather\"), lower_voltage=335, upper_voltage=365)\n",
    "#df_tesla_aged = read_feather.read(os.path.join(GeneralConfig.path2data.value,\"Tesla\",\"Tesla_JB_6A_CEE7_C57_2022.feather\"), lower_voltage=335, upper_voltage=365)"
   ]
  },
  {
   "cell_type": "markdown",
   "id": "b49179ed-395d-4dc6-94f7-783dd0815005",
   "metadata": {
    "tags": []
   },
   "source": [
    "### DVA"
   ]
  },
  {
   "cell_type": "code",
   "execution_count": 19,
   "id": "cfc837c8-23b6-4345-ab6a-231084ee9f5a",
   "metadata": {},
   "outputs": [],
   "source": [
    "def filter_func_v(signal):\n",
    "    perc_filter = 1 #% filter\n",
    "    filtered_signal = FilterMethods().rolling_mean_numpy(signal,window_size=FilterMethods().round_to_next_odd_number(perc_filter/100 * len(signal)))\n",
    "    filtered_signal_reverse = FilterMethods().rolling_mean_numpy(np.flip(signal),window_size=FilterMethods().round_to_next_odd_number(perc_filter/100 * len(signal)))\n",
    "    return (filtered_signal+np.flip(filtered_signal_reverse))/2"
   ]
  },
  {
   "cell_type": "code",
   "execution_count": 20,
   "id": "186bf4b6-3617-4acf-afde-7440b6af8f98",
   "metadata": {},
   "outputs": [],
   "source": [
    "dva_extractor = DVA()\n",
    "dva_extractor.set_filter(filter_func_v)"
   ]
  },
  {
   "cell_type": "code",
   "execution_count": 21,
   "id": "717a20df-ee10-4aaf-97c5-32cf6ff532ca",
   "metadata": {},
   "outputs": [],
   "source": [
    "dva_taycan, cap_taycan = dva_extractor.get_dva(time=df_taycan[\"time_h\"], capacity=df_taycan[\"Q\"], voltage=df_taycan[\"U\"],crop_cap_Ah=(0,200))\n",
    "dva_taycan_aged, cap_taycan_aged = dva_extractor.get_dva(time=df_taycan_aged[\"time_h\"], capacity=df_taycan_aged[\"Q\"], voltage=df_taycan_aged[\"U\"],crop_cap_Ah=(0,200))"
   ]
  },
  {
   "cell_type": "code",
   "execution_count": 22,
   "id": "21287db9-c695-4472-9f46-4f6bb92ea493",
   "metadata": {},
   "outputs": [],
   "source": [
    "dva_vw, cap_vw = dva_extractor.get_dva(time=df_vw[\"time_h\"], capacity=df_vw[\"Q\"], voltage=df_vw[\"U\"],crop_cap_Ah=(0,200))\n",
    "dva_vw_aged, cap_vw_aged = dva_extractor.get_dva(time=df_vw_aged[\"time_h\"], capacity=df_vw_aged[\"Q\"], voltage=df_vw_aged[\"U\"],crop_cap_Ah=(0,200))"
   ]
  },
  {
   "cell_type": "code",
   "execution_count": 23,
   "id": "2b1714ca-1d73-494b-9cdd-457823a01125",
   "metadata": {},
   "outputs": [
    {
     "name": "stderr",
     "output_type": "stream",
     "text": [
      "H:\\1000-Repositories\\nature_soh\\src\\voltage_capacity_analysis\\vca_base.py:21: RuntimeWarning: divide by zero encountered in divide\n",
      "  return np.gradient(signal) / np.gradient(time)\n",
      "H:\\1000-Repositories\\nature_soh\\src\\voltage_capacity_analysis\\dva.py:31: RuntimeWarning: invalid value encountered in divide\n",
      "  dva = np.divide(diff_voltage, diff_cap)  # (dU*dt)/(dQ*dt) = dU/dQ\n"
     ]
    }
   ],
   "source": [
    "dva_tesla, cap_tesla = dva_extractor.get_dva(time=df_tesla[\"time_h\"], capacity=df_tesla[\"Q\"], voltage=df_tesla[\"U\"],crop_cap_Ah=(1,220))\n",
    "dva_tesla_aged, cap_tesla_aged = dva_extractor.get_dva(time=df_tesla_aged[\"time_h\"], capacity=df_tesla_aged[\"Q\"], voltage=df_tesla_aged[\"U\"],crop_cap_Ah=(1,220))"
   ]
  },
  {
   "cell_type": "code",
   "execution_count": 24,
   "id": "f9f8b981-5f95-46f8-882d-1a1de6cf0786",
   "metadata": {},
   "outputs": [],
   "source": [
    "dva_teslaY, cap_teslaY = dva_extractor.get_dva(time=df_teslaY[\"time_h\"], capacity=df_teslaY[\"Q\"], voltage=df_teslaY[\"U\"],crop_cap_Ah=(1,250))\n",
    "dva_teslaY_aged, cap_teslaY_aged = dva_extractor.get_dva(time=df_teslaY_aged[\"time_h\"], capacity=df_teslaY_aged[\"Q\"], voltage=df_teslaY_aged[\"U\"],crop_cap_Ah=(1,250))"
   ]
  },
  {
   "cell_type": "markdown",
   "id": "4068151d-5a17-4269-afe7-175cffd3bd13",
   "metadata": {},
   "source": [
    "## Figure"
   ]
  },
  {
   "cell_type": "code",
   "execution_count": 26,
   "id": "f10b8a43-8b62-434e-b0a1-078f529433ae",
   "metadata": {},
   "outputs": [],
   "source": [
    "def plot_pocv_vw(axes):\n",
    "    ax2 = axes.twiny()\n",
    "    line1 = axes.plot(df_vw[\"Q\"],df_vw[\"U\"],color=VisualizationConfig.TUMblau.value,linewidth=1.5,label=\"$\\ \\ \\ \\ 400\\,km$\")\n",
    "    line2 = axes.plot(df_vw_aged[\"Q\"],df_vw_aged[\"U\"],color=VisualizationConfig.TUMorange.value,linewidth=1.5,label=\"$40500\\,km$\")\n",
    "    \n",
    "    axes.set_ylabel(r\"Vehicle voltage in V\",fontsize=7)\n",
    "    #axes.yaxis.set_label_coords(-0.05,0.5)\n",
    "    #axes.set_xlabel(\"Charged capacity in Ah\") \n",
    "    axes.set_xlim([0,150])\n",
    "    tick_positions = np.array([0,50,100,150])\n",
    "    axes.set_xticks(tick_positions)\n",
    "    axes.xaxis.set_minor_locator(FixedLocator([25,75,125]))\n",
    "    axes.set_ylim([360,450])\n",
    "    tick_positions = np.array([360,390,420,450])\n",
    "    axes.set_yticks(tick_positions)\n",
    "    axes.tick_params('x', top=False, labeltop=False,bottom=True, labelbottom=False)\n",
    "    axes.tick_params('y', left=True, labelleft=True,right=False, labelright=False)\n",
    "    axes.grid()\n",
    "    axes.set_axisbelow(True)\n",
    "    # secondary x-axes \n",
    "    ax2.plot(df_vw[\"U\"].mean()*(cap_vw)/1000,-10*np.ones(len(cap_vw)),color=\"white\",linewidth=1.5)\n",
    "    ax2.set_xlabel(\"Charged energy in kWh\",fontsize=7)\n",
    "    ax2.set_xlim(np.array([0,150]))\n",
    "    tick_positions = np.array([0,50,100,150])\n",
    "    ax2.set_xticks(tick_positions)\n",
    "    ax2.set_xticklabels([f\"{round(label*df_vw.U.mean()/10000)*10:.0f}\" for label in tick_positions])\n",
    "    ax2.xaxis.set_minor_locator(FixedLocator([25,75,125]))\n",
    "    # legend\n",
    "    patch1 = mlines.Line2D([], [], color='gray', markeredgecolor=\"k\", marker='d', linestyle='None',\n",
    "                          markersize=3, label='stage 2 shift')\n",
    "    patch2 =  mlines.Line2D([], [], color='gray', markeredgecolor=\"k\", marker='o', linestyle='None',\n",
    "                          markersize=3, label='H2 shift')\n",
    "    axes.legend(handles=[line1[0], line2[0], patch1, patch2],loc=\"upper left\",fontsize=5,ncols=2,handletextpad=0.4,handlelength=1.5,\n",
    "               framealpha =1 , fancybox=False,labelspacing=0.2,columnspacing=0.7,edgecolor=\"black\",title=r\"$\\bf{VW\\ ID.3\\ Pro\\ Performance\\ (C/NMC\\,532)}$\",title_fontsize=5,alignment='center')\n",
    "    return axes"
   ]
  },
  {
   "cell_type": "code",
   "execution_count": 27,
   "id": "b2484fcd-348b-46ac-a619-79a5417da67c",
   "metadata": {},
   "outputs": [],
   "source": [
    "def plot_dva_vw(axes):\n",
    "    ax2 = axes.twiny()\n",
    "    axes.plot(cap_vw,dva_vw*2*78,color=VisualizationConfig.TUMblau.value,linewidth=1.5)\n",
    "    axes.plot(cap_vw_aged,dva_vw_aged*2*78,color=VisualizationConfig.TUMorange.value,linewidth=1.5)\n",
    "    \n",
    "    axes.set_ylabel(r\"$Q_{N}\\cdot \\frac{dU}{dQ}$ in V\",fontsize=7)\n",
    "    #axes.yaxis.set_label_coords(-0.05,0.5)\n",
    "    axes.set_xlabel(\"Charged capacity in Ah\",fontsize=7) \n",
    "    axes.set_xlim([0,150])\n",
    "    tick_positions = np.array([0,50,100,150])\n",
    "    axes.set_xticks(tick_positions)\n",
    "    axes.xaxis.set_minor_locator(FixedLocator([25,75,125]))\n",
    "    axes.set_ylim([0,216])\n",
    "    tick_positions = np.array([0,51,108,108+108/2,216])\n",
    "    axes.set_yticks(tick_positions)\n",
    "    #axes.yaxis.set_minor_locator(FixedLocator([54,108+108/2]))\n",
    "    axes.tick_params('x', top=False, labeltop=False,bottom=True, labelbottom=True)\n",
    "    axes.tick_params('y', left=True, labelleft=True,right=False, labelright=False)\n",
    "    axes.grid()\n",
    "    axes.set_axisbelow(True) \n",
    "    # secondary x-axes \n",
    "    ax2.plot(df_vw[\"U\"].mean()*(cap_vw)/1000,-10*np.ones(len(cap_vw)),color=\"white\",linewidth=1.5)\n",
    "    #ax2.set_xlabel(\"Charged energy in kWh\")\n",
    "    ax2.set_xlim(np.array([0,150]))\n",
    "    tick_positions = np.array([0,50,100,150])\n",
    "    ax2.set_xticks(tick_positions)\n",
    "    ax2.set_xticklabels([f\"{round(label*df_vw.U.mean()/10000)*10:.0f}\" for label in tick_positions])\n",
    "    ax2.xaxis.set_minor_locator(FixedLocator([25,75,125]))\n",
    "    ax2.tick_params('x', top=True, labeltop=False,bottom=True, labelbottom=False)\n",
    "    return axes"
   ]
  },
  {
   "cell_type": "code",
   "execution_count": 28,
   "id": "ac0a8fb4-1f0f-42e5-afb6-95ad5f7e498e",
   "metadata": {},
   "outputs": [],
   "source": [
    "def plot_pocv_taycan(axes):\n",
    "    ax2 = axes.twiny()\n",
    "    line1 = axes.plot(df_taycan[\"Q\"],df_taycan[\"U\"],color=VisualizationConfig.TUMblau.value,linewidth=1.5,label=\"$10000\\,km$\")\n",
    "    line2 = axes.plot(df_taycan_aged[\"Q\"],df_taycan_aged[\"U\"],color=VisualizationConfig.TUMorange.value,linewidth=1.5,label=\"$70500\\,km$\")\n",
    "    \n",
    "    axes.set_ylabel(r\"Vehicle voltage in V\",fontsize=7)\n",
    "    #axes.yaxis.set_label_coords(-0.05,0.5)\n",
    "    #axes.set_xlabel(\"Charged capacity in Ah\") \n",
    "    axes.set_xlim([0,120])\n",
    "    tick_positions = np.array([0,40,80,120])\n",
    "    axes.set_xticks(tick_positions)\n",
    "    axes.xaxis.set_minor_locator(FixedLocator([20,60,100]))\n",
    "    axes.set_ylim([650,830])\n",
    "    tick_positions = np.array([650,695,740,785,830])\n",
    "    axes.set_yticks(tick_positions)\n",
    "    axes.tick_params('x', top=False, labeltop=False,bottom=True, labelbottom=False)\n",
    "    axes.tick_params('y', left=True, labelleft=True,right=False, labelright=False)\n",
    "    axes.grid()\n",
    "    axes.set_axisbelow(True)\n",
    "    # secondary x-axes \n",
    "    ax2.plot(df_taycan[\"U\"].mean()*(cap_taycan)/1000,-10*np.ones(len(cap_taycan)),color=\"white\",linewidth=1.5)\n",
    "    ax2.set_xlabel(\"Charged energy in kWh\",fontsize=7)\n",
    "    ax2.set_xlim([0,120])\n",
    "    tick_positions = np.array([0,40,80,120])\n",
    "    ax2.set_xticks(tick_positions)\n",
    "    ax2.set_xticklabels([f\"{round(label*df_taycan.U.mean()/10000)*10:.0f}\" for label in tick_positions])\n",
    "    ax2.xaxis.set_minor_locator(FixedLocator([20,60,100]))\n",
    "    ax2.tick_params('x',which=\"both\", top=True, labeltop=True,bottom=False, labelbottom=False)\n",
    "    # legend\n",
    "    patch1 = mlines.Line2D([], [], color='gray', markeredgecolor=\"k\", marker='d', linestyle='None',\n",
    "                          markersize=3, label='stage 2 shift')\n",
    "    #patch2 =  mlines.Line2D([], [], color='gray', markeredgecolor=\"k\", marker='o', linestyle='None',\n",
    "    #                      markersize=3, label='H2 shift')\n",
    "    axes.legend(handles=[line1[0], line2[0],patch1],loc=\"upper left\",fontsize=5,ncols=2,handletextpad=0.4,handlelength=1.5,\n",
    "               framealpha =1 , fancybox=False,labelspacing=0.2,columnspacing=0.7,edgecolor=\"black\",title=r\"$\\bf{Porsche\\ Taycan\\ (C/NMC\\,622)}$\",title_fontsize=5,alignment='center')\n",
    "    return axes"
   ]
  },
  {
   "cell_type": "code",
   "execution_count": 29,
   "id": "64ce9e67-f31b-4871-8842-e4d9e99abf6b",
   "metadata": {},
   "outputs": [],
   "source": [
    "def plot_dva_taycan(axes):\n",
    "    ax2 = axes.twiny()\n",
    "    axes.plot(cap_taycan,dva_taycan*2*56,color=VisualizationConfig.TUMblau.value,linewidth=1.5)\n",
    "    axes.plot(cap_taycan_aged,dva_taycan_aged*2*56,color=VisualizationConfig.TUMorange.value,linewidth=1.5)\n",
    "    \n",
    "    axes.set_ylabel(r\"$Q_{N}\\cdot \\frac{dU}{dQ}$ in V\")\n",
    "    #axes.yaxis.set_label_coords(-0.05,0.5)\n",
    "    axes.set_xlabel(\"Charged capacity in Ah\") \n",
    "    axes.set_xlim([0,120])\n",
    "    tick_positions = np.array([0,40,80,120])\n",
    "    axes.set_xticks(tick_positions)\n",
    "    axes.xaxis.set_minor_locator(FixedLocator([20,60,100]))\n",
    "    axes.set_ylim([0,198*2])\n",
    "    tick_positions = np.array([0,99,198,297,396])\n",
    "    axes.set_yticks(tick_positions)\n",
    "    #axes.yaxis.set_minor_locator(FixedLocator([99,297]))\n",
    "    axes.tick_params('x',which=\"both\", top=False, labeltop=False,bottom=True, labelbottom=True)\n",
    "    #axes.yaxis.set_minor_locator(FixedLocator([385,435]))\n",
    "    axes.grid()\n",
    "    axes.set_axisbelow(True)\n",
    "    # secondary x-axes \n",
    "    ax2.plot(df_taycan[\"U\"].mean()*(cap_taycan)/1000,-10*np.ones(len(cap_taycan)),color=\"white\",linewidth=1.5)\n",
    "    #ax2.set_xlabel(\"Charged energy in kWh\",fontsize=7)\n",
    "    ax2.set_xlim(np.array([0,120]))\n",
    "    tick_positions =  np.array([0,40,80,120])\n",
    "    ax2.set_xticks(tick_positions)\n",
    "    ax2.set_xticklabels([f\"{round(label*df_taycan.U.mean()/10000)*10:.0f}\" for label in tick_positions])\n",
    "    ax2.xaxis.set_minor_locator(FixedLocator([20,60,100]))\n",
    "    ax2.tick_params('x',which=\"both\", top=True, labeltop=False,bottom=False, labelbottom=False)\n",
    "    return axes"
   ]
  },
  {
   "cell_type": "code",
   "execution_count": 30,
   "id": "20210e86-11ae-4ae5-9d7b-fd1ea18b3f46",
   "metadata": {},
   "outputs": [],
   "source": [
    "def plot_pocv_tesla(axes):\n",
    "    ax2 = axes.twiny()\n",
    "    line1 = axes.plot(df_tesla[\"Q\"],df_tesla[\"U\"],color=VisualizationConfig.TUMblau.value,linewidth=1.5,label=\"$\\ \\ 1000\\,km$\")\n",
    "    line2 = axes.plot(df_tesla_aged[\"Q\"],df_tesla_aged[\"U\"],color=VisualizationConfig.TUMorange.value,linewidth=1.5,label=\"$80100\\,km$\")\n",
    "    \n",
    "    axes.set_ylabel(r\"Vehicle voltage in V\",fontsize=7)\n",
    "    #axes.yaxis.set_label_coords(-0.05,0.5)\n",
    "    #axes.set_xlabel(\"Charged capacity in Ah\") \n",
    "    axes.set_xlim([0,160])\n",
    "    tick_positions = np.array([0,40,80,120,160])\n",
    "    axes.set_xticks(tick_positions)\n",
    "    axes.xaxis.set_minor_locator(FixedLocator([20,60,100,140]))\n",
    "    axes.set_ylim([335,365])\n",
    "    tick_positions = np.array([335,345,355,365])\n",
    "    axes.set_yticks(tick_positions)\n",
    "    axes.tick_params('x', top=False, labeltop=False,bottom=True, labelbottom=False)\n",
    "    axes.tick_params('y', left=True, labelleft=True,right=False, labelright=False)\n",
    "    axes.grid()\n",
    "    axes.set_axisbelow(True)\n",
    "    # secondary x-axes \n",
    "    ax2.plot(df_tesla[\"U\"].mean()*(df_tesla)/1000,-10*np.ones(len(df_tesla)),color=\"white\",linewidth=1.5)\n",
    "    ax2.set_xlabel(\"Charged energy in kWh\",fontsize=7)\n",
    "    ax2.set_xlim([0,160])\n",
    "    tick_positions = np.array([0,40,80,120,160])\n",
    "    ax2.set_xticks(tick_positions)\n",
    "    ax2.set_xticklabels([f\"{round(label*df_tesla.U.mean()/1000)*1:.0f}\" for label in tick_positions[:-1]]+[56])\n",
    "    ax2.xaxis.set_minor_locator(FixedLocator([20,60,100,140]))\n",
    "    ax2.tick_params('x',which=\"both\", top=True, labeltop=True,bottom=False, labelbottom=False)\n",
    "    # legend\n",
    "    patch1 = mlines.Line2D([], [], color='gray', markeredgecolor=\"k\", marker='d', linestyle='None',\n",
    "                          markersize=3, label='stage 2 shift')\n",
    "    #patch2 =  mlines.Line2D([], [], color='gray', markeredgecolor=\"k\", marker='o', linestyle='None',\n",
    "    #                      markersize=3, label='H2 shift')\n",
    "    axes.legend(handles=[line1[0], line2[0],patch1],loc=\"upper left\",fontsize=5,ncols=2,handletextpad=0.4,handlelength=1.5,\n",
    "               framealpha =1 , fancybox=False,labelspacing=0.05,columnspacing=0.7,edgecolor=\"black\",title=r\"$\\bf{Tesla\\ Model\\ 3\\ SR+\\ (C/LFP)}$\",title_fontsize=5,alignment='center')\n",
    "    return axes"
   ]
  },
  {
   "cell_type": "code",
   "execution_count": 31,
   "id": "a0605d92-c1a3-4580-b447-535909bd3118",
   "metadata": {},
   "outputs": [],
   "source": [
    "def plot_dva_tesla(axes):\n",
    "    ax2 = axes.twiny()\n",
    "    axes.plot(cap_tesla,dva_tesla*161,color=VisualizationConfig.TUMblau.value,linewidth=1.5)\n",
    "    axes.plot(cap_tesla_aged,dva_tesla_aged*161,color=VisualizationConfig.TUMorange.value,linewidth=1.5)\n",
    "    \n",
    "    axes.set_ylabel(r\"$Q_{N}\\cdot \\frac{dU}{dQ}$ in V\")\n",
    "    #axes.yaxis.set_label_coords(-0.05,0.5)\n",
    "    axes.set_xlabel(\"Charged capacity in Ah\") \n",
    "    axes.set_xlim([0,160])\n",
    "    tick_positions = np.array([0,40,80,120,160])\n",
    "    axes.set_xticks(tick_positions)\n",
    "    axes.xaxis.set_minor_locator(FixedLocator([20,60,100,140]))\n",
    "    axes.set_ylim([0,106*2])\n",
    "    tick_positions = np.array([0,53,106,159,212])\n",
    "    axes.set_yticks(tick_positions)\n",
    "    #axes.set_ylim([0,106])\n",
    "    #tick_positions = np.array([0,53/2,53,53+53/2,106])\n",
    "    #axes.set_yticks(tick_positions)\n",
    "    #axes.yaxis.set_minor_locator(FixedLocator([53/2,53+53/2]))\n",
    "    axes.grid()\n",
    "    axes.set_axisbelow(True)\n",
    "    # secondary x-axes \n",
    "    ax2.plot(df_tesla[\"U\"].mean()*(cap_tesla)/1000,-10*np.ones(len(cap_tesla)),color=\"white\",linewidth=1.5)\n",
    "   # ax2.set_xlabel(\"Charged energy in kWh\")\n",
    "    ax2.set_xlim([0,160])\n",
    "    tick_positions = np.array([0,40,80,120,160])\n",
    "    ax2.set_xticks(tick_positions)\n",
    "    ax2.set_xticklabels([f\"{round(label*df_tesla.U.mean()/1000)*1:.0f}\" for label in tick_positions])\n",
    "    ax2.xaxis.set_minor_locator(FixedLocator([20,60,100,140]))\n",
    "    ax2.tick_params('x',which=\"both\", top=True, labeltop=False,bottom=False, labelbottom=False)\n",
    "    return axes"
   ]
  },
  {
   "cell_type": "code",
   "execution_count": 32,
   "id": "b1044c59-a0e1-490b-97b1-390d2abdffce",
   "metadata": {},
   "outputs": [],
   "source": [
    "def plot_pocv_teslaY(axes):\n",
    "    ax2 = axes.twiny()\n",
    "    line1 = axes.plot(df_teslaY[\"Q\"],df_teslaY[\"U\"],color=VisualizationConfig.TUMblau.value,linewidth=1.5,label=\"$24800\\,km$\")\n",
    "    line2 = axes.plot(df_teslaY_aged[\"Q\"],df_teslaY_aged[\"U\"],color=VisualizationConfig.TUMorange.value,linewidth=1.5,label=\"$77600\\,km$\")\n",
    "    \n",
    "    axes.set_ylabel(r\"Vehicle voltage in V\",fontsize=7)\n",
    "    #axes.yaxis.set_label_coords(-0.05,0.5)\n",
    "    #axes.set_xlabel(\"Charged capacity in Ah\") \n",
    "    axes.set_xlim([0,220])\n",
    "    tick_positions = np.array([0,55,110,165,220])\n",
    "    axes.set_xticks(tick_positions)\n",
    "    axes.xaxis.set_minor_locator(FixedLocator([22.5,77.5,132.5,187.5]))\n",
    "    axes.set_ylim([300,400])\n",
    "    tick_positions = np.array([300,325,350,375,400])\n",
    "    axes.set_yticks(tick_positions)\n",
    "    axes.tick_params('x', top=False, labeltop=False,bottom=True, labelbottom=False)\n",
    "    axes.tick_params('y', left=True, labelleft=True,right=False, labelright=False)\n",
    "    axes.grid()\n",
    "    axes.set_axisbelow(True)\n",
    "    # secondary x-axes \n",
    "    ax2.plot(df_tesla[\"U\"].mean()*(df_teslaY)/1000,-10*np.ones(len(df_teslaY)),color=\"white\",linewidth=1.5)\n",
    "    ax2.set_xlabel(\"Charged energy in kWh\",fontsize=7)\n",
    "    ax2.set_xlim([0,220])\n",
    "    tick_positions = np.array([0,55,110,165,220])\n",
    "    ax2.set_xticks(tick_positions)\n",
    "    ax2.set_xticklabels([f\"{round(label*df_teslaY.U.mean()/10000)*10:.0f}\" for label in tick_positions])\n",
    "    ax2.xaxis.set_minor_locator(FixedLocator([22.5,77.5,132.5,187.5]))\n",
    "    ax2.tick_params('x',which=\"both\", top=True, labeltop=True,bottom=False, labelbottom=False)\n",
    "    #legend\n",
    "    patch1 = mlines.Line2D([], [], color='gray', markeredgecolor=\"k\", marker='d', linestyle='None',\n",
    "                          markersize=3, label='stage 2 shift')\n",
    "    patch2 =  mlines.Line2D([], [], color='gray', markeredgecolor=\"k\", marker='o', linestyle='None',\n",
    "                          markersize=3, label='H2 shift')\n",
    "    axes.legend(handles=[line1[0], line2[0], patch1, patch2],loc=\"upper left\",fontsize=5,ncols=2,handletextpad=0.4,handlelength=1.5,\n",
    "               framealpha =1 , fancybox=False,labelspacing=0.2,columnspacing=0.7,edgecolor=\"black\",title=r\"$\\bf{Tesla\\ Model\\ Y\\ LR\\ (C/NMC\\,811)}$\",title_fontsize=5,alignment='center')\n",
    "    return axes"
   ]
  },
  {
   "cell_type": "code",
   "execution_count": 33,
   "id": "82490df6-8bfb-489f-a975-c87fc70ca47c",
   "metadata": {},
   "outputs": [],
   "source": [
    "def plot_dva_teslaY(axes):\n",
    "    ax2 = axes.twiny()\n",
    "    axes.plot(cap_teslaY,dva_teslaY*5*46,color=VisualizationConfig.TUMblau.value,linewidth=1.5)\n",
    "    axes.plot(cap_teslaY_aged,dva_teslaY_aged*5*46,color=VisualizationConfig.TUMorange.value,linewidth=1.5)\n",
    "    \n",
    "    axes.set_ylabel(r\"$Q_{N}\\cdot \\frac{dU}{dQ}$ in V\")\n",
    "    #axes.yaxis.set_label_coords(-0.05,0.5)\n",
    "    axes.set_xlabel(\"Charged capacity in Ah\") \n",
    "    axes.set_xlim([0,220])\n",
    "    tick_positions = np.array([0,55,110,165,220])\n",
    "    axes.set_xticks(tick_positions)\n",
    "    axes.xaxis.set_minor_locator(FixedLocator([22.5,77.5,132.5,187.5]))\n",
    "    axes.set_ylim([0,96*2])\n",
    "    tick_positions = np.array([0,48,48*2,144,96*2])\n",
    "    axes.set_yticks(tick_positions)\n",
    "    #axes.yaxis.set_minor_locator(FixedLocator([48,144]))\n",
    "    axes.grid()\n",
    "    axes.set_axisbelow(True)\n",
    "    # secondary x-axes \n",
    "    ax2.plot(df_tesla[\"U\"].mean()*(cap_teslaY)/1000,-10*np.ones(len(cap_teslaY)),color=\"white\",linewidth=1.5)\n",
    "    # ax2.set_xlabel(\"Charged energy in kWh\")\n",
    "    ax2.set_xlim([0,220])\n",
    "    tick_positions = np.array([0,55,110,165,220])\n",
    "    ax2.set_xticks(tick_positions)\n",
    "    ax2.set_xticklabels([f\"{round(label*df_teslaY.U.mean()/10000)*10:.0f}\" for label in tick_positions])\n",
    "    ax2.xaxis.set_minor_locator(FixedLocator([22.5,77.5,132.5,187.5]))\n",
    "    ax2.tick_params('x',which=\"both\", top=True, labeltop=False,bottom=False, labelbottom=False)\n",
    "    return axes"
   ]
  },
  {
   "cell_type": "code",
   "execution_count": 34,
   "id": "9e7b3f9d-8216-4940-9010-37ef3b3a2f92",
   "metadata": {},
   "outputs": [
    {
     "data": {
      "text/plain": [
       "18.5"
      ]
     },
     "execution_count": 34,
     "metadata": {},
     "output_type": "execute_result"
    }
   ],
   "source": [
    "VisualizationConfig.textheight_in_cm_max.value"
   ]
  },
  {
   "cell_type": "markdown",
   "id": "600f9ea0-bfdb-4983-916e-5466ae88beb2",
   "metadata": {},
   "source": [
    "## Features of interest pOCV"
   ]
  },
  {
   "cell_type": "code",
   "execution_count": 36,
   "id": "7a925b44-85c1-496b-a30b-97684ef3c78f",
   "metadata": {},
   "outputs": [],
   "source": [
    "def add_FOI_vw_pocv(axes):\n",
    "    deltaQ = df_vw.Q.max() - df_vw_aged.Q.max()\n",
    "    deltaE = df_vw.E.max() - df_vw_aged.E.max()\n",
    "    rectangle = patches.Rectangle((df_vw_aged.Q.max(),360), deltaQ, 450-360,fc=\"lightgray\",ec=\"lightgray\",alpha=0.7)\n",
    "    axes.add_artist(rectangle)\n",
    "    axes.annotate(f'$\\Delta Q$ = {deltaQ:.1f}$\\,Ah$ | $\\Delta E$ = {deltaE:.1f}$\\,kWh$',\n",
    "                  (0.6, 0.02), xycoords=rectangle,rotation=90, annotation_clip=True,fontsize=5,\n",
    "                 horizontalalignment = \"center\", verticalalignment = \"bottom\")\n",
    "    #axes.annotate(text='', xy=(145,440), xytext=(115,440), arrowprops=dict(arrowstyle='<|-', shrinkA=0, shrinkB=0,facecolor=\"k\"))\n",
    "    #axes.annotate(text=f'$\\Delta Q$ = {deltaQ:.1f}$\\,Ah$'+'\\n'+f'$\\Delta E$ = {deltaE:.1f}$\\,kWh$', xy=(150,420),horizontalalignment=\"right\",verticalalignment=\"bottom\",fontsize=5)#,bbox=dict(boxstyle='square,pad=0',fc='white', ec='none', alpha=0.7))\n",
    "    return axes"
   ]
  },
  {
   "cell_type": "code",
   "execution_count": 37,
   "id": "32e065b6-b017-451e-b500-62031b7c648c",
   "metadata": {},
   "outputs": [],
   "source": [
    "def add_FOI_taycan_pocv(axes):\n",
    "    deltaQ = df_taycan.Q.max() - df_taycan_aged.Q.max()\n",
    "    deltaE = df_taycan.E.max() - df_taycan_aged.E.max()\n",
    "    rectangle = patches.Rectangle((df_taycan_aged.Q.max(),650), deltaQ, 830-650,fc=\"lightgray\",ec=\"lightgray\",alpha=0.7)\n",
    "    axes.add_artist(rectangle)\n",
    "    axes.annotate(f'$\\Delta Q$ = {deltaQ:.1f}$\\,Ah$ | $\\Delta E$ = {deltaE:.1f}$\\,kWh$',\n",
    "                  (0.6, 0.02), xycoords=rectangle,rotation=90, annotation_clip=True,fontsize=5,\n",
    "                 horizontalalignment = \"center\", verticalalignment = \"bottom\")\n",
    "    # axes.annotate(text='', xy=(115,820), xytext=(90,820), arrowprops=dict(arrowstyle='<|-', shrinkA=0, shrinkB=0,facecolor=\"k\"))\n",
    "    # axes.annotate(text=f'$\\Delta Q$ = {deltaQ:.1f}$\\,Ah$'+'\\n'+f'$\\Delta E$ = {deltaE:.1f}$\\,kWh$', xy=(120,785),horizontalalignment=\"right\",verticalalignment=\"bottom\",fontsize=5)#,bbox=dict(boxstyle='square,pad=0',fc='white', ec='none', alpha=0.7))\n",
    "    return axes"
   ]
  },
  {
   "cell_type": "code",
   "execution_count": 38,
   "id": "a96a8a03-f611-486c-96aa-99c0b0ff86a6",
   "metadata": {},
   "outputs": [],
   "source": [
    "def add_FOI_tesla_pocv(axes):\n",
    "    deltaQ = df_tesla.Q.max() - df_tesla_aged.Q.max()\n",
    "    deltaE = df_tesla.E.max() - df_tesla_aged.E.max()\n",
    "    rectangle = patches.Rectangle((df_tesla_aged.Q.max(),335), deltaQ, 365-335,fc=\"lightgray\",ec=\"lightgray\",alpha=0.7)\n",
    "    axes.add_artist(rectangle)\n",
    "    axes.annotate(f'$\\Delta Q$ = {deltaQ:.1f}$\\,Ah$ | $\\Delta E$ = {deltaE:.1f}$\\,kWh$',\n",
    "                  (0.6, 0.02), xycoords=rectangle,rotation=90, annotation_clip=True,fontsize=5,\n",
    "                 horizontalalignment = \"center\", verticalalignment = \"bottom\",bbox=dict(boxstyle='square,pad=0',fc='lightgray', ec='none', alpha=0.6))\n",
    "    # axes.annotate(text='', xy=(159,363), xytext=(140,363), arrowprops=dict(arrowstyle='<|-', shrinkA=0, shrinkB=0,facecolor=\"k\"))\n",
    "    # axes.annotate(text=f'$\\Delta Q$ = {deltaQ:.1f}$\\,Ah$'+'\\n'+f'$\\Delta E$ = {deltaE:.1f}$\\,kWh$', xy=(121,357.5),horizontalalignment=\"left\",verticalalignment=\"bottom\",fontsize=5)#,bbox=dict(boxstyle='square,pad=0',fc='white', ec='none', alpha=0.7))\n",
    "    return axes"
   ]
  },
  {
   "cell_type": "code",
   "execution_count": 39,
   "id": "f9cabde4-a0bb-4118-a1db-a7fd37ebf815",
   "metadata": {},
   "outputs": [],
   "source": [
    "def add_FOI_teslaY_pocv(axes):\n",
    "    deltaQ =  df_teslaY.Q.max() - df_teslaY_aged.Q.max() #\n",
    "    deltaE = df_teslaY.E.max() - df_teslaY_aged.E.max()\n",
    "    rectangle = patches.Rectangle((df_teslaY_aged.Q.max(),300), deltaQ+1, 400-300,fc=\"lightgray\",ec=\"lightgray\",alpha=0.7)\n",
    "    axes.add_artist(rectangle)\n",
    "    axes.annotate(f'$\\Delta Q$ = {deltaQ:.1f}$\\,Ah$ | $\\Delta E$ = {deltaE:.1f}$\\,kWh$',\n",
    "                  (0.6, 0.02), xycoords=rectangle,rotation=90, annotation_clip=True,fontsize=5,\n",
    "                 horizontalalignment = \"center\", verticalalignment = \"bottom\")\n",
    "    # axes.annotate(text='', xy=(195,395), xytext=(155,395), arrowprops=dict(arrowstyle='<|-', shrinkA=0, shrinkB=0,facecolor=\"k\"))\n",
    "    # axes.annotate(text=f'$\\Delta Q$ = {deltaQ:.1f}$\\,Ah$'+'\\n'+f'$\\Delta E$ = {deltaE:.1f}$\\,kWh$', xy=(200,375),horizontalalignment=\"right\",verticalalignment=\"bottom\",fontsize=5)#,bbox=dict(boxstyle='square,pad=0',fc='white', ec='none', alpha=0.7))\n",
    "    return axes"
   ]
  },
  {
   "cell_type": "markdown",
   "id": "ba9b2799-8b9b-4986-966a-81b58881d76e",
   "metadata": {},
   "source": [
    "## Degradation Mode assessment"
   ]
  },
  {
   "cell_type": "code",
   "execution_count": 78,
   "id": "8d72674e-06de-45c1-8a4a-a63c52002fcf",
   "metadata": {},
   "outputs": [
    {
     "name": "stdout",
     "output_type": "stream",
     "text": [
      "Energy I: 59.55\n",
      "Energy II: 57.16\n",
      "Capacity I: 146.63\n",
      "Capacity II: 140.57\n",
      "Total capacity loss = -6.06\n",
      "Q_NE I: 85.62\n",
      "Q_NE II: 85.83\n",
      "LAM_NE = 0.20 Ah\n",
      "Q_PE I: 13.29\n",
      "Q_PE II: 12.02\n",
      "LAM_PE = -1.26\n",
      "Q_B I: 61.01\n",
      "Q_B II: 54.75\n",
      "dQB= -6.27\n",
      "LLI = -5.00\n"
     ]
    }
   ],
   "source": [
    "def DMs_vw_dva():\n",
    "    print(f\"Energy I: {np.max(df_vw.E):.2f}\")\n",
    "    print(f\"Energy II: {np.max(df_vw_aged.E):.2f}\")\n",
    "    total_cap_loss = np.max(cap_vw_aged)-np.max(cap_vw)\n",
    "    print(f\"Capacity I: {np.max(cap_vw):.2f}\")\n",
    "    print(f\"Capacity II: {np.max(cap_vw_aged):.2f}\")\n",
    "    print(f\"Total capacity loss = {total_cap_loss:.2f}\")\n",
    "    #anode\n",
    "    stage_2_init_dva =np.max(dva_vw[cap_vw>80])\n",
    "    stage_2_init_cap =cap_vw[dva_vw==stage_2_init_dva]\n",
    "    \n",
    "    stage_2_aged_dva =np.max(dva_vw_aged[cap_vw_aged>80])\n",
    "    stage_2_aged_cap =cap_vw_aged[dva_vw_aged==stage_2_aged_dva]\n",
    "\n",
    "    delta_stage_2 = stage_2_aged_cap.values[0]-stage_2_init_cap.values[0]\n",
    "    print(f\"Q_NE I: {stage_2_init_cap.values[0]:.2f}\")\n",
    "    print(f\"Q_NE II: {stage_2_aged_cap.values[0]:.2f}\")\n",
    "    print(f\"LAM_NE = {delta_stage_2:.2f} Ah\")\n",
    "    # cathode\n",
    "    c_init_dva =np.max(dva_vw[(cap_vw>120)&(cap_vw<140)])\n",
    "    c_init_cap =cap_vw[dva_vw==c_init_dva]\n",
    "    \n",
    "    c_aged_dva =np.max(dva_vw_aged[(cap_vw_aged>120)&(cap_vw_aged<130)])\n",
    "    c_aged_cap =cap_vw_aged[dva_vw_aged==c_aged_dva]\n",
    "    delta_H_2 = (np.max(cap_vw_aged)-c_aged_cap.values[0])-(np.max(cap_vw)-c_init_cap.values[0])\n",
    "    print(f\"Q_PE I: {(np.max(cap_vw)-c_init_cap.values[0]):.2f}\")\n",
    "    print(f\"Q_PE II: {(np.max(cap_vw_aged)-c_aged_cap.values[0]):.2f}\")\n",
    "    print(f\"LAM_PE = {delta_H_2:.2f}\")\n",
    "    # LLI\n",
    "    dQB =  (np.max(cap_vw_aged)-stage_2_aged_cap.values[0])-(np.max(cap_vw)-stage_2_init_cap.values[0])\n",
    "    print(f\"Q_B I: {(np.max(cap_vw)-stage_2_init_cap.values[0]):.2f}\")\n",
    "    print(f\"Q_B II: {(np.max(cap_vw_aged)-stage_2_aged_cap.values[0]):.2f}\")\n",
    "    print(f\"dQB= {dQB:.2f}\")\n",
    "    delta_LLI = dQB - delta_H_2\n",
    "    print(f\"LLI = {delta_LLI:.2f}\")\n",
    "    return {\"stage_2_init_dva\":stage_2_init_dva,\n",
    "           \"stage_2_init_cap\":stage_2_init_cap,\n",
    "           \"stage_2_aged_dva\":stage_2_aged_dva,\n",
    "           \"stage_2_aged_cap\":stage_2_aged_cap,\n",
    "           \"c_init_dva\":c_init_dva,\n",
    "           \"c_init_cap\":c_init_cap,\n",
    "           \"c_aged_dva\":c_aged_dva,\n",
    "           \"c_aged_cap\":c_aged_cap}\n",
    "scatter_dict_vw=DMs_vw_dva()"
   ]
  },
  {
   "cell_type": "code",
   "execution_count": 86,
   "id": "b4bcaecc-e2dd-4b01-ac7c-a736d25f43cf",
   "metadata": {},
   "outputs": [
    {
     "name": "stdout",
     "output_type": "stream",
     "text": [
      "Energy I: 82.65\n",
      "Energy II: 79.31\n",
      "Capacity I: 111.68\n",
      "Capacity II: 106.62\n",
      "Total capacity loss = -5.06\n",
      "Q_NE I: 69.07\n",
      "Q_NE II: 69.42\n",
      "LAM_NE = 0.35 Ah\n",
      "Q_PE I: 0\n",
      "Q_PE II: 0\n",
      "LAM_PE = 0.00\n",
      "Q_B I: 42.61\n",
      "Q_B II: 37.20\n",
      "dQB= -5.41\n",
      "LLI = -5.41\n"
     ]
    }
   ],
   "source": [
    "def DMs_taycan_dva():\n",
    "    print(f\"Energy I: {np.max(df_taycan.E):.2f}\")\n",
    "    print(f\"Energy II: {np.max(df_taycan_aged.E):.2f}\")\n",
    "    total_cap_loss = np.max(cap_taycan_aged)-np.max(cap_taycan)\n",
    "    print(f\"Capacity I: {np.max(cap_taycan):.2f}\")\n",
    "    print(f\"Capacity II: {np.max(cap_taycan_aged):.2f}\")\n",
    "    print(f\"Total capacity loss = {total_cap_loss:.2f}\")\n",
    "    #anode\n",
    "    stage_2_init_dva =np.max(dva_taycan[cap_taycan>60])\n",
    "    stage_2_init_cap =cap_taycan[dva_taycan==stage_2_init_dva]\n",
    "    \n",
    "    stage_2_aged_dva =np.max(dva_taycan_aged[cap_taycan_aged>60])\n",
    "    stage_2_aged_cap =cap_taycan_aged[dva_taycan_aged==stage_2_aged_dva]\n",
    "\n",
    "    delta_stage_2 = stage_2_aged_cap.values[0]-stage_2_init_cap.values[0]\n",
    "    print(f\"Q_NE I: {stage_2_init_cap.values[0]:.2f}\")\n",
    "    print(f\"Q_NE II: {stage_2_aged_cap.values[0]:.2f}\")\n",
    "    print(f\"LAM_NE = {delta_stage_2:.2f} Ah\")\n",
    "    # cathode # cannot be determined\n",
    "    c_init_dva = 0 #np.max(dva_taycan[(cap_taycan>80)&(cap_taycan<100)])\n",
    "    c_init_cap = 0 #cap_taycan[dva_taycan==c_init_dva]\n",
    "    \n",
    "    c_aged_dva = 0 #np.max(dva_taycan_aged[(cap_taycan_aged>80)&(cap_taycan_aged<100)])\n",
    "    c_aged_cap = 0 #cap_taycan_aged[dva_taycan_aged==c_aged_dva]\n",
    "    delta_H_2 = 0#(np.max(cap_taycan_aged)-c_aged_cap.values[0])-(np.max(cap_taycan)-c_init_cap.values[0])\n",
    "    print(f\"Q_PE I: {0}\")\n",
    "    print(f\"Q_PE II: {0}\")\n",
    "    print(f\"LAM_PE = {delta_H_2:.2f}\")\n",
    "    # LLI\n",
    "    dQB =  (np.max(cap_taycan_aged)-stage_2_aged_cap.values[0])-(np.max(cap_taycan)-stage_2_init_cap.values[0])\n",
    "    print(f\"Q_B I: {(np.max(cap_taycan)-stage_2_init_cap.values[0]):.2f}\")\n",
    "    print(f\"Q_B II: {(np.max(cap_taycan_aged)-stage_2_aged_cap.values[0]):.2f}\")\n",
    "    print(f\"dQB= {dQB:.2f}\")\n",
    "    delta_LLI = dQB - delta_H_2\n",
    "    print(f\"LLI = {delta_LLI:.2f}\")\n",
    "    return {\"stage_2_init_dva\":stage_2_init_dva,\n",
    "           \"stage_2_init_cap\":stage_2_init_cap,\n",
    "           \"stage_2_aged_dva\":stage_2_aged_dva,\n",
    "           \"stage_2_aged_cap\":stage_2_aged_cap,\n",
    "           \"c_init_dva\":c_init_dva,\n",
    "           \"c_init_cap\":c_init_cap,\n",
    "           \"c_aged_dva\":c_aged_dva,\n",
    "           \"c_aged_cap\":c_aged_cap}\n",
    "scatter_dict_taycan = DMs_taycan_dva()"
   ]
  },
  {
   "cell_type": "code",
   "execution_count": 81,
   "id": "2d1c94be-34e8-4c0f-9b39-ab9a94052703",
   "metadata": {},
   "outputs": [
    {
     "name": "stdout",
     "output_type": "stream",
     "text": [
      "Energy I: 56.41\n",
      "Energy II: 51.61\n",
      "Capacity I: 159.71\n",
      "Capacity II: 146.77\n",
      "Total capacity loss = -12.95\n",
      "Q_NE I: 93.15\n",
      "Q_NE II: 91.73\n",
      "LAM_NE = -1.42 Ah\n",
      "Q_PE I: 0\n",
      "Q_PE II: 0\n",
      "LAM_PE = 0.00\n",
      "Q_B I: 66.56\n",
      "Q_B II: 55.03\n",
      "dQB= -11.53\n",
      "LLI = -11.53\n"
     ]
    }
   ],
   "source": [
    "def DMs_tesla_dva():\n",
    "    print(f\"Energy I: {np.max(df_tesla.E):.2f}\")\n",
    "    print(f\"Energy II: {np.max(df_tesla_aged.E):.2f}\")\n",
    "    total_cap_loss = np.max(cap_tesla_aged)-np.max(cap_tesla)\n",
    "    print(f\"Capacity I: {np.max(cap_tesla):.2f}\")\n",
    "    print(f\"Capacity II: {np.max(cap_tesla_aged):.2f}\")\n",
    "    print(f\"Total capacity loss = {total_cap_loss:.2f}\")\n",
    "    #anode\n",
    "    stage_2_init_dva =np.max(dva_tesla[(cap_tesla>80)&(cap_tesla<100)])\n",
    "    stage_2_init_cap =cap_tesla[dva_tesla==stage_2_init_dva]\n",
    "    \n",
    "    stage_2_aged_dva =np.max(dva_tesla_aged[(cap_tesla_aged>80)&(cap_tesla_aged<100)])\n",
    "    stage_2_aged_cap =cap_tesla_aged[dva_tesla_aged==stage_2_aged_dva]\n",
    "\n",
    "    delta_stage_2 = stage_2_aged_cap.values[0]-stage_2_init_cap.values[0]\n",
    "    print(f\"Q_NE I: {stage_2_init_cap.values[0]:.2f}\")\n",
    "    print(f\"Q_NE II: {stage_2_aged_cap.values[0]:.2f}\")\n",
    "    print(f\"LAM_NE = {delta_stage_2:.2f} Ah\")\n",
    "    # cathode # no PE feature for LFP cells\n",
    "    c_init_dva = 0 #np.max(dva_tesla[(cap_tesla>80)&(cap_tesla<100)])\n",
    "    c_init_cap = 0 #cap_tesla[dva_tesla==c_init_dva]\n",
    "    \n",
    "    c_aged_dva = 0 #np.max(dva_tesla_aged[(cap_tesla_aged>80)&(cap_tesla_aged<100)])\n",
    "    c_aged_cap = 0 #cap_tesla_aged[dva_tesla_aged==c_aged_dva]\n",
    "    delta_H_2 = 0 #(np.max(cap_tesla_aged)-c_aged_cap.values[0])-(np.max(cap_tesla)-c_init_cap.values[0])\n",
    "    print(f\"Q_PE I: {0}\")\n",
    "    print(f\"Q_PE II: {0}\")\n",
    "    print(f\"LAM_PE = {delta_H_2:.2f}\")\n",
    "    # LLI\n",
    "    dQB =  (np.max(cap_tesla_aged)-stage_2_aged_cap.values[0])-(np.max(cap_tesla)-stage_2_init_cap.values[0])\n",
    "    print(f\"Q_B I: {(np.max(cap_tesla)-stage_2_init_cap.values[0]):.2f}\")\n",
    "    print(f\"Q_B II: {(np.max(cap_tesla_aged)-stage_2_aged_cap.values[0]):.2f}\")\n",
    "    print(f\"dQB= {dQB:.2f}\")\n",
    "    delta_LLI = dQB - delta_H_2\n",
    "    print(f\"LLI = {delta_LLI:.2f}\")\n",
    "    return {\"stage_2_init_dva\":stage_2_init_dva,\n",
    "           \"stage_2_init_cap\":stage_2_init_cap,\n",
    "           \"stage_2_aged_dva\":stage_2_aged_dva,\n",
    "           \"stage_2_aged_cap\":stage_2_aged_cap,\n",
    "           \"c_init_dva\":c_init_dva,\n",
    "           \"c_init_cap\":c_init_cap,\n",
    "           \"c_aged_dva\":c_aged_dva,\n",
    "           \"c_aged_cap\":c_aged_cap}\n",
    "scatter_dict_tesla = DMs_tesla_dva()"
   ]
  },
  {
   "cell_type": "code",
   "execution_count": 84,
   "id": "0db633dc-e8f8-4b6a-a0b7-cc6e519c1f9c",
   "metadata": {},
   "outputs": [
    {
     "name": "stdout",
     "output_type": "stream",
     "text": [
      "Energy I: 75.42\n",
      "Energy II: 74.22\n",
      "Capacity I: 207.91\n",
      "Capacity II: 205.21\n",
      "Total capacity loss = -2.70\n",
      "Q_NE I: 116.82\n",
      "Q_NE II: 114.66\n",
      "LAM_NE = -2.16 Ah\n",
      "Q_PE I: 50.52\n",
      "Q_PE II: 50.32\n",
      "LAM_PE = -0.20\n",
      "Q_B I: 91.09\n",
      "Q_B II: 90.55\n",
      "dQB= -0.54\n",
      "LLI = -0.34\n"
     ]
    }
   ],
   "source": [
    "def DMs_teslaY_dva():\n",
    "    print(f\"Energy I: {np.max(df_teslaY.E):.2f}\")\n",
    "    print(f\"Energy II: {np.max(df_teslaY_aged.E):.2f}\")\n",
    "    total_cap_loss = np.max(cap_teslaY_aged)-np.max(cap_teslaY)\n",
    "    print(f\"Capacity I: {np.max(cap_teslaY):.2f}\")\n",
    "    print(f\"Capacity II: {np.max(cap_teslaY_aged):.2f}\")\n",
    "    print(f\"Total capacity loss = {total_cap_loss:.2f}\")\n",
    "    #anode\n",
    "    stage_2_init_dva =np.max(dva_teslaY[(cap_teslaY>110)&(cap_teslaY<130)])\n",
    "    stage_2_init_cap =cap_teslaY[dva_teslaY==stage_2_init_dva]\n",
    "    \n",
    "    stage_2_aged_dva =np.max(dva_teslaY_aged[(cap_teslaY_aged>110)&(cap_teslaY_aged<130)])\n",
    "    stage_2_aged_cap =cap_teslaY_aged[dva_teslaY_aged==stage_2_aged_dva]\n",
    "\n",
    "    delta_stage_2 = stage_2_aged_cap.values[0]-stage_2_init_cap.values[0]\n",
    "    print(f\"Q_NE I: {stage_2_init_cap.values[0]:.2f}\")\n",
    "    print(f\"Q_NE II: {stage_2_aged_cap.values[0]:.2f}\")\n",
    "    print(f\"LAM_NE = {delta_stage_2:.2f} Ah\")\n",
    "    #cathode\n",
    "    c_init_dva =np.max(dva_teslaY[(cap_teslaY>130)&(cap_teslaY<165)])\n",
    "    c_init_cap =cap_teslaY[dva_teslaY==c_init_dva]\n",
    "    \n",
    "    c_aged_dva =np.max(dva_teslaY_aged[(cap_teslaY_aged>130)&(cap_teslaY_aged<165)])\n",
    "    c_aged_cap =cap_teslaY_aged[dva_teslaY_aged==c_aged_dva]\n",
    "    delta_H_2 = (np.max(cap_teslaY_aged)-c_aged_cap.values[0])-(np.max(cap_teslaY)-c_init_cap.values[0])\n",
    "    print(f\"Q_PE I: {(np.max(cap_teslaY)-c_init_cap.values[0]):.2f}\")\n",
    "    print(f\"Q_PE II: {(np.max(cap_teslaY_aged)-c_aged_cap.values[0]):.2f}\")\n",
    "    print(f\"LAM_PE = {delta_H_2:.2f}\")\n",
    "    # LLI\n",
    "    dQB =  (np.max(cap_teslaY_aged)-stage_2_aged_cap.values[0])-(np.max(cap_teslaY)-stage_2_init_cap.values[0])\n",
    "    print(f\"Q_B I: {(np.max(cap_teslaY)-stage_2_init_cap.values[0]):.2f}\")\n",
    "    print(f\"Q_B II: {(np.max(cap_teslaY_aged)-stage_2_aged_cap.values[0]):.2f}\")\n",
    "    print(f\"dQB= {dQB:.2f}\")\n",
    "    delta_LLI = dQB - delta_H_2\n",
    "    print(f\"LLI = {delta_LLI:.2f}\")\n",
    "    return {\"stage_2_init_dva\":stage_2_init_dva,\n",
    "           \"stage_2_init_cap\":stage_2_init_cap,\n",
    "           \"stage_2_aged_dva\":stage_2_aged_dva,\n",
    "           \"stage_2_aged_cap\":stage_2_aged_cap,\n",
    "           \"c_init_dva\":c_init_dva,\n",
    "           \"c_init_cap\":c_init_cap,\n",
    "           \"c_aged_dva\":c_aged_dva,\n",
    "           \"c_aged_cap\":c_aged_cap}\n",
    "scatter_dict_teslaY = DMs_teslaY_dva()"
   ]
  },
  {
   "cell_type": "markdown",
   "id": "ddf3efde-be73-4421-9c1d-c5234d375716",
   "metadata": {},
   "source": [
    "## Features of interest DVA"
   ]
  },
  {
   "cell_type": "code",
   "execution_count": 48,
   "id": "32551695-6cf2-4168-8cf9-f809bb8fe891",
   "metadata": {},
   "outputs": [],
   "source": [
    "def add_FOI_vw_dva(axes, scatter_dict):\n",
    "    Q_nom = 2*78\n",
    "    #anode  \n",
    "    axes.scatter(scatter_dict[\"stage_2_init_cap\"],scatter_dict[\"stage_2_init_dva\"]*Q_nom,marker=\"d\",color=VisualizationConfig.TUMblau.value,s=10,zorder=5,ec=\"k\")\n",
    "    axes.scatter(scatter_dict[\"stage_2_aged_cap\"],scatter_dict[\"stage_2_aged_dva\"]*Q_nom,marker=\"d\",color=VisualizationConfig.TUMorange.value,s=10,zorder=5,ec=\"k\")\n",
    "    \n",
    "    axes.annotate(text='', xy=(scatter_dict[\"stage_2_init_cap\"]+5,170), xytext=(scatter_dict[\"stage_2_init_cap\"]-5,170),fontsize=9,\n",
    "                      arrowprops=dict(arrowstyle='->', shrinkA=0, shrinkB=0,facecolor=\"k\", mutation_scale=5)) \n",
    "    axes.annotate(text=r'$\\Delta Q_{NE}=0.2\\,Ah$', xy=(scatter_dict[\"stage_2_init_cap\"]-2,180),fontsize=5,ha=\"center\")\n",
    "    # cathode\n",
    "    axes.scatter(scatter_dict[\"c_init_cap\"],scatter_dict[\"c_init_dva\"]*Q_nom,marker=\"o\",color=VisualizationConfig.TUMblau.value,s=10,zorder=5,ec=\"k\")\n",
    "    axes.scatter(scatter_dict[\"c_aged_cap\"],scatter_dict[\"c_aged_dva\"]*Q_nom,marker=\"o\",color=VisualizationConfig.TUMorange.value,s=10,zorder=5,ec=\"k\")\n",
    "    \n",
    "    axes.annotate(text='', xy=(scatter_dict[\"c_aged_cap\"]+5+2,140), xytext=(scatter_dict[\"c_aged_cap\"]-5+2,140),fontsize=9,\n",
    "                      arrowprops=dict(arrowstyle='<-', shrinkA=0, shrinkB=0,facecolor=\"k\", mutation_scale=5)) \n",
    "    axes.annotate(text=r'$\\Delta Q_{PE}=1.3\\,Ah$', xy=(scatter_dict[\"c_aged_cap\"]+2,150+2),fontsize=5,ha=\"center\",bbox=dict(boxstyle='square,pad=0',fc='white', ec='none', alpha=0.6))\n",
    "    # LLI\n",
    "    axes.annotate(text='', xy=(np.max(cap_vw_aged)+5+2,95), xytext=(np.max(cap_vw_aged)-5+2,95),fontsize=9,\n",
    "                      arrowprops=dict(arrowstyle='<-', shrinkA=0, shrinkB=0,facecolor=\"k\", mutation_scale=5)) \n",
    "    axes.annotate(text=r'$\\Delta Q_{B}=6.3\\,Ah$', xy=(np.max(cap_vw_aged)-2,73),fontsize=5,ha=\"center\",bbox=dict(boxstyle='square,pad=0',fc='white', ec='none', alpha=0.6))\n",
    "    # m phase shift\n",
    "    axes.annotate(text='', xy=(80,55), xytext=(67,104), arrowprops=dict(arrowstyle='<|-', shrinkA=0, shrinkB=0,facecolor=\"k\"))\n",
    "    axes.annotate(text='M shift', xy=(83,53),horizontalalignment=\"left\",verticalalignment=\"bottom\",fontsize=5)\n",
    "    # cap loss \n",
    "    #deltaQ = df_vw.Q.max() - df_vw_aged.Q.max()\n",
    "    #rectangle = patches.Rectangle((df_vw_aged.Q.max(),0), deltaQ, 216,fc=\"lightgray\",ec=\"lightgray\",alpha=0.7)\n",
    "    #axes.add_artist(rectangle)\n",
    "    #axes.annotate(f'$\\Delta Q$ = {deltaQ:.1f}$\\,Ah$',\n",
    "    #              (0.6, 0.05), xycoords=rectangle,rotation=90, annotation_clip=True,fontsize=5,\n",
    "    #             horizontalalignment = \"center\", verticalalignment = \"bottom\")\n",
    "    return axes"
   ]
  },
  {
   "cell_type": "code",
   "execution_count": 49,
   "id": "9159b205-c5bf-4841-8e49-e4337effea5c",
   "metadata": {},
   "outputs": [],
   "source": [
    "def add_FOI_taycan_dva(axes,scatter_dict):\n",
    "    Q_nom = 2*56\n",
    "    #anode  \n",
    "    axes.scatter(scatter_dict[\"stage_2_init_cap\"],scatter_dict[\"stage_2_init_dva\"]*Q_nom,marker=\"d\",color=VisualizationConfig.TUMblau.value,s=10,zorder=5,ec=\"k\")\n",
    "    axes.scatter(scatter_dict[\"stage_2_aged_cap\"],scatter_dict[\"stage_2_aged_dva\"]*Q_nom,marker=\"d\",color=VisualizationConfig.TUMorange.value,s=10,zorder=5,ec=\"k\")\n",
    "    \n",
    "    axes.annotate(text='', xy=(scatter_dict[\"stage_2_init_cap\"]+4,310), xytext=(scatter_dict[\"stage_2_init_cap\"]-4,310),fontsize=9,\n",
    "                      arrowprops=dict(arrowstyle='->', shrinkA=0, shrinkB=0,facecolor=\"k\", mutation_scale=5)) \n",
    "    axes.annotate(text=r'$\\Delta Q_{NE}=0.3\\,Ah$', xy=(scatter_dict[\"stage_2_init_cap\"],330),fontsize=5,ha=\"center\")\n",
    "    # cathode\n",
    "    # axes.scatter(scatter_dict[\"c_init_cap\"],scatter_dict[\"c_init_dva\"]*Q_nom,marker=\"o\",color=VisualizationConfig.TUMblau.value,s=10,zorder=5,ec=\"k\")\n",
    "    # axes.scatter(scatter_dict[\"c_aged_cap\"],scatter_dict[\"c_aged_dva\"]*Q_nom,marker=\"o\",color=VisualizationConfig.TUMorange.value,s=10,zorder=5,ec=\"k\")\n",
    "    \n",
    "    # axes.annotate(text='', xy=(scatter_dict[\"c_aged_cap\"]+4,200), xytext=(scatter_dict[\"c_aged_cap\"]-4,200),fontsize=9,\n",
    "    #                   arrowprops=dict(arrowstyle='<-', shrinkA=0, shrinkB=0,facecolor=\"k\", mutation_scale=5)) \n",
    "    axes.annotate(text=r'$\\Delta Q_{PE}=?$', xy=(95,240),fontsize=5,ha=\"center\",bbox=dict(boxstyle='square,pad=0',fc='white', ec='none', alpha=0.6))\n",
    "    # LLI\n",
    "    axes.annotate(text=r'$\\Delta Q_{B}=5.4\\,Ah$', xy=(np.max(cap_taycan_aged)-1+3,140),fontsize=5,ha=\"center\",bbox=dict(boxstyle='square,pad=0',fc='white', ec='none', alpha=0.6))\n",
    "    axes.annotate(text='', xy=(np.max(cap_taycan_aged)+4+3,175), xytext=(np.max(cap_taycan_aged)-4+3,175),fontsize=9,\n",
    "                      arrowprops=dict(arrowstyle='<-', shrinkA=0, shrinkB=0,facecolor=\"k\", mutation_scale=5)) \n",
    "    \n",
    "    # m phase shift\n",
    "    axes.annotate(text='', xy=(60,198/2), xytext=(50,187), arrowprops=dict(arrowstyle='<|-', shrinkA=0, shrinkB=0,facecolor=\"k\"))\n",
    "    axes.annotate(text='M shift', xy=(62,102),horizontalalignment=\"left\",verticalalignment=\"bottom\",fontsize=5)\n",
    "    # cap loss \n",
    "    #deltaQ = df_taycan.Q.max() - df_taycan_aged.Q.max()\n",
    "    #rectangle = patches.Rectangle((df_taycan_aged.Q.max(),0), deltaQ, 396,fc=\"lightgray\",ec=\"lightgray\",alpha=0.7)\n",
    "    #axes.add_artist(rectangle)\n",
    "    #axes.annotate(f'$\\Delta Q$ = {deltaQ:.1f}$\\,Ah$',\n",
    "    #              (0.6, 0.05), xycoords=rectangle,rotation=90, annotation_clip=True,fontsize=5,\n",
    "    #             horizontalalignment = \"center\", verticalalignment = \"bottom\")\n",
    "    return axes"
   ]
  },
  {
   "cell_type": "code",
   "execution_count": 50,
   "id": "18572c06-4007-42cb-8481-7652256ae54f",
   "metadata": {},
   "outputs": [],
   "source": [
    "def add_FOI_tesla_dva(axes,scatter_dict):\n",
    "    Q_nom = 161\n",
    "    #anode  \n",
    "    axes.scatter(scatter_dict[\"stage_2_init_cap\"],scatter_dict[\"stage_2_init_dva\"]*Q_nom,marker=\"d\",color=VisualizationConfig.TUMblau.value,s=10,zorder=5,ec=\"k\")\n",
    "    axes.scatter(scatter_dict[\"stage_2_aged_cap\"],scatter_dict[\"stage_2_aged_dva\"]*Q_nom,marker=\"d\",color=VisualizationConfig.TUMorange.value,s=10,zorder=5,ec=\"k\")\n",
    "    \n",
    "    axes.annotate(text='', xy=(scatter_dict[\"stage_2_init_cap\"]+4-2,78), xytext=(scatter_dict[\"stage_2_init_cap\"]-4-2,78),fontsize=9,\n",
    "                      arrowprops=dict(arrowstyle='<-', shrinkA=0, shrinkB=0,facecolor=\"k\", mutation_scale=5)) \n",
    "    axes.annotate(text=r'$\\Delta Q_{NE}=1.4\\,Ah$', xy=(scatter_dict[\"stage_2_init_cap\"],90),fontsize=5,ha=\"center\")\n",
    "    \n",
    "    # LLI\n",
    "    axes.annotate(text='', xy=(np.max(cap_tesla_aged)+4+7,115), xytext=(np.max(cap_tesla_aged)-4-1,115),fontsize=9,\n",
    "                      arrowprops=dict(arrowstyle='<-', shrinkA=0, shrinkB=0,facecolor=\"k\", mutation_scale=5)) \n",
    "    axes.annotate(text=r'$\\Delta Q_{B}=11.5\\,Ah$', xy=(np.max(cap_tesla_aged)-1,130),fontsize=5,ha=\"center\",bbox=dict(boxstyle='square,pad=0',fc='white', ec='none', alpha=0.6))\n",
    "    # axes.annotate(text='', xy=(159,70), xytext=(140,70), arrowprops=dict(arrowstyle='<|-', shrinkA=0, shrinkB=0,facecolor=\"k\"))\n",
    "    # axes.annotate(text='=', xy=(96,54),horizontalalignment=\"right\",verticalalignment=\"bottom\",fontsize=15)\n",
    "    # cap loss \n",
    "    #deltaQ = df_tesla.Q.max() - df_tesla_aged.Q.max()\n",
    "    #rectangle = patches.Rectangle((df_tesla_aged.Q.max(),0), deltaQ, 216,fc=\"lightgray\",ec=\"lightgray\",alpha=0.7)\n",
    "    #axes.add_artist(rectangle)\n",
    "    #axes.annotate(f'$\\Delta Q$ = {deltaQ:.1f}$\\,Ah$',\n",
    "    #              (0.6, 0.05), xycoords=rectangle,rotation=90, annotation_clip=True,fontsize=5,\n",
    "    #             horizontalalignment = \"center\", verticalalignment = \"bottom\")\n",
    "    return axes"
   ]
  },
  {
   "cell_type": "code",
   "execution_count": 51,
   "id": "722a4e2d-744a-4bda-a087-d05332f8a19e",
   "metadata": {},
   "outputs": [],
   "source": [
    "def add_FOI_teslaY_dva(axes,scatter_dict):\n",
    "    Q_nom = 46*5\n",
    "    #anode  \n",
    "    axes.scatter(scatter_dict[\"stage_2_init_cap\"],scatter_dict[\"stage_2_init_dva\"]*Q_nom,marker=\"d\",color=VisualizationConfig.TUMblau.value,s=10,zorder=5,ec=\"k\")\n",
    "    axes.scatter(scatter_dict[\"stage_2_aged_cap\"],scatter_dict[\"stage_2_aged_dva\"]*Q_nom,marker=\"d\",color=VisualizationConfig.TUMorange.value,s=10,zorder=5,ec=\"k\")\n",
    "    \n",
    "    axes.annotate(text='', xy=(scatter_dict[\"stage_2_init_cap\"]+5,150), xytext=(scatter_dict[\"stage_2_init_cap\"]-5,150),fontsize=9,\n",
    "                      arrowprops=dict(arrowstyle='<-', shrinkA=0, shrinkB=0,facecolor=\"k\", mutation_scale=5)) \n",
    "    axes.annotate(text=r'$\\Delta Q_{NE}=2.2\\,Ah$', xy=(scatter_dict[\"stage_2_init_cap\"]-2,160),fontsize=5,ha=\"center\")\n",
    "    # cathode\n",
    "    axes.scatter(scatter_dict[\"c_init_cap\"],scatter_dict[\"c_init_dva\"]*Q_nom,marker=\"o\",color=VisualizationConfig.TUMblau.value,s=10,zorder=5,ec=\"k\")\n",
    "    axes.scatter(scatter_dict[\"c_aged_cap\"],scatter_dict[\"c_aged_dva\"]*Q_nom,marker=\"o\",color=VisualizationConfig.TUMorange.value,s=10,zorder=5,ec=\"k\")\n",
    "    \n",
    "    axes.annotate(text='', xy=(scatter_dict[\"c_aged_cap\"]+5,140), xytext=(scatter_dict[\"c_aged_cap\"]-5,140),fontsize=9,\n",
    "                      arrowprops=dict(arrowstyle='<-', shrinkA=0, shrinkB=0,facecolor=\"k\", mutation_scale=5)) \n",
    "    axes.annotate(text=r'$\\Delta Q_{PE}=0.2\\,Ah$', xy=(scatter_dict[\"c_aged_cap\"]+2,150),fontsize=5,ha=\"center\",bbox=dict(boxstyle='square,pad=0',fc='white', ec='none', alpha=0.6))\n",
    "    # LLI\n",
    "    axes.annotate(text='', xy=(np.max(cap_teslaY_aged)+5,100), xytext=(np.max(cap_teslaY_aged)-5-5,100),fontsize=9,\n",
    "                      arrowprops=dict(arrowstyle='<-', shrinkA=0, shrinkB=0,facecolor=\"k\", mutation_scale=5)) \n",
    "    axes.annotate(text=r'$\\Delta Q_{B}=0.5\\,Ah$', xy=(np.max(cap_teslaY_aged)-3,110),fontsize=5,ha=\"center\",bbox=dict(boxstyle='square,pad=0',fc='white', ec='none', alpha=0.6))\n",
    "\n",
    "    # cap loss \n",
    "    #deltaQ = 200 - df_tesla_aged.Q.max()\n",
    "    #rectangle = patches.Rectangle((df_tesla_aged.Q.max(),0), deltaQ, 192,fc=\"lightgray\",ec=\"lightgray\",alpha=0.7)\n",
    "    #axes.add_artist(rectangle)\n",
    "    #axes.annotate(f'$\\Delta Q$ = {deltaQ:.1f}$\\,Ah$',\n",
    "    #              (0.6, 0.05), xycoords=rectangle,rotation=90, annotation_clip=True,fontsize=5,\n",
    "    #             horizontalalignment = \"center\", verticalalignment = \"bottom\")\n",
    "    return axes"
   ]
  },
  {
   "cell_type": "code",
   "execution_count": 52,
   "id": "cb87448a-ce65-4437-ba7f-ed5639181f3f",
   "metadata": {},
   "outputs": [
    {
     "name": "stderr",
     "output_type": "stream",
     "text": [
      "C:\\Users\\ga97req\\AppData\\Local\\anaconda3\\Lib\\site-packages\\matplotlib\\text.py:1461: FutureWarning: Calling float on a single element Series is deprecated and will raise a TypeError in the future. Use float(ser.iloc[0]) instead\n",
      "  x = float(self.convert_xunits(x))\n",
      "C:\\Users\\ga97req\\AppData\\Local\\anaconda3\\Lib\\site-packages\\matplotlib\\text.py:894: FutureWarning: Calling float on a single element Series is deprecated and will raise a TypeError in the future. Use float(ser.iloc[0]) instead\n",
      "  x = float(self.convert_xunits(self._x))\n",
      "C:\\Users\\ga97req\\AppData\\Local\\anaconda3\\Lib\\site-packages\\matplotlib\\text.py:753: FutureWarning: Calling float on a single element Series is deprecated and will raise a TypeError in the future. Use float(ser.iloc[0]) instead\n",
      "  posx = float(self.convert_xunits(self._x))\n",
      "C:\\Users\\ga97req\\AppData\\Local\\anaconda3\\Lib\\site-packages\\matplotlib\\text.py:566: FutureWarning: Calling float on a single element Series is deprecated and will raise a TypeError in the future. Use float(ser.iloc[0]) instead\n",
      "  posx = float(self.convert_xunits(self._x))\n",
      "C:\\Users\\ga97req\\AppData\\Local\\anaconda3\\Lib\\site-packages\\matplotlib\\text.py:1461: FutureWarning: Calling float on a single element Series is deprecated and will raise a TypeError in the future. Use float(ser.iloc[0]) instead\n",
      "  x = float(self.convert_xunits(x))\n",
      "C:\\Users\\ga97req\\AppData\\Local\\anaconda3\\Lib\\site-packages\\matplotlib\\text.py:894: FutureWarning: Calling float on a single element Series is deprecated and will raise a TypeError in the future. Use float(ser.iloc[0]) instead\n",
      "  x = float(self.convert_xunits(self._x))\n",
      "C:\\Users\\ga97req\\AppData\\Local\\anaconda3\\Lib\\site-packages\\matplotlib\\text.py:753: FutureWarning: Calling float on a single element Series is deprecated and will raise a TypeError in the future. Use float(ser.iloc[0]) instead\n",
      "  posx = float(self.convert_xunits(self._x))\n",
      "C:\\Users\\ga97req\\AppData\\Local\\anaconda3\\Lib\\site-packages\\matplotlib\\text.py:566: FutureWarning: Calling float on a single element Series is deprecated and will raise a TypeError in the future. Use float(ser.iloc[0]) instead\n",
      "  posx = float(self.convert_xunits(self._x))\n"
     ]
    },
    {
     "data": {
      "image/png": "[encoded data removed]",
      "text/plain": [
       "<Figure size 708.661x590.551 with 16 Axes>"
      ]
     },
     "metadata": {},
     "output_type": "display_data"
    }
   ],
   "source": [
    "fig = plt.figure(figsize=(cm2inch(VisualizationConfig.textwidth_in_cm.value),\n",
    "                                                cm2inch(15))) #constrained layout = True does not work with wspace/hspace\n",
    "#gs= fig.add_gridspec(nrows=4, ncols=2,width_ratios=[1,1],height_ratios=[1.5,1,1.5,1])\n",
    "\n",
    "gs = fig.add_gridspec(2, 1,height_ratios=[1,1],hspace=0.5)\n",
    "\n",
    "gs0 = gs[0].subgridspec(2, 2, width_ratios=[1,1],height_ratios=[1,1],wspace=0.25)\n",
    "gs1 = gs[1].subgridspec(2, 2, width_ratios=[1,1],height_ratios=[1,1],wspace=0.25)\n",
    "# Volkswagen \n",
    "axes1 = fig.add_subplot(gs0[0, 0])\n",
    "axes1 = plot_pocv_vw(axes1)\n",
    "axes1 = add_FOI_vw_pocv(axes1)\n",
    "axes2 = fig.add_subplot(gs0[0, 1])\n",
    "axes2 = plot_pocv_taycan(axes2)\n",
    "axes2 = add_FOI_taycan_pocv(axes2)\n",
    "axes3 = fig.add_subplot(gs0[1, 0])\n",
    "axes3 = plot_dva_vw(axes3)\n",
    "axes3 = add_FOI_vw_dva(axes3,scatter_dict_vw)\n",
    "axes4 = fig.add_subplot(gs0[1, 1])\n",
    "axes4 = plot_dva_taycan(axes4)\n",
    "axes4 = add_FOI_taycan_dva(axes4,scatter_dict_taycan)\n",
    "#align y labels\n",
    "axes1.yaxis.set_label_coords(-0.12, 0.5)\n",
    "axes3.yaxis.set_label_coords(-0.105, 0.5) # lower, due to the fraction\n",
    "axes2.yaxis.set_label_coords(-0.12, 0.5)\n",
    "axes4.yaxis.set_label_coords(-0.105, 0.5)\n",
    "## Tesla\n",
    "axes5 = fig.add_subplot(gs1[0, 0])\n",
    "axes5 = plot_pocv_tesla(axes5)\n",
    "axes5 = add_FOI_tesla_pocv(axes5)\n",
    "axes6 = fig.add_subplot(gs1[0, 1])\n",
    "axes6 = plot_pocv_teslaY(axes6)\n",
    "axes6 = add_FOI_teslaY_pocv(axes6)\n",
    "axes7 = fig.add_subplot(gs1[1, 0])\n",
    "axes7 = plot_dva_tesla(axes7)\n",
    "axes7 = add_FOI_tesla_dva(axes7,scatter_dict_tesla)\n",
    "axes8 = fig.add_subplot(gs1[1, 1])\n",
    "axes8 = plot_dva_teslaY(axes8)\n",
    "axes8 = add_FOI_teslaY_dva(axes8,scatter_dict_teslaY)\n",
    "#align y labels\n",
    "axes5.yaxis.set_label_coords(-0.12, 0.5)\n",
    "axes7.yaxis.set_label_coords(-0.105, 0.5) # lower, due to the fraction\n",
    "axes6.yaxis.set_label_coords(-0.12, 0.5)\n",
    "axes8.yaxis.set_label_coords(-0.105, 0.5)\n",
    "#fig.tight_layout()\n",
    "axes1.text(-0.2, 1.05, 'a)', horizontalalignment='left',fontsize=7,\n",
    "     verticalalignment='center', transform=axes1.transAxes)\n",
    "axes2.text(-0.2, 1.05, r'b)', horizontalalignment='left',fontsize=7,\n",
    "     verticalalignment='center', transform=axes2.transAxes)\n",
    "axes5.text(-0.2, 1.05, r'c)', horizontalalignment='left',fontsize=7,\n",
    "     verticalalignment='center', transform=axes5.transAxes)\n",
    "axes6.text(-0.2, 1.05, r'd)', horizontalalignment='left',fontsize=7,\n",
    "     verticalalignment='center', transform=axes6.transAxes)\n",
    "\n",
    "fig.savefig(os.path.join(GeneralConfig.path2figures.value,\"04-POCV_soh_assessment.pdf\"))\n",
    "fig.savefig(os.path.join(GeneralConfig.path2figures.value,\"04-POCV_soh_assessment.png\"),dpi=300, pad_inches = 0)"
   ]
  },
  {
   "cell_type": "code",
   "execution_count": null,
   "id": "3cd9e965-712b-4679-a99f-1263fb6b3e2c",
   "metadata": {},
   "outputs": [],
   "source": []
  },
  {
   "cell_type": "code",
   "execution_count": 53,
   "id": "476f015a-994e-409e-a4cf-8f635078aee0",
   "metadata": {},
   "outputs": [
    {
     "data": {
      "text/plain": [
       "75545.32344928007"
      ]
     },
     "execution_count": 53,
     "metadata": {},
     "output_type": "execute_result"
    }
   ],
   "source": [
    "df_teslaY[\"Q\"].max()*df_teslaY[\"U\"].mean()"
   ]
  },
  {
   "cell_type": "code",
   "execution_count": 54,
   "id": "d0f05477-d5ab-475f-9002-4796a199e85e",
   "metadata": {},
   "outputs": [
    {
     "data": {
      "text/plain": [
       "52.5"
      ]
     },
     "execution_count": 54,
     "metadata": {},
     "output_type": "execute_result"
    }
   ],
   "source": [
    "210/4"
   ]
  },
  {
   "cell_type": "code",
   "execution_count": 55,
   "id": "b7240953-18c1-4cb0-bea5-6a76240e1dad",
   "metadata": {},
   "outputs": [
    {
     "data": {
      "text/plain": [
       "55.0"
      ]
     },
     "execution_count": 55,
     "metadata": {},
     "output_type": "execute_result"
    }
   ],
   "source": [
    "220/4"
   ]
  },
  {
   "cell_type": "code",
   "execution_count": 56,
   "id": "1dddcb2b-d9a7-497e-b896-f04615c9ac2a",
   "metadata": {},
   "outputs": [
    {
     "data": {
      "text/plain": [
       "75.42072166794344"
      ]
     },
     "execution_count": 56,
     "metadata": {},
     "output_type": "execute_result"
    }
   ],
   "source": [
    "df_teslaY[\"E\"].max()"
   ]
  },
  {
   "cell_type": "code",
   "execution_count": 57,
   "id": "8c5d8b34-25b0-417f-bec7-7bc0bccd3911",
   "metadata": {},
   "outputs": [
    {
     "data": {
      "text/plain": [
       "74.21811101514808"
      ]
     },
     "execution_count": 57,
     "metadata": {},
     "output_type": "execute_result"
    }
   ],
   "source": [
    "df_teslaY_aged[\"E\"].max()"
   ]
  },
  {
   "cell_type": "code",
   "execution_count": 58,
   "id": "6a8bc2f7-8dd6-4517-8567-76b0542ef838",
   "metadata": {},
   "outputs": [
    {
     "data": {
      "text/plain": [
       "96"
      ]
     },
     "execution_count": 58,
     "metadata": {},
     "output_type": "execute_result"
    }
   ],
   "source": [
    "96"
   ]
  },
  {
   "cell_type": "code",
   "execution_count": 59,
   "id": "8761bc67-ce38-40ff-99b7-1d102ad2740d",
   "metadata": {},
   "outputs": [
    {
     "data": {
      "text/html": [
       "<div>\n",
       "<style scoped>\n",
       "    .dataframe tbody tr th:only-of-type {\n",
       "        vertical-align: middle;\n",
       "    }\n",
       "\n",
       "    .dataframe tbody tr th {\n",
       "        vertical-align: top;\n",
       "    }\n",
       "\n",
       "    .dataframe thead th {\n",
       "        text-align: right;\n",
       "    }\n",
       "</style>\n",
       "<table border=\"1\" class=\"dataframe\">\n",
       "  <thead>\n",
       "    <tr style=\"text-align: right;\">\n",
       "      <th></th>\n",
       "      <th>index</th>\n",
       "      <th>UnixTimeSeconds528</th>\n",
       "      <th>ChargeHoursRemaining132</th>\n",
       "      <th>U</th>\n",
       "      <th>RawBattCurrent132</th>\n",
       "      <th>I</th>\n",
       "      <th>BattBeginningOfLifeEnergy292</th>\n",
       "      <th>SOCmax292</th>\n",
       "      <th>SOC</th>\n",
       "      <th>SOCUI292</th>\n",
       "      <th>...</th>\n",
       "      <th>UI_Range</th>\n",
       "      <th>UI_SOC</th>\n",
       "      <th>UI_uSOE</th>\n",
       "      <th>UI_ratedWHpM</th>\n",
       "      <th>time_ms</th>\n",
       "      <th>time_s</th>\n",
       "      <th>time_min</th>\n",
       "      <th>time_h</th>\n",
       "      <th>Q</th>\n",
       "      <th>E</th>\n",
       "    </tr>\n",
       "  </thead>\n",
       "  <tbody>\n",
       "    <tr>\n",
       "      <th>16651</th>\n",
       "      <td>17534</td>\n",
       "      <td>1.738767e+09</td>\n",
       "      <td>30.0</td>\n",
       "      <td>399.946156</td>\n",
       "      <td>-4.310000</td>\n",
       "      <td>4.2</td>\n",
       "      <td>78.8</td>\n",
       "      <td>100.0</td>\n",
       "      <td>100.0</td>\n",
       "      <td>100.0</td>\n",
       "      <td>...</td>\n",
       "      <td>314.0</td>\n",
       "      <td>17</td>\n",
       "      <td>101</td>\n",
       "      <td>1023</td>\n",
       "      <td>165950000.0</td>\n",
       "      <td>165950.0</td>\n",
       "      <td>2765.833333</td>\n",
       "      <td>46.097222</td>\n",
       "      <td>207.852383</td>\n",
       "      <td>75.402445</td>\n",
       "    </tr>\n",
       "    <tr>\n",
       "      <th>16652</th>\n",
       "      <td>17535</td>\n",
       "      <td>1.738767e+09</td>\n",
       "      <td>30.0</td>\n",
       "      <td>399.956844</td>\n",
       "      <td>-3.943434</td>\n",
       "      <td>4.1</td>\n",
       "      <td>78.8</td>\n",
       "      <td>100.0</td>\n",
       "      <td>100.0</td>\n",
       "      <td>100.0</td>\n",
       "      <td>...</td>\n",
       "      <td>314.0</td>\n",
       "      <td>17</td>\n",
       "      <td>101</td>\n",
       "      <td>1023</td>\n",
       "      <td>165960000.0</td>\n",
       "      <td>165960.0</td>\n",
       "      <td>2766.000000</td>\n",
       "      <td>46.100000</td>\n",
       "      <td>207.866108</td>\n",
       "      <td>75.407056</td>\n",
       "    </tr>\n",
       "    <tr>\n",
       "      <th>16653</th>\n",
       "      <td>17536</td>\n",
       "      <td>1.738767e+09</td>\n",
       "      <td>30.0</td>\n",
       "      <td>399.967783</td>\n",
       "      <td>-4.276500</td>\n",
       "      <td>4.1</td>\n",
       "      <td>78.8</td>\n",
       "      <td>100.0</td>\n",
       "      <td>100.0</td>\n",
       "      <td>100.0</td>\n",
       "      <td>...</td>\n",
       "      <td>314.0</td>\n",
       "      <td>17</td>\n",
       "      <td>101</td>\n",
       "      <td>1023</td>\n",
       "      <td>165970000.0</td>\n",
       "      <td>165970.0</td>\n",
       "      <td>2766.166667</td>\n",
       "      <td>46.102778</td>\n",
       "      <td>207.879831</td>\n",
       "      <td>75.411611</td>\n",
       "    </tr>\n",
       "    <tr>\n",
       "      <th>16654</th>\n",
       "      <td>17537</td>\n",
       "      <td>1.738767e+09</td>\n",
       "      <td>30.0</td>\n",
       "      <td>399.978723</td>\n",
       "      <td>-3.850000</td>\n",
       "      <td>4.1</td>\n",
       "      <td>78.8</td>\n",
       "      <td>100.0</td>\n",
       "      <td>100.0</td>\n",
       "      <td>100.0</td>\n",
       "      <td>...</td>\n",
       "      <td>314.0</td>\n",
       "      <td>17</td>\n",
       "      <td>101</td>\n",
       "      <td>1023</td>\n",
       "      <td>165980000.0</td>\n",
       "      <td>165980.0</td>\n",
       "      <td>2766.333333</td>\n",
       "      <td>46.105556</td>\n",
       "      <td>207.893551</td>\n",
       "      <td>75.416166</td>\n",
       "    </tr>\n",
       "    <tr>\n",
       "      <th>16655</th>\n",
       "      <td>17538</td>\n",
       "      <td>1.738767e+09</td>\n",
       "      <td>30.0</td>\n",
       "      <td>399.989810</td>\n",
       "      <td>-4.273500</td>\n",
       "      <td>4.1</td>\n",
       "      <td>78.8</td>\n",
       "      <td>100.0</td>\n",
       "      <td>100.0</td>\n",
       "      <td>100.0</td>\n",
       "      <td>...</td>\n",
       "      <td>314.0</td>\n",
       "      <td>17</td>\n",
       "      <td>101</td>\n",
       "      <td>1023</td>\n",
       "      <td>165990000.0</td>\n",
       "      <td>165990.0</td>\n",
       "      <td>2766.500000</td>\n",
       "      <td>46.108333</td>\n",
       "      <td>207.907192</td>\n",
       "      <td>75.420722</td>\n",
       "    </tr>\n",
       "  </tbody>\n",
       "</table>\n",
       "<p>5 rows × 136 columns</p>\n",
       "</div>"
      ],
      "text/plain": [
       "       index  UnixTimeSeconds528  ChargeHoursRemaining132           U  \\\n",
       "16651  17534        1.738767e+09                     30.0  399.946156   \n",
       "16652  17535        1.738767e+09                     30.0  399.956844   \n",
       "16653  17536        1.738767e+09                     30.0  399.967783   \n",
       "16654  17537        1.738767e+09                     30.0  399.978723   \n",
       "16655  17538        1.738767e+09                     30.0  399.989810   \n",
       "\n",
       "       RawBattCurrent132    I  BattBeginningOfLifeEnergy292  SOCmax292    SOC  \\\n",
       "16651          -4.310000  4.2                          78.8      100.0  100.0   \n",
       "16652          -3.943434  4.1                          78.8      100.0  100.0   \n",
       "16653          -4.276500  4.1                          78.8      100.0  100.0   \n",
       "16654          -3.850000  4.1                          78.8      100.0  100.0   \n",
       "16655          -4.273500  4.1                          78.8      100.0  100.0   \n",
       "\n",
       "       SOCUI292  ...  UI_Range  UI_SOC  UI_uSOE  UI_ratedWHpM      time_ms  \\\n",
       "16651     100.0  ...     314.0      17      101          1023  165950000.0   \n",
       "16652     100.0  ...     314.0      17      101          1023  165960000.0   \n",
       "16653     100.0  ...     314.0      17      101          1023  165970000.0   \n",
       "16654     100.0  ...     314.0      17      101          1023  165980000.0   \n",
       "16655     100.0  ...     314.0      17      101          1023  165990000.0   \n",
       "\n",
       "         time_s     time_min     time_h           Q          E  \n",
       "16651  165950.0  2765.833333  46.097222  207.852383  75.402445  \n",
       "16652  165960.0  2766.000000  46.100000  207.866108  75.407056  \n",
       "16653  165970.0  2766.166667  46.102778  207.879831  75.411611  \n",
       "16654  165980.0  2766.333333  46.105556  207.893551  75.416166  \n",
       "16655  165990.0  2766.500000  46.108333  207.907192  75.420722  \n",
       "\n",
       "[5 rows x 136 columns]"
      ]
     },
     "execution_count": 59,
     "metadata": {},
     "output_type": "execute_result"
    }
   ],
   "source": [
    "df_teslaY.tail()"
   ]
  },
  {
   "cell_type": "code",
   "execution_count": 60,
   "id": "43122181-7995-40a1-bb73-11e02f6fd4e7",
   "metadata": {},
   "outputs": [
    {
     "data": {
      "text/html": [
       "<div>\n",
       "<style scoped>\n",
       "    .dataframe tbody tr th:only-of-type {\n",
       "        vertical-align: middle;\n",
       "    }\n",
       "\n",
       "    .dataframe tbody tr th {\n",
       "        vertical-align: top;\n",
       "    }\n",
       "\n",
       "    .dataframe thead th {\n",
       "        text-align: right;\n",
       "    }\n",
       "</style>\n",
       "<table border=\"1\" class=\"dataframe\">\n",
       "  <thead>\n",
       "    <tr style=\"text-align: right;\">\n",
       "      <th></th>\n",
       "      <th>index</th>\n",
       "      <th>UnixTimeSeconds528</th>\n",
       "      <th>ChargeHoursRemaining132</th>\n",
       "      <th>U</th>\n",
       "      <th>RawBattCurrent132</th>\n",
       "      <th>I</th>\n",
       "      <th>BattBeginningOfLifeEnergy292</th>\n",
       "      <th>SOCmax292</th>\n",
       "      <th>SOC</th>\n",
       "      <th>SOCUI292</th>\n",
       "      <th>...</th>\n",
       "      <th>UI_Range</th>\n",
       "      <th>UI_SOC</th>\n",
       "      <th>UI_uSOE</th>\n",
       "      <th>UI_ratedWHpM</th>\n",
       "      <th>time_ms</th>\n",
       "      <th>time_s</th>\n",
       "      <th>time_min</th>\n",
       "      <th>time_h</th>\n",
       "      <th>Q</th>\n",
       "      <th>E</th>\n",
       "    </tr>\n",
       "  </thead>\n",
       "  <tbody>\n",
       "    <tr>\n",
       "      <th>16796</th>\n",
       "      <td>18755</td>\n",
       "      <td>1.730029e+09</td>\n",
       "      <td>30.0</td>\n",
       "      <td>399.960045</td>\n",
       "      <td>-4.254500</td>\n",
       "      <td>4.209</td>\n",
       "      <td>78.8</td>\n",
       "      <td>100.0</td>\n",
       "      <td>100.0</td>\n",
       "      <td>100.0</td>\n",
       "      <td>...</td>\n",
       "      <td>286.0</td>\n",
       "      <td>81</td>\n",
       "      <td>102</td>\n",
       "      <td>1023.0</td>\n",
       "      <td>167580000.0</td>\n",
       "      <td>167580.0</td>\n",
       "      <td>2793.000000</td>\n",
       "      <td>46.550000</td>\n",
       "      <td>205.164362</td>\n",
       "      <td>74.199553</td>\n",
       "    </tr>\n",
       "    <tr>\n",
       "      <th>16797</th>\n",
       "      <td>18756</td>\n",
       "      <td>1.730029e+09</td>\n",
       "      <td>30.0</td>\n",
       "      <td>399.969394</td>\n",
       "      <td>-4.153500</td>\n",
       "      <td>4.200</td>\n",
       "      <td>78.8</td>\n",
       "      <td>100.0</td>\n",
       "      <td>100.0</td>\n",
       "      <td>100.0</td>\n",
       "      <td>...</td>\n",
       "      <td>286.0</td>\n",
       "      <td>81</td>\n",
       "      <td>102</td>\n",
       "      <td>1023.0</td>\n",
       "      <td>167590000.0</td>\n",
       "      <td>167590.0</td>\n",
       "      <td>2793.166667</td>\n",
       "      <td>46.552778</td>\n",
       "      <td>205.175914</td>\n",
       "      <td>74.204224</td>\n",
       "    </tr>\n",
       "    <tr>\n",
       "      <th>16798</th>\n",
       "      <td>18757</td>\n",
       "      <td>1.730029e+09</td>\n",
       "      <td>30.0</td>\n",
       "      <td>399.977994</td>\n",
       "      <td>-4.000000</td>\n",
       "      <td>4.200</td>\n",
       "      <td>78.8</td>\n",
       "      <td>100.0</td>\n",
       "      <td>100.0</td>\n",
       "      <td>100.0</td>\n",
       "      <td>...</td>\n",
       "      <td>286.0</td>\n",
       "      <td>81</td>\n",
       "      <td>102</td>\n",
       "      <td>1023.0</td>\n",
       "      <td>167600000.0</td>\n",
       "      <td>167600.0</td>\n",
       "      <td>2793.333333</td>\n",
       "      <td>46.555556</td>\n",
       "      <td>205.187468</td>\n",
       "      <td>74.208891</td>\n",
       "    </tr>\n",
       "    <tr>\n",
       "      <th>16799</th>\n",
       "      <td>18758</td>\n",
       "      <td>1.730029e+09</td>\n",
       "      <td>30.0</td>\n",
       "      <td>399.986401</td>\n",
       "      <td>-3.951531</td>\n",
       "      <td>4.100</td>\n",
       "      <td>78.8</td>\n",
       "      <td>100.0</td>\n",
       "      <td>100.0</td>\n",
       "      <td>100.0</td>\n",
       "      <td>...</td>\n",
       "      <td>286.0</td>\n",
       "      <td>81</td>\n",
       "      <td>102</td>\n",
       "      <td>1023.0</td>\n",
       "      <td>167610000.0</td>\n",
       "      <td>167610.0</td>\n",
       "      <td>2793.500000</td>\n",
       "      <td>46.558333</td>\n",
       "      <td>205.199023</td>\n",
       "      <td>74.213502</td>\n",
       "    </tr>\n",
       "    <tr>\n",
       "      <th>16800</th>\n",
       "      <td>18759</td>\n",
       "      <td>1.730029e+09</td>\n",
       "      <td>30.0</td>\n",
       "      <td>399.994808</td>\n",
       "      <td>-4.250000</td>\n",
       "      <td>4.197</td>\n",
       "      <td>78.8</td>\n",
       "      <td>100.0</td>\n",
       "      <td>100.0</td>\n",
       "      <td>100.0</td>\n",
       "      <td>...</td>\n",
       "      <td>286.0</td>\n",
       "      <td>81</td>\n",
       "      <td>102</td>\n",
       "      <td>1023.0</td>\n",
       "      <td>167620000.0</td>\n",
       "      <td>167620.0</td>\n",
       "      <td>2793.666667</td>\n",
       "      <td>46.561111</td>\n",
       "      <td>205.210578</td>\n",
       "      <td>74.218111</td>\n",
       "    </tr>\n",
       "  </tbody>\n",
       "</table>\n",
       "<p>5 rows × 136 columns</p>\n",
       "</div>"
      ],
      "text/plain": [
       "       index  UnixTimeSeconds528  ChargeHoursRemaining132           U  \\\n",
       "16796  18755        1.730029e+09                     30.0  399.960045   \n",
       "16797  18756        1.730029e+09                     30.0  399.969394   \n",
       "16798  18757        1.730029e+09                     30.0  399.977994   \n",
       "16799  18758        1.730029e+09                     30.0  399.986401   \n",
       "16800  18759        1.730029e+09                     30.0  399.994808   \n",
       "\n",
       "       RawBattCurrent132      I  BattBeginningOfLifeEnergy292  SOCmax292  \\\n",
       "16796          -4.254500  4.209                          78.8      100.0   \n",
       "16797          -4.153500  4.200                          78.8      100.0   \n",
       "16798          -4.000000  4.200                          78.8      100.0   \n",
       "16799          -3.951531  4.100                          78.8      100.0   \n",
       "16800          -4.250000  4.197                          78.8      100.0   \n",
       "\n",
       "         SOC  SOCUI292  ...  UI_Range  UI_SOC  UI_uSOE  UI_ratedWHpM  \\\n",
       "16796  100.0     100.0  ...     286.0      81      102        1023.0   \n",
       "16797  100.0     100.0  ...     286.0      81      102        1023.0   \n",
       "16798  100.0     100.0  ...     286.0      81      102        1023.0   \n",
       "16799  100.0     100.0  ...     286.0      81      102        1023.0   \n",
       "16800  100.0     100.0  ...     286.0      81      102        1023.0   \n",
       "\n",
       "           time_ms    time_s     time_min     time_h           Q          E  \n",
       "16796  167580000.0  167580.0  2793.000000  46.550000  205.164362  74.199553  \n",
       "16797  167590000.0  167590.0  2793.166667  46.552778  205.175914  74.204224  \n",
       "16798  167600000.0  167600.0  2793.333333  46.555556  205.187468  74.208891  \n",
       "16799  167610000.0  167610.0  2793.500000  46.558333  205.199023  74.213502  \n",
       "16800  167620000.0  167620.0  2793.666667  46.561111  205.210578  74.218111  \n",
       "\n",
       "[5 rows x 136 columns]"
      ]
     },
     "execution_count": 60,
     "metadata": {},
     "output_type": "execute_result"
    }
   ],
   "source": [
    "df_teslaY_aged.tail()"
   ]
  },
  {
   "cell_type": "code",
   "execution_count": null,
   "id": "cbaa0198-717e-4112-bc5f-531fc7749203",
   "metadata": {},
   "outputs": [],
   "source": []
  }
 ],
 "metadata": {
  "kernelspec": {
   "display_name": "Python 3 (ipykernel)",
   "language": "python",
   "name": "python3"
  },
  "language_info": {
   "codemirror_mode": {
    "name": "ipython",
    "version": 3
   },
   "file_extension": ".py",
   "mimetype": "text/x-python",
   "name": "python",
   "nbconvert_exporter": "python",
   "pygments_lexer": "ipython3",
   "version": "3.11.7"
  }
 },
 "nbformat": 4,
 "nbformat_minor": 5
}
