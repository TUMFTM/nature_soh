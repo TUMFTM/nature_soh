{
 "cells": [
  {
   "cell_type": "markdown",
   "id": "df7e6497-b58a-4941-8a0d-ec77ce3b8815",
   "metadata": {},
   "source": [
    "# Considerations of vehicle specific behaviors"
   ]
  },
  {
   "cell_type": "code",
   "execution_count": 2,
   "id": "6cc0bf2d-790b-4c5d-bd58-d42bf8bc7ae3",
   "metadata": {},
   "outputs": [],
   "source": [
    "import os\n",
    "import sys\n",
    "import math\n",
    "sys.path.append(os.path.join(os.getcwd().partition('nature_soh')[0], \"nature_soh\"))\n",
    "from src.config_base import GeneralConfig"
   ]
  },
  {
   "cell_type": "code",
   "execution_count": 3,
   "id": "7a248134-8c89-4cf3-bda6-30fd5e49676d",
   "metadata": {},
   "outputs": [],
   "source": [
    "import pandas as pd\n",
    "import numpy as np\n",
    "import scipy as sp\n",
    "import matplotlib.pyplot as plt\n",
    "import matplotlib.ticker as ticker\n",
    "from matplotlib.ticker import FormatStrFormatter\n",
    "import matplotlib.gridspec as gridspec\n",
    "from matplotlib.ticker import AutoMinorLocator, FixedLocator\n",
    "import matplotlib.patches as patches\n",
    "import matplotlib.patheffects as mpe"
   ]
  },
  {
   "cell_type": "code",
   "execution_count": 4,
   "id": "538b73db-2367-4e25-8fd4-5f7e44474956",
   "metadata": {},
   "outputs": [],
   "source": [
    "from src.data.read_feather import ReadFeather\n",
    "from src.filtering.filter_methods import FilterMethods\n",
    "from src.voltage_capacity_analysis.dva import DVA\n",
    "from src.visualization.config_visualization import VisualizationConfig, instantiate_matplotlib_parameters, cm2inch\n",
    "instantiate_matplotlib_parameters()\n",
    "from src.visualization.colormaps import ColorMaps"
   ]
  },
  {
   "cell_type": "code",
   "execution_count": 5,
   "id": "ec588ba8-a8fa-4c14-ad2c-ca28ad054dce",
   "metadata": {},
   "outputs": [
    {
     "data": {
      "image/png": "[encoded data removed]",
      "text/html": [
       "<div style=\"vertical-align: middle;\"><strong>tum_orange</strong> </div><div class=\"cmap\"><img alt=\"tum_orange colormap\" title=\"tum_orange\" style=\"border: 1px solid #555;\" src=\"data:image/png;base64,iVBORw0KGgoAAAANSUhEUgAAAgAAAABACAYAAABsv8+/AAAAGXRFWHRUaXRsZQB0dW1fb3JhbmdlIGNvbG9ybWFwixbW5QAAAB90RVh0RGVzY3JpcHRpb24AdHVtX29yYW5nZSBjb2xvcm1hcPE+F6sAAAAwdEVYdEF1dGhvcgBNYXRwbG90bGliIHYzLjguNCwgaHR0cHM6Ly9tYXRwbG90bGliLm9yZ2TOsrQAAAAydEVYdFNvZnR3YXJlAE1hdHBsb3RsaWIgdjMuOC40LCBodHRwczovL21hdHBsb3RsaWIub3JnSmgtkwAAAYpJREFUeJzt1kFugzAUQEHco/SIvXIP0myyqaMohRBo9GY2ETICI39Fb3x/ff4sv4zrz5iuV67f3LdM1xvf8/A5G9f3es68fvc799rvk+/Zer6rz3+n99z7joPndTxY331eT5+jlft42fkfNa/LdP2qef3j+unnv22/49k5erf/q/8+R9P6xwIA5AgAAAgSAAAQJAAAIEgAAECQAACAIAEAAEECAACCBAAABAkAAAgSAAAQJAAAIEgAAECQAACAIAEAAEECAACCBAAABAkAAAgSAAAQJAAAIEgAAECQAACAIAEAAEECAACCBAAABAkAAAgSAAAQJAAAIEgAAECQAACAIAEAAEECAACCBAAABAkAAAgSAAAQJAAAIEgAAECQAACAIAEAAEECAACCBAAABAkAAAgSAAAQJAAAIEgAAECQAACAIAEAAEECAACCBAAABAkAAAgSAAAQJAAAIEgAAECQAACAIAEAAEECAACCBAAABAkAAAgSAAAQJAAAIEgAAECQAACAIAEAAEEXgqwELiXJxakAAAAASUVORK5CYII=\"></div><div style=\"vertical-align: middle; max-width: 514px; display: flex; justify-content: space-between;\"><div style=\"float: left;\"><div title=\"#e37222ff\" style=\"display: inline-block; width: 1em; height: 1em; margin: 0; vertical-align: middle; border: 1px solid #555; background-color: #e37222ff;\"></div> under</div><div style=\"margin: 0 auto; display: inline-block;\">bad <div title=\"#00000000\" style=\"display: inline-block; width: 1em; height: 1em; margin: 0; vertical-align: middle; border: 1px solid #555; background-color: #00000000;\"></div></div><div style=\"float: right;\">over <div title=\"#e6e6e6ff\" style=\"display: inline-block; width: 1em; height: 1em; margin: 0; vertical-align: middle; border: 1px solid #555; background-color: #e6e6e6ff;\"></div></div>"
      ],
      "text/plain": [
       "<matplotlib.colors.ListedColormap at 0x143c980bed0>"
      ]
     },
     "execution_count": 5,
     "metadata": {},
     "output_type": "execute_result"
    }
   ],
   "source": [
    "tum_orange_cmap = ColorMaps.orange_tum()\n",
    "orange_colors = tum_orange_cmap(np.linspace(0,1, 10))\n",
    "tum_orange_cmap"
   ]
  },
  {
   "cell_type": "code",
   "execution_count": 6,
   "id": "27235247-c600-4eac-9655-c40a1794707d",
   "metadata": {},
   "outputs": [
    {
     "data": {
      "image/png": "[encoded data removed]",
      "text/html": [
       "<div style=\"vertical-align: middle;\"><strong>tum_blue</strong> </div><div class=\"cmap\"><img alt=\"tum_blue colormap\" title=\"tum_blue\" style=\"border: 1px solid #555;\" src=\"data:image/png;base64,iVBORw0KGgoAAAANSUhEUgAAAgAAAABACAYAAABsv8+/AAAAF3RFWHRUaXRsZQB0dW1fYmx1ZSBjb2xvcm1hcKbbBgQAAAAddEVYdERlc2NyaXB0aW9uAHR1bV9ibHVlIGNvbG9ybWFwj6XhLQAAADB0RVh0QXV0aG9yAE1hdHBsb3RsaWIgdjMuOC40LCBodHRwczovL21hdHBsb3RsaWIub3JnZM6ytAAAADJ0RVh0U29mdHdhcmUATWF0cGxvdGxpYiB2My44LjQsIGh0dHBzOi8vbWF0cGxvdGxpYi5vcmdKaC2TAAABqElEQVR4nO3WXW6CQBhAUeheu8yurX3RtFphQOhPcs95MRPJlxlGkztPr2/v0xfzfPkcrufV77/PW39+NH/7/uZN86edz4/mj/e37/zTwfd1/n1c17cD//4+Hp9nvL+fvo/18yzv77nf4/K8jfPvnptO2tfyvGPzP+ed8z9Z3t9z88fnvV+vn//37+P2PP/nPh6fZ7y/Y+/r/Pu4rvf+Xs69j5cJAMgRAAAQJAAAIEgAAECQAACAIAEAAEECAACCBAAABAkAAAgSAAAQJAAAIEgAAECQAACAIAEAAEECAACCBAAABAkAAAgSAAAQJAAAIEgAAECQAACAIAEAAEECAACCBAAABAkAAAgSAAAQJAAAIEgAAECQAACAIAEAAEECAACCBAAABAkAAAgSAAAQJAAAIEgAAECQAACAIAEAAEECAACCBAAABAkAAAgSAAAQJAAAIEgAAECQAACAIAEAAEECAACCBAAABAkAAAgSAAAQJAAAIEgAAECQAACAIAEAAEECAACCBAAABAkAAAgSAAAQJAAAIEgAAECQAACAIAEAAEECAACCPgAujQQuZCaHmgAAAABJRU5ErkJggg==\"></div><div style=\"vertical-align: middle; max-width: 514px; display: flex; justify-content: space-between;\"><div style=\"float: left;\"><div title=\"#0065bdff\" style=\"display: inline-block; width: 1em; height: 1em; margin: 0; vertical-align: middle; border: 1px solid #555; background-color: #0065bdff;\"></div> under</div><div style=\"margin: 0 auto; display: inline-block;\">bad <div title=\"#00000000\" style=\"display: inline-block; width: 1em; height: 1em; margin: 0; vertical-align: middle; border: 1px solid #555; background-color: #00000000;\"></div></div><div style=\"float: right;\">over <div title=\"#e6e6e6ff\" style=\"display: inline-block; width: 1em; height: 1em; margin: 0; vertical-align: middle; border: 1px solid #555; background-color: #e6e6e6ff;\"></div></div>"
      ],
      "text/plain": [
       "<matplotlib.colors.ListedColormap at 0x143cb4e6210>"
      ]
     },
     "execution_count": 6,
     "metadata": {},
     "output_type": "execute_result"
    }
   ],
   "source": [
    "tum_blue_cmap = ColorMaps.blue_tum()\n",
    "blue_colors = tum_blue_cmap(np.linspace(0,1, 10))\n",
    "tum_blue_cmap"
   ]
  },
  {
   "cell_type": "code",
   "execution_count": 7,
   "id": "f891546e-04b2-4456-b4d5-1e9f9f653fdc",
   "metadata": {},
   "outputs": [
    {
     "data": {
      "image/png": "[encoded data removed]",
      "text/html": [
       "<div style=\"vertical-align: middle;\"><strong>tum_orange_blue</strong> </div><div class=\"cmap\"><img alt=\"tum_orange_blue colormap\" title=\"tum_orange_blue\" style=\"border: 1px solid #555;\" src=\"data:image/png;base64,iVBORw0KGgoAAAANSUhEUgAAAgAAAABACAYAAABsv8+/AAAAHnRFWHRUaXRsZQB0dW1fb3JhbmdlX2JsdWUgY29sb3JtYXDqIpipAAAAJHRFWHREZXNjcmlwdGlvbgB0dW1fb3JhbmdlX2JsdWUgY29sb3JtYXAgnnHGAAAAMHRFWHRBdXRob3IATWF0cGxvdGxpYiB2My44LjQsIGh0dHBzOi8vbWF0cGxvdGxpYi5vcmdkzrK0AAAAMnRFWHRTb2Z0d2FyZQBNYXRwbG90bGliIHYzLjguNCwgaHR0cHM6Ly9tYXRwbG90bGliLm9yZ0poLZMAAAHUSURBVHic7dZLTsMwFEBRh72yTNZmBrSVmmLSUj6De84kSkycpzQSdxuvb3OMMbYxx8dxjE/Pt4P18/l2sP5f+x3sc/ay2OeyvpjrZn0313L9fP/25Ppl/uvr22Vlnu6/nuv5937v3/317/3s835prnv3+6PnjcV943J+Os6D9eV3uVif+/X9HNfH2zm/N9dynt1+R3Mdzj0P5r5z3tt5HnzP+7nn59cfnm+3z7fnm7v5FnM/Otfj3+fuuT/1fR6+99U8i/X59frd3+fp+vn/AQAQIgAAIEgAAECQAACAIAEAAEECAACCBAAABAkAAAgSAAAQJAAAIEgAAECQAACAIAEAAEECAACCBAAABAkAAAgSAAAQJAAAIEgAAECQAACAIAEAAEECAACCBAAABAkAAAgSAAAQJAAAIEgAAECQAACAIAEAAEECAACCBAAABAkAAAgSAAAQJAAAIEgAAECQAACAIAEAAEECAACCBAAABAkAAAgSAAAQJAAAIEgAAECQAACAIAEAAEECAACCBAAABAkAAAgSAAAQJAAAIEgAAECQAACAIAEAAEECAACCBAAABAkAAAgSAAAQJAAAIEgAAECQAACAIAEAAEECAACCBAAABL0D1huq9hb1rQgAAAAASUVORK5CYII=\"></div><div style=\"vertical-align: middle; max-width: 514px; display: flex; justify-content: space-between;\"><div style=\"float: left;\"><div title=\"#0065bdff\" style=\"display: inline-block; width: 1em; height: 1em; margin: 0; vertical-align: middle; border: 1px solid #555; background-color: #0065bdff;\"></div> under</div><div style=\"margin: 0 auto; display: inline-block;\">bad <div title=\"#00000000\" style=\"display: inline-block; width: 1em; height: 1em; margin: 0; vertical-align: middle; border: 1px solid #555; background-color: #00000000;\"></div></div><div style=\"float: right;\">over <div title=\"#e37222ff\" style=\"display: inline-block; width: 1em; height: 1em; margin: 0; vertical-align: middle; border: 1px solid #555; background-color: #e37222ff;\"></div></div>"
      ],
      "text/plain": [
       "<matplotlib.colors.ListedColormap at 0x143cb500990>"
      ]
     },
     "execution_count": 7,
     "metadata": {},
     "output_type": "execute_result"
    }
   ],
   "source": [
    "tum_cmap = ColorMaps.blue_orange_tum(grayscale=0.5)\n",
    "colors = tum_cmap(np.linspace(0,1, 5))\n",
    "tum_cmap"
   ]
  },
  {
   "cell_type": "markdown",
   "id": "96411e3e-75e1-4e36-bf5c-0b168d63706d",
   "metadata": {},
   "source": [
    "## Load Data"
   ]
  },
  {
   "cell_type": "code",
   "execution_count": 9,
   "id": "10ecbddb-f80b-4f6c-815a-5e0783fefbf4",
   "metadata": {},
   "outputs": [],
   "source": [
    "def filter_func_preprocess(signal):\n",
    "    perc_filter = 1/100 * len(signal) #% filter\n",
    "    filtered_signal = FilterMethods().rolling_mean_df(signal,window_size=FilterMethods().round_to_next_odd_number(perc_filter))\n",
    "    #filtered_signal = FilterMethods().savgol(signal,window_size=FilterMethods().round_to_next_odd_number(perc_filter * len(signal)))\n",
    "    return filtered_signal"
   ]
  },
  {
   "cell_type": "code",
   "execution_count": 10,
   "id": "5e3e89ed-c7bb-4ab4-860c-4cf62ab6cbb3",
   "metadata": {},
   "outputs": [],
   "source": [
    "read_feather = ReadFeather()\n",
    "read_feather.set_filter_U(filter_func_preprocess)\n",
    "read_feather.set_filter_Q(filter_func_preprocess)"
   ]
  },
  {
   "cell_type": "code",
   "execution_count": 11,
   "id": "ffc1f6ea-25b4-4c0b-977d-cf6755fcb0fa",
   "metadata": {},
   "outputs": [],
   "source": [
    "df_taycan =  read_feather.read(os.path.join(GeneralConfig.path2data.value,\"Taycan\",\"Porsche_Taycan_JB_10A_CEE7_AMS.feather\"))"
   ]
  },
  {
   "cell_type": "code",
   "execution_count": 12,
   "id": "5e3cc618-1249-4706-8a19-ea18b1b85a8e",
   "metadata": {},
   "outputs": [],
   "source": [
    "df_vw =  read_feather.read(os.path.join(GeneralConfig.path2data.value,\"VW\",\"VW_ID3_JB_8A_C40_2021.feather\"))"
   ]
  },
  {
   "cell_type": "code",
   "execution_count": 13,
   "id": "dd5152a3-ddcc-4a11-a1b4-09fdb227be39",
   "metadata": {},
   "outputs": [],
   "source": [
    "df_vw_2 =  read_feather.read(os.path.join(GeneralConfig.path2data.value,\"VW\",\"VW_ID3_JB_8A_C40_2023.feather\"))"
   ]
  },
  {
   "cell_type": "code",
   "execution_count": 14,
   "id": "adac02e5-3626-4f8f-8545-cb3d734973aa",
   "metadata": {},
   "outputs": [],
   "source": [
    "df_vw_3 =  read_feather.read(os.path.join(GeneralConfig.path2data.value,\"VW\",\"VW_ID3_JB_8A_C40_2024.feather\"))"
   ]
  },
  {
   "cell_type": "code",
   "execution_count": 15,
   "id": "425c3677-33ae-4032-9c78-cb134607c79c",
   "metadata": {},
   "outputs": [],
   "source": [
    "%%capture\n",
    "df_vw[\"E\"] = sp.integrate.cumtrapz((df_vw[\"U\"].values*df_vw[\"I\"].values)/1000, df_vw[\"time_h\"], initial=0)\n",
    "df_vw_2[\"E\"] = sp.integrate.cumtrapz((df_vw_2[\"U\"].values*df_vw_2[\"I\"].values)/1000, df_vw_2[\"time_h\"], initial=0)\n",
    "df_vw_3[\"E\"] = sp.integrate.cumtrapz((df_vw_3[\"U\"].values*df_vw_3[\"I\"].values)/1000, df_vw_3[\"time_h\"], initial=0)"
   ]
  },
  {
   "cell_type": "code",
   "execution_count": 16,
   "id": "cb469477-cce9-4edd-9503-11270f878cf9",
   "metadata": {},
   "outputs": [],
   "source": [
    "df_vw_relax =  read_feather.read(os.path.join(GeneralConfig.path2data.value,\"VW\",\"VW_ID3_FTM_8A_CEE7_postAnode_Relaxation.feather\"))"
   ]
  },
  {
   "cell_type": "code",
   "execution_count": 17,
   "id": "b2c08401-53d7-4269-a25c-b98c0b3aeadd",
   "metadata": {},
   "outputs": [],
   "source": [
    "df_vw_balance2 =  read_feather.read(os.path.join(GeneralConfig.path2data.value,\"VW\",\"VW_ID3_FTM_JB_8A_CEE7_2023_w_balancing.feather\"))"
   ]
  },
  {
   "cell_type": "code",
   "execution_count": 18,
   "id": "81da2c5a-9779-4918-a6ef-b6d8be6ca08b",
   "metadata": {},
   "outputs": [],
   "source": [
    "df_vw_balance =  read_feather.read(os.path.join(GeneralConfig.path2data.value,\"VW\",\"VW_ID3_FTM_8A_CEE7_preAnode_Balancing.feather\"))"
   ]
  },
  {
   "cell_type": "code",
   "execution_count": 19,
   "id": "d65c0482-b000-4c9f-95de-4962d3561777",
   "metadata": {},
   "outputs": [],
   "source": [
    "df_vw_cell_defect = read_feather.read(os.path.join(GeneralConfig.path2data.value,\"VW\",\"VW_ID3_GB_JB_8A_CEE7_cell_defect.feather\"))"
   ]
  },
  {
   "cell_type": "code",
   "execution_count": 20,
   "id": "281fd307-1c1d-40eb-b05d-0db18fb1be54",
   "metadata": {},
   "outputs": [],
   "source": [
    "df_tesla =  read_feather.read(os.path.join(GeneralConfig.path2data.value,\"Tesla\",\"Tesla_JB_6A_CEE7_C57_2022.feather\"))"
   ]
  },
  {
   "cell_type": "code",
   "execution_count": 21,
   "id": "0f5cf397-6e47-4b49-9da2-1604e85cdafd",
   "metadata": {},
   "outputs": [],
   "source": [
    "df_polestar =  read_feather.read(os.path.join(GeneralConfig.path2data.value,\"Polestar_2\",\"Polestar_2_JB_10A_CEE7.feather\"))"
   ]
  },
  {
   "cell_type": "code",
   "execution_count": 22,
   "id": "f3c4a217-f96a-4d95-99df-2ba81110b366",
   "metadata": {},
   "outputs": [],
   "source": [
    "df_cupra_288 =  read_feather.read(os.path.join(GeneralConfig.path2data.value,\"Cupra\",\"2024\",\"Cupra_288_JB_8A_CEE7.feather\"))"
   ]
  },
  {
   "cell_type": "code",
   "execution_count": 23,
   "id": "154c90fb-a487-46cf-9782-51ea7fdf014d",
   "metadata": {},
   "outputs": [],
   "source": [
    "df_cupra_397 =  read_feather.read(os.path.join(GeneralConfig.path2data.value,\"Cupra\",\"2024\",\"Cupra_397_JB_8A_CEE7.feather\"))"
   ]
  },
  {
   "cell_type": "code",
   "execution_count": 24,
   "id": "9c2cf301-968a-4311-ba00-304b15e49b9d",
   "metadata": {},
   "outputs": [],
   "source": [
    "df_cupra_349 =  read_feather.read(os.path.join(GeneralConfig.path2data.value,\"Cupra\",\"2024\",\"Cupra_349_JB_8A_CEE7.feather\"))"
   ]
  },
  {
   "cell_type": "code",
   "execution_count": 25,
   "id": "5df577f9-e0e2-46f2-ac4f-4b0d02b597a0",
   "metadata": {},
   "outputs": [],
   "source": [
    "df_cupra_204 =  read_feather.read(os.path.join(GeneralConfig.path2data.value,\"Cupra\",\"2024\",\"Cupra_204_JB_8A_CEE7.feather\"))"
   ]
  },
  {
   "cell_type": "code",
   "execution_count": 26,
   "id": "12c3f528-3d04-481b-8228-ae635cc27a5f",
   "metadata": {},
   "outputs": [],
   "source": [
    "df_cupra_213 =  read_feather.read(os.path.join(GeneralConfig.path2data.value,\"Cupra\",\"2024\",\"Cupra_213_JB_8A_CEE7.feather\"))"
   ]
  },
  {
   "cell_type": "code",
   "execution_count": 28,
   "id": "8c65f914-0390-4d2c-aa7d-52137d74f903",
   "metadata": {},
   "outputs": [],
   "source": [
    "df_cupra_213_rep1 = read_feather.read(os.path.join(GeneralConfig.path2data.value,\"Cupra\",\"2022\",\"Cupra_213_JB_8A_CEE7_C45.feather\"))"
   ]
  },
  {
   "cell_type": "code",
   "execution_count": 29,
   "id": "eb82d138-0a7b-4420-9820-c849c9e278f9",
   "metadata": {},
   "outputs": [],
   "source": [
    "df_cupra_213_rep2 = read_feather.read(os.path.join(GeneralConfig.path2data.value,\"Cupra\",\"2022\",\"Cupra_213_JB_8A_CEE7_C45_repeatability.feather\"))"
   ]
  },
  {
   "cell_type": "code",
   "execution_count": 30,
   "id": "9383cf84-8ea5-4b0c-9b51-c8945cb616ec",
   "metadata": {},
   "outputs": [],
   "source": [
    "df_cupra_213_rep3 = read_feather.read(os.path.join(GeneralConfig.path2data.value,\"Cupra\",\"2022\",\"Cupra_213_JB_8A_CEE7_C45_repeatability_2.feather\"))"
   ]
  },
  {
   "cell_type": "code",
   "execution_count": 31,
   "id": "cdab9dd5-7373-43e7-a511-1685f1eb7b09",
   "metadata": {},
   "outputs": [],
   "source": [
    "%%capture\n",
    "df_cupra_213_rep1[\"SOC_Q\"] = df_cupra_213_rep1[\"Q\"].values/df_cupra_213_rep1[\"Q\"].max()*100\n",
    "df_cupra_213_rep2[\"SOC_Q\"] = df_cupra_213_rep2[\"Q\"].values/df_cupra_213_rep2[\"Q\"].max()*100\n",
    "df_cupra_213_rep3[\"SOC_Q\"] = df_cupra_213_rep3[\"Q\"].values/df_cupra_213_rep3[\"Q\"].max()*100"
   ]
  },
  {
   "cell_type": "code",
   "execution_count": 32,
   "id": "d3567c39-5b16-4251-b891-8a301b0c2b34",
   "metadata": {},
   "outputs": [
    {
     "data": {
      "text/plain": [
       "1439.042932501062"
      ]
     },
     "execution_count": 32,
     "metadata": {},
     "output_type": "execute_result"
    }
   ],
   "source": [
    "df_cupra_288_C45 = read_feather.read(os.path.join(GeneralConfig.path2data.value,\"Cupra\",\"2022\",\"Cupra_288_JB_8A_CEE7_C45.feather\"))\n",
    "np.mean(df_cupra_288_C45[\"U\"]*df_cupra_288_C45[\"I\"])"
   ]
  },
  {
   "cell_type": "code",
   "execution_count": 33,
   "id": "65a34958-71e3-42cf-9f5c-42932438a71f",
   "metadata": {},
   "outputs": [
    {
     "data": {
      "text/plain": [
       "3742.6386490538375"
      ]
     },
     "execution_count": 33,
     "metadata": {},
     "output_type": "execute_result"
    }
   ],
   "source": [
    "df_cupra_288_C17 = read_feather.read(os.path.join(GeneralConfig.path2data.value,\"Cupra\",\"2022\",\"Cupra_288_JB_6A_CEE16_C17.feather\"))\n",
    "np.mean(df_cupra_288_C17[\"U\"]*df_cupra_288_C17[\"I\"])"
   ]
  },
  {
   "cell_type": "code",
   "execution_count": 34,
   "id": "5ff5efee-24f7-44b3-a712-7aad45fc700c",
   "metadata": {},
   "outputs": [
    {
     "data": {
      "text/plain": [
       "6104.108513925527"
      ]
     },
     "execution_count": 34,
     "metadata": {},
     "output_type": "execute_result"
    }
   ],
   "source": [
    "df_cupra_288_C10 = read_feather.read(os.path.join(GeneralConfig.path2data.value,\"Cupra\",\"2022\",\"Cupra_288_JB_10A_CEE16_C10.feather\"))\n",
    "np.mean(df_cupra_288_C10[\"U\"]*df_cupra_288_C10[\"I\"])"
   ]
  },
  {
   "cell_type": "code",
   "execution_count": 35,
   "id": "9b65e6af-7828-418a-810f-792ac0562f6b",
   "metadata": {},
   "outputs": [
    {
     "data": {
      "text/plain": [
       "10376.598007986517"
      ]
     },
     "execution_count": 35,
     "metadata": {},
     "output_type": "execute_result"
    }
   ],
   "source": [
    "df_cupra_288_C6 = read_feather.read(os.path.join(GeneralConfig.path2data.value,\"Cupra\",\"2022\",\"Cupra_288_JB_32A_CEE32_C6.feather\"))\n",
    "np.mean(df_cupra_288_C6[\"U\"]*df_cupra_288_C6[\"I\"])"
   ]
  },
  {
   "cell_type": "code",
   "execution_count": 36,
   "id": "3fa4e6e7-661a-4216-89e7-985cef685942",
   "metadata": {},
   "outputs": [],
   "source": [
    "%%capture\n",
    "df_cupra_288_C45[\"E\"] = sp.integrate.cumtrapz((df_cupra_288_C45[\"U\"].values*df_cupra_288_C45[\"I\"].values)/1000, df_cupra_288_C45[\"time_h\"], initial=0)\n",
    "df_cupra_288_C17[\"E\"] = sp.integrate.cumtrapz((df_cupra_288_C17[\"U\"].values*df_cupra_288_C17[\"I\"].values)/1000, df_cupra_288_C17[\"time_h\"], initial=0)\n",
    "df_cupra_288_C10[\"E\"] = sp.integrate.cumtrapz((df_cupra_288_C10[\"U\"].values*df_cupra_288_C10[\"I\"].values)/1000, df_cupra_288_C10[\"time_h\"], initial=0)\n",
    "df_cupra_288_C6[\"E\"] = sp.integrate.cumtrapz((df_cupra_288_C6[\"U\"].values*df_cupra_288_C6[\"I\"].values)/1000, df_cupra_288_C6[\"time_h\"], initial=0)"
   ]
  },
  {
   "cell_type": "code",
   "execution_count": 37,
   "id": "7184b2df-c923-4cc3-b6d9-130bc141cff6",
   "metadata": {},
   "outputs": [
    {
     "data": {
      "text/plain": [
       "1840"
      ]
     },
     "execution_count": 37,
     "metadata": {},
     "output_type": "execute_result"
    }
   ],
   "source": [
    "8*230"
   ]
  },
  {
   "cell_type": "code",
   "execution_count": 38,
   "id": "718ae08f-bd9e-4d03-b29b-973cb7411e16",
   "metadata": {},
   "outputs": [
    {
     "data": {
      "text/plain": [
       "4156.921938165306"
      ]
     },
     "execution_count": 38,
     "metadata": {},
     "output_type": "execute_result"
    }
   ],
   "source": [
    "6*400*np.sqrt(3)"
   ]
  },
  {
   "cell_type": "code",
   "execution_count": 39,
   "id": "8fb6553b-7a70-416f-8468-b37461eb962d",
   "metadata": {},
   "outputs": [
    {
     "data": {
      "text/plain": [
       "6928.203230275509"
      ]
     },
     "execution_count": 39,
     "metadata": {},
     "output_type": "execute_result"
    }
   ],
   "source": [
    "10*400*np.sqrt(3)"
   ]
  },
  {
   "cell_type": "code",
   "execution_count": 40,
   "id": "d2505b8a-1233-4046-b363-35fd74793430",
   "metadata": {},
   "outputs": [
    {
     "data": {
      "text/plain": [
       "11085.125168440814"
      ]
     },
     "execution_count": 40,
     "metadata": {},
     "output_type": "execute_result"
    }
   ],
   "source": [
    "16*400*np.sqrt(3)"
   ]
  },
  {
   "cell_type": "markdown",
   "id": "fcf6bf03-0e32-4809-b74c-ad3eedfafef1",
   "metadata": {},
   "source": [
    "## Cupra voltage spread"
   ]
  },
  {
   "cell_type": "code",
   "execution_count": 42,
   "id": "128e65fc-6baf-41f2-a2e4-b49172b45fff",
   "metadata": {},
   "outputs": [],
   "source": [
    "%%capture\n",
    "df_cupra_397[\"E\"] = sp.integrate.cumtrapz((df_cupra_397[\"U\"].values*df_cupra_397[\"I\"].values)/1000, df_cupra_397[\"time_h\"], initial=0)\n",
    "df_cupra_349[\"E\"] = sp.integrate.cumtrapz((df_cupra_349[\"U\"].values*df_cupra_349[\"I\"].values)/1000, df_cupra_349[\"time_h\"], initial=0)\n",
    "df_cupra_288[\"E\"] = sp.integrate.cumtrapz((df_cupra_288[\"U\"].values*df_cupra_288[\"I\"].values)/1000, df_cupra_288[\"time_h\"], initial=0)\n",
    "df_cupra_204[\"E\"] = sp.integrate.cumtrapz((df_cupra_204[\"U\"].values*df_cupra_204[\"I\"].values)/1000, df_cupra_204[\"time_h\"], initial=0)\n",
    "df_cupra_213[\"E\"] = sp.integrate.cumtrapz((df_cupra_213[\"U\"].values*df_cupra_213[\"I\"].values)/1000, df_cupra_213[\"time_h\"], initial=0)"
   ]
  },
  {
   "cell_type": "code",
   "execution_count": 43,
   "id": "57112018-e8a7-460d-8c54-62b02f28dfc5",
   "metadata": {},
   "outputs": [],
   "source": [
    "%%capture\n",
    "df_cupra_397[\"SOC_Q\"] = df_cupra_397[\"Q\"].values/df_cupra_397[\"Q\"].max()*100\n",
    "df_cupra_349[\"SOC_Q\"] = df_cupra_349[\"Q\"].values/df_cupra_349[\"Q\"].max()*100\n",
    "df_cupra_288[\"SOC_Q\"] = df_cupra_288[\"Q\"].values/df_cupra_288[\"Q\"].max()*100\n",
    "df_cupra_204[\"SOC_Q\"] = df_cupra_204[\"Q\"].values/df_cupra_204[\"Q\"].max()*100\n",
    "df_cupra_213[\"SOC_Q\"] = df_cupra_213[\"Q\"].values/df_cupra_213[\"Q\"].max()*100"
   ]
  },
  {
   "cell_type": "code",
   "execution_count": 44,
   "id": "8b0c5dfc-c078-4289-afb2-ce2760e853aa",
   "metadata": {},
   "outputs": [],
   "source": [
    "df_U_spread = df_cupra_397[[\"SOC\",\"SOC_Q\",\"U\"]].copy()\n",
    "df_U_spread = pd.merge_asof(df_U_spread, df_cupra_349[[\"SOC_Q\",\"U\"]].copy(), on=['SOC_Q'], direction='nearest',suffixes=('_397', '_349'))\n",
    "df_U_spread = pd.merge_asof(df_U_spread, df_cupra_288[[\"SOC_Q\",\"U\"]].copy(), on=['SOC_Q'], direction='nearest',suffixes=('', '_288'))\n",
    "df_U_spread = pd.merge_asof(df_U_spread, df_cupra_204[[\"SOC_Q\",\"U\"]].copy(), on=['SOC_Q'], direction='nearest',suffixes=('', '_204'))\n",
    "df_U_spread = pd.merge_asof(df_U_spread, df_cupra_213[[\"SOC_Q\",\"U\"]].copy(), on=['SOC_Q'], direction='nearest',suffixes=('', '_213'))\n",
    "df_U_spread.rename(columns={\"U\":\"U_288\"},inplace=True)"
   ]
  },
  {
   "cell_type": "code",
   "execution_count": 45,
   "id": "ec979a14-e28c-4b1a-992c-aed6b00938d9",
   "metadata": {},
   "outputs": [],
   "source": [
    "df_U_spread[\"U_mean\"] = df_U_spread[[\"U_204\",\"U_213\",\"U_288\",\"U_397\",\"U_349\"]].mean(axis=1)\n",
    "df_U_spread[\"U_min\"] = df_U_spread[[\"U_204\",\"U_213\",\"U_288\",\"U_397\",\"U_349\"]].min(axis=1)\n",
    "df_U_spread[\"U_max\"] = df_U_spread[[\"U_204\",\"U_213\",\"U_288\",\"U_397\",\"U_349\"]].max(axis=1)\n",
    "df_U_spread[\"dU_min\"] = df_U_spread[\"U_min\"]-df_U_spread[\"U_mean\"]\n",
    "df_U_spread[\"dU_max\"] = df_U_spread[\"U_max\"]-df_U_spread[\"U_mean\"]"
   ]
  },
  {
   "cell_type": "markdown",
   "id": "b49179ed-395d-4dc6-94f7-783dd0815005",
   "metadata": {
    "tags": []
   },
   "source": [
    "### Tesla Cell DVA"
   ]
  },
  {
   "cell_type": "code",
   "execution_count": 47,
   "id": "cfc837c8-23b6-4345-ab6a-231084ee9f5a",
   "metadata": {},
   "outputs": [],
   "source": [
    "def filter_func_v(signal):\n",
    "    perc_filter = 1 #% filter\n",
    "    filtered_signal = FilterMethods().rolling_mean_numpy(signal,window_size=FilterMethods().round_to_next_odd_number(perc_filter/100 * len(signal)))\n",
    "    filtered_signal_reverse = FilterMethods().rolling_mean_numpy(np.flip(signal),window_size=FilterMethods().round_to_next_odd_number(perc_filter/100 * len(signal)))\n",
    "    return (filtered_signal+np.flip(filtered_signal_reverse))/2"
   ]
  },
  {
   "cell_type": "code",
   "execution_count": 48,
   "id": "186bf4b6-3617-4acf-afde-7440b6af8f98",
   "metadata": {},
   "outputs": [],
   "source": [
    "dva_extractor = DVA()\n",
    "dva_extractor.set_filter(filter_func_v)"
   ]
  },
  {
   "cell_type": "code",
   "execution_count": 49,
   "id": "717a20df-ee10-4aaf-97c5-32cf6ff532ca",
   "metadata": {},
   "outputs": [],
   "source": [
    "dva_tesla, soc_tesla =dva_extractor.get_dva(time=df_tesla[\"time_h\"], capacity=df_tesla[\"Q\"], voltage=df_tesla[\"U\"],crop_cap_Ah=(1,180),return_soc = True,soc_signal=df_tesla[\"SOC\"])"
   ]
  },
  {
   "cell_type": "code",
   "execution_count": 50,
   "id": "97b970d2-a5b9-443a-8f55-c00bf8a16b08",
   "metadata": {},
   "outputs": [],
   "source": [
    "df_cell_dvas_tesla = dva_extractor.get_cell_dva_from_pack(time=df_tesla[\"time_h\"], capacity=df_tesla[\"Q\"], df_cell_voltages=df_tesla, crop_cap_Ah=(1,180),return_soc = True,soc_signal=df_tesla[\"SOC\"])"
   ]
  },
  {
   "cell_type": "markdown",
   "id": "4068151d-5a17-4269-afe7-175cffd3bd13",
   "metadata": {},
   "source": [
    "## Figure"
   ]
  },
  {
   "cell_type": "code",
   "execution_count": 52,
   "id": "f506aee2-0ea3-47de-a460-20f4687e7feb",
   "metadata": {},
   "outputs": [],
   "source": [
    "outline=mpe.withStroke(linewidth=2, foreground='black')"
   ]
  },
  {
   "cell_type": "code",
   "execution_count": 53,
   "id": "d8726e9d-9b99-475d-9f61-a8f8832b89fb",
   "metadata": {},
   "outputs": [],
   "source": [
    "def plot_model2model_bar(axes5):\n",
    "    x = [5,4,3,2,1]\n",
    "    E = [df_cupra_397.E.max(),df_cupra_349.E.max(),df_cupra_288.E.max(),df_cupra_204.E.max(),df_cupra_213.E.max()]\n",
    "    Q = [df_cupra_397.Q.max(),df_cupra_349.Q.max(),df_cupra_288.Q.max(),df_cupra_204.Q.max(),df_cupra_213.Q.max()]\n",
    "\n",
    "    width = 0.8  # the width of the bars\n",
    "    offset = width/2\n",
    "    xpos = 0.5\n",
    "    # capacity/energy\n",
    "    rects = axes5.barh(x[0] , E[0], width,color=colors[0],edgecolor=\"k\")\n",
    "    rects = axes5.barh(x[1] , E[1], width,color=colors[1],edgecolor=\"k\")\n",
    "    rects = axes5.barh(x[2] , E[2], width,color=colors[2],edgecolor=\"k\")\n",
    "    rects = axes5.barh(x[3] , E[3], width,color=colors[3],edgecolor=\"k\")\n",
    "    rects = axes5.barh(x[4] , E[4], width,color=colors[4],edgecolor=\"k\")\n",
    "    #rects = axes5.barh(x[0] , Q[0], width,color=colors[0],edgecolor=\"k\",hatch=\"///\")\n",
    "    axes5.set_xlabel(r\"Vehicle energy in kWh\")\n",
    "    #spines\n",
    "    axes5.spines['top'].set_color('white')\n",
    "    axes5.spines['right'].set_color('white')\n",
    "    axes5.set_xlim([0,74])\n",
    "    tick_positions = np.array([0,20,40,58])\n",
    "    axes5.set_xticks(tick_positions)\n",
    "    tick_labels = [\"0\",\"20\",\"40\",r\"$\\bf{58}$\"]\n",
    "    axes5.set_xticklabels(tick_labels,rotation=0,fontsize=7,ha='center',va=\"center\",rotation_mode=\"anchor\")\n",
    "    axes5.xaxis.set_tick_params(pad=6)\n",
    "    axes5.xaxis.set_minor_locator(FixedLocator([0,10,30,50]))\n",
    "    axes5.grid(axis='x')\n",
    "    axes5.set_axisbelow(True)\n",
    "    tick_labels = [\"\",\"Cupra #5\",\"Cupra #4\",\"Cupra #3\",\"Cupra #2\",\"Cupra #1\"]\n",
    "    axes5.set_yticklabels(tick_labels,rotation=0,fontsize=7,ha='right',va=\"center\",rotation_mode=\"anchor\")\n",
    "    axes5.yaxis.set_ticks_position('none') \n",
    "\n",
    "    axes5.annotate(text=f\"{E[4]:.1f} kWh\", xy=(E[4]+2.5,x[4]),fontsize=7,rotation=0,ha=\"left\",va=\"center\",bbox=dict(boxstyle='square,pad=0',fc='white', ec='none', alpha=0))\n",
    "    axes5.annotate(text=f\"{E[3]:.1f} kWh\", xy=(E[3]+2.5,x[3]),fontsize=7,rotation=0,ha=\"left\",va=\"center\",bbox=dict(boxstyle='square,pad=0',fc='white', ec='none', alpha=0))\n",
    "    axes5.annotate(text=f\"{E[2]:.1f} kWh\", xy=(E[2]+2.5,x[2]),fontsize=7,rotation=0,ha=\"left\",va=\"center\",bbox=dict(boxstyle='square,pad=0',fc='white', ec='none', alpha=0))\n",
    "    axes5.annotate(text=f\"{E[1]:.1f} kWh\", xy=(E[1]+2.5,x[1]),fontsize=7,rotation=0,ha=\"left\",va=\"center\",bbox=dict(boxstyle='square,pad=0',fc='white', ec='none', alpha=0))\n",
    "    axes5.annotate(text=f\"{E[0]:.1f} kWh\", xy=(E[0]+2.5,x[0]),fontsize=7,rotation=0,ha=\"left\",va=\"center\",bbox=dict(boxstyle='square,pad=0',fc='white', ec='none', alpha=0))\n",
    "    return"
   ]
  },
  {
   "cell_type": "code",
   "execution_count": 54,
   "id": "47343d3e-61d5-4649-bb6e-b0638320eb81",
   "metadata": {},
   "outputs": [],
   "source": [
    "def plot_meas2meas(axes):\n",
    "    axes.grid()\n",
    "    axes.set_axisbelow(True)\n",
    "   \n",
    "    axes.plot(df_cupra_213_rep1[\"time_h\"],df_cupra_213_rep1[\"U\"],color=colors[0],label=\"Repetition #1\")\n",
    "    axes.plot(df_cupra_213_rep2[\"time_h\"],df_cupra_213_rep2[\"U\"],color=colors[2],label=\"Repetition #2\")\n",
    "    axes.plot(df_cupra_213_rep3[\"time_h\"],df_cupra_213_rep3[\"U\"],color=colors[4],label=\"Repetition #3\")\n",
    "\n",
    "    axes.set_xlim([-0.1,45])\n",
    "    tick_positions = np.array([0,15,30,45])\n",
    "    axes.set_xticks(tick_positions)\n",
    "    axes.set_ylim([360,460])\n",
    "    tick_positions = np.array([360,410,460])\n",
    "    axes.set_yticks(tick_positions)\n",
    "    axes.yaxis.set_minor_locator(FixedLocator([385,435]))\n",
    "    axes.set_ylabel(\"Pack voltage in V\")\n",
    "    axes.legend(loc=\"upper left\", framealpha =1,ncols=1, fancybox=False,labelspacing=0.1,columnspacing=1,edgecolor=\"black\",fontsize=6)\n",
    "    axes.set_xlabel(\"Charging time in h\")\n",
    "    return"
   ]
  },
  {
   "cell_type": "code",
   "execution_count": 55,
   "id": "1041953e-aa0b-4e52-8ae2-b4628edd5887",
   "metadata": {},
   "outputs": [],
   "source": [
    "def myround(x, prec=2, base=.05):\n",
    "    return round(base * round(float(x)/base),prec)"
   ]
  },
  {
   "cell_type": "code",
   "execution_count": 56,
   "id": "2da9adb9-9b78-432e-84ed-05b332b79ef4",
   "metadata": {},
   "outputs": [],
   "source": [
    "def plot_cellvariation_pocv(axes):\n",
    "    sec_ax = axes.twinx()\n",
    "    axes.set_zorder(sec_ax.get_zorder()+1)  # default zorder is 0 for ax1 and ax2\n",
    "    axes.patch.set_visible(False) \n",
    "    \n",
    "    axes.grid()\n",
    "    axes.set_axisbelow(True)\n",
    "    \n",
    "    cell_cols = [col for col in df_tesla.columns if \"cell\" in col]\n",
    "    for cell in cell_cols:\n",
    "        axes.plot(df_tesla[\"Q\"]/df_tesla[\"Q\"].max()*100,df_tesla[cell]*106+0.8,color = VisualizationConfig.TUMblau.value,linewidth=1)#+0.8 potential effect of internal resistances in the pack lead to an offset of 1V\n",
    "    axes.plot(df_tesla[\"Q\"]/df_tesla[\"Q\"].max()*100,df_tesla[\"U\"],color=VisualizationConfig.TUMorange.value,linewidth=1.5)\n",
    "        \n",
    "    axes.set_xlim([-1,101])\n",
    "    tick_positions = np.array([0,25,50,75,100])\n",
    "    axes.set_xticks(tick_positions)\n",
    "    axes.set_ylim([340,360])\n",
    "    tick_positions = np.array([340,350,360])\n",
    "    axes.set_yticks(tick_positions)\n",
    "    axes.set_ylabel(\"Pack voltage in V\")\n",
    "    #axes.yaxis.set_minor_locator(FixedLocator([340,360]))\n",
    "    axes.set_xlabel(\"SOC in %\")\n",
    "    handles, labels =axes.get_legend_handles_labels()  \n",
    "    line = plt.hlines(0,0,1,label='Pack', color=VisualizationConfig.TUMorange.value,linewidth=1.5)\n",
    "    line2 = plt.hlines(0,0,1,label='Cells', color=VisualizationConfig.TUMblau.value)\n",
    "    axes.legend(handles=[line,line2],loc=\"lower right\", framealpha =1, fancybox=False,labelspacing=0.1,columnspacing=1,edgecolor=\"black\",fontsize=6)\n",
    "\n",
    "    \n",
    "    #sec_ax.set_xlim([0,160])\n",
    "    sec_ax.set_ylim(np.array([340,360])/106)\n",
    "    tick_labels = np.array([340,350,360])/106\n",
    "    sec_ax.set_yticks(tick_labels)\n",
    "    sec_ax.set_yticklabels([f\"{myround(label):.2f}\" for label in tick_labels])\n",
    "    sec_ax.set_ylabel(\"Cell voltage in V\")\n",
    "    return"
   ]
  },
  {
   "cell_type": "code",
   "execution_count": 57,
   "id": "21125833-caa3-4940-bf8e-d54bcfc20e48",
   "metadata": {},
   "outputs": [],
   "source": [
    "def plot_cellvariation_dva(axes):\n",
    "    sec_ax = axes.twinx()\n",
    "    axes.set_zorder(sec_ax.get_zorder()+1)  # default zorder is 0 for ax1 and ax2\n",
    "    axes.patch.set_visible(False) \n",
    "    \n",
    "    cell_cols = [col for col in df_cell_dvas_tesla.columns if \"cell\" in col]\n",
    "    for cell in cell_cols:\n",
    "        axes.plot(df_cell_dvas_tesla[\"Q\"],df_cell_dvas_tesla[cell]*106*161,color = VisualizationConfig.TUMblau.value,linewidth=1)\n",
    "    outlier = 40\n",
    "    axes.plot(df_cell_dvas_tesla[\"Q\"],df_cell_dvas_tesla[cell_cols[outlier]]*106*161,color = VisualizationConfig.TUMschwarz.value,linewidth=1)\n",
    "    axes.plot(soc_tesla,dva_tesla*161,color=VisualizationConfig.TUMorange.value,linewidth=1)\n",
    "    \n",
    "    axes.set_ylabel(r\"$Q_{pack}\\cdot \\frac{dU}{dQ}$ in V\")\n",
    "    axes.yaxis.set_label_coords(-0.05,0.5)\n",
    "    axes.set_xlabel(\"SOC in %\") \n",
    "    axes.set_xlim([-1,100])\n",
    "    tick_positions = np.array([0,25,50,75,100])\n",
    "    axes.set_xticks(tick_positions)\n",
    "    axes.set_ylim([0,106])\n",
    "    tick_positions = np.array([0,54,106])\n",
    "    axes.yaxis.set_minor_locator(FixedLocator([27,81]))\n",
    "    axes.set_yticks(tick_positions)\n",
    "    #axes.yaxis.set_minor_locator(FixedLocator([385,435]))\n",
    "    axes.grid()\n",
    "    axes.set_axisbelow(True)\n",
    "    handles, labels =axes.get_legend_handles_labels()  \n",
    "    line = plt.hlines(0,0,1,label='Pack', color=VisualizationConfig.TUMorange.value,linewidth=1)\n",
    "    line2 = plt.hlines(0,0,1,label='Cells', color=VisualizationConfig.TUMblau.value)\n",
    "    line3 = plt.hlines(0,0,1,label='Outlier cell', color=VisualizationConfig.TUMschwarz.value)\n",
    "    axes.legend(handles=[line,line2,line3],loc=\"lower right\", framealpha =1, fancybox=False,labelspacing=0.1,columnspacing=1,edgecolor=\"black\",fontsize=6)\n",
    "\n",
    "    #sec_ax.set_xlim([0,160])\n",
    "    sec_ax.set_ylim([0,1])\n",
    "    tick_labels = np.array([0,0.5,1])\n",
    "    sec_ax.set_yticks(tick_labels)\n",
    "    sec_ax.yaxis.set_minor_locator(FixedLocator([0.5,0.75]))\n",
    "    sec_ax.set_ylabel(r\"$Q_{cell}\\cdot \\frac{dU}{dQ}$ in V\")\n",
    "    return axes"
   ]
  },
  {
   "cell_type": "code",
   "execution_count": 58,
   "id": "7c75d431-db9e-4f83-aa53-73e6b81b352f",
   "metadata": {},
   "outputs": [],
   "source": [
    "def plot_balance(axes):\n",
    "    axes.grid()\n",
    "    axes.set_axisbelow(True)\n",
    "   \n",
    "    axes.plot(df_vw_relax[\"time_h\"],df_vw_relax[\"I\"].rolling(10).mean(),color=colors[0],label=\"Relaxation\")\n",
    "    axes.plot(df_cupra_213_balance[\"time_h\"],df_cupra_213_balance[\"I\"].rolling(10).mean(),color=colors[4],label=\"Balancing\")\n",
    "\n",
    "    axes.set_xlim([-0.1,80])\n",
    "    tick_positions = np.array([0,20,40,60,80])\n",
    "    axes.set_xticks(tick_positions)\n",
    "    axes.set_ylim([-1,5])\n",
    "    #tick_positions = np.array([360,410,460])\n",
    "    #axes.set_yticks(tick_positions)\n",
    "    #axes.yaxis.set_minor_locator(FixedLocator([385,435]))\n",
    "    axes.set_ylabel(\"Charging current in A\")\n",
    "    axes.legend(loc=\"upper right\", framealpha =1,ncols=1, fancybox=False,labelspacing=0.1,columnspacing=1,edgecolor=\"black\",fontsize=6)\n",
    "    axes.set_xlabel(\"Charging time in h\")\n",
    "    return"
   ]
  },
  {
   "cell_type": "code",
   "execution_count": 59,
   "id": "10f1172c-3dd6-42ec-a3fa-3242d6a0bdc8",
   "metadata": {},
   "outputs": [],
   "source": [
    "def plot_crates(axes):\n",
    "    sec_ax = axes.twinx()\n",
    "    axes.set_zorder(sec_ax.get_zorder()+1)  # default zorder is 0 for ax1 and ax2\n",
    "    axes.patch.set_visible(False) \n",
    "\n",
    "    #axes.grid()\n",
    "    #axes.set_axisbelow(True)\n",
    "    axes.bar([15,30,45],[df_cupra_288_C45[\"Q\"].max()/2+360,df_cupra_288_C10[\"Q\"].max()/2+360,df_cupra_288_C6[\"Q\"].max()/2+360],width=10,color=[colors[0],colors[2],colors[4]],alpha=0.7)\n",
    "    axes.plot(df_cupra_288_C45[\"E\"],df_cupra_288_C45[\"U\"],color=colors[0],label=\"1.8 kW (45h)\")\n",
    "    #axes.plot(df_cupra_288_C17[\"Q\"],df_cupra_288_C17[\"U\"],color=colors[1],label=\"4.2 kW (17h)\")\n",
    "    axes.plot(df_cupra_288_C10[\"E\"],df_cupra_288_C10[\"U\"],color=colors[2],label=\"6.9 kW (10h)\")\n",
    "    axes.plot(df_cupra_288_C6[\"E\"],df_cupra_288_C6[\"U\"],color=colors[4],label=\"11.0 kW (6h)\")\n",
    "\n",
    "    axes.set_xlim([-0.1,60])\n",
    "    tick_positions = np.array([0,15,30,45,60])\n",
    "    axes.set_xticks(tick_positions)\n",
    "    axes.set_ylim([360,460])\n",
    "    tick_positions = np.array([360,410,460])\n",
    "    axes.set_yticks(tick_positions)\n",
    "    axes.yaxis.set_minor_locator(FixedLocator([385,435]))\n",
    "    axes.set_ylabel(\"Pack voltage in V\")\n",
    "    axes.legend(loc=\"lower right\", framealpha =1,ncols=1, fancybox=False,labelspacing=0.1,columnspacing=1,edgecolor=\"black\",fontsize=6)\n",
    "    axes.set_xlabel(\"Charged energy in kWh\")\n",
    "    \n",
    "    #sec_ax.bar([15,30,45],[df_cupra_288_C45[\"Q\"].max(),df_cupra_288_C10[\"Q\"].max(),df_cupra_288_C6[\"Q\"].max()],width=10,color=None,alpha=0.7)\n",
    "    sec_ax.set_ylabel(\"Charged capacity in Ah\")\n",
    "    sec_ax.set_xlim([0,60])\n",
    "    sec_ax.set_ylim([0,200])\n",
    "    tick_positions = np.array([0,100,200])\n",
    "    sec_ax.set_yticks(tick_positions)\n",
    "    sec_ax.yaxis.set_minor_locator(FixedLocator([50,150]))\n",
    "    \n",
    "    axes.annotate(text='150.7', xy=(15,df_cupra_288_C45[\"Q\"].max()/2+360+5),fontsize=7,rotation=0,ha=\"center\",va=\"center\",bbox=dict(boxstyle='square,pad=0',fc='white', ec='none', alpha=0))\n",
    "    axes.annotate(text='148.4', xy=(30,df_cupra_288_C10[\"Q\"].max()/2+360+5),fontsize=7,rotation=0,ha=\"center\",va=\"center\",bbox=dict(boxstyle='square,pad=0',fc='white', ec='none', alpha=0))\n",
    "    axes.annotate(text='147.8', xy=(45,df_cupra_288_C6[\"Q\"].max()/2+360+5),fontsize=7,rotation=0,ha=\"center\",va=\"center\",bbox=dict(boxstyle='square,pad=0',fc='white', ec='none', alpha=0))\n",
    "    return"
   ]
  },
  {
   "cell_type": "code",
   "execution_count": 60,
   "id": "a9a7ac50-7f95-4313-87d3-2d776f23242b",
   "metadata": {},
   "outputs": [],
   "source": [
    "def plot_software(axes):\n",
    "    sec_ax = axes.twinx()\n",
    "    axes.set_zorder(sec_ax.get_zorder()+1)  # default zorder is 0 for ax1 and ax2\n",
    "    axes.patch.set_visible(False) \n",
    "    \n",
    "    axes.grid(which=\"both\",axis=\"y\")\n",
    "    axes.set_axisbelow(True)\n",
    "    axes.bar([25,50,75],[df_vw[\"E\"].max()*(100/80)+360,df_vw_2[\"E\"].max()*(100/80)+360,df_vw_3[\"E\"].max()*(100/80)+360],width=13,color=[colors[0],colors[2],colors[4]],ec=\"k\")\n",
    "    axes.plot(df_vw[\"SOC\"],df_vw[\"U\"],color=colors[0],label=\"ID.Software 2.0 (2021)\",lw=1,path_effects=[outline])\n",
    "    axes.plot(df_vw_2[\"SOC\"],df_vw_2[\"U\"],color=colors[2],label=\"ID.Software 2.4 (2023)\",lw=1,path_effects=[outline])\n",
    "    axes.plot(df_vw_3[\"SOC\"],df_vw_3[\"U\"],color=colors[4],label=\"ID.Software 3.2 (2024)\",lw=1,path_effects=[outline])\n",
    "\n",
    "    axes.set_xlim([-0.1,100])\n",
    "    tick_positions = np.array([0,25,50,75,100])\n",
    "    axes.set_xticks(tick_positions)\n",
    "    axes.set_ylim([360,460])\n",
    "    tick_positions = np.array([360,410,460])\n",
    "    axes.set_yticks(tick_positions)\n",
    "    axes.yaxis.set_minor_locator(FixedLocator([385,435]))\n",
    "    axes.set_ylabel(\"Pack voltage in V\")\n",
    "    axes.legend(loc=\"lower right\", framealpha =1,ncols=1, fancybox=False,labelspacing=0.1,columnspacing=1,edgecolor=\"black\",fontsize=6)\n",
    "    axes.set_xlabel(\"BMS-SOC in %\")\n",
    "    \n",
    "    sec_ax.bar([25,50,75],[df_vw[\"E\"].max(),df_vw_2[\"E\"].max(),df_vw_3[\"E\"].max()],width=13,color=None,alpha=0.7)\n",
    "    sec_ax.set_ylabel(\"Charged energy in kWh\")\n",
    "    sec_ax.set_xlim([-0.1,100])\n",
    "    sec_ax.set_ylim([0,80])\n",
    "    tick_positions = np.array([0,20,40,60,80])\n",
    "    sec_ax.set_yticks(tick_positions)\n",
    "    #sec_ax.yaxis.set_minor_locator(FixedLocator([50,150]))\n",
    "    \n",
    "    axes.annotate(text=f'{df_vw.E.max():.1f}', xy=(25,df_vw[\"E\"].max()*(100/80)+360+7),fontsize=7,rotation=0,ha=\"center\",va=\"center\",bbox=dict(boxstyle='square,pad=0',fc='white', ec='none', alpha=0.7))\n",
    "    axes.annotate(text=f'{df_vw_2.E.max():.1f}', xy=(50,df_vw_2[\"E\"].max()*(100/80)+360+7),fontsize=7,rotation=0,ha=\"center\",va=\"center\",bbox=dict(boxstyle='square,pad=0',fc='white', ec='none', alpha=0.7))\n",
    "    axes.annotate(text=f'{df_vw_3.E.max():.1f}', xy=(75,df_vw_3[\"E\"].max()*(100/80)+360+7),fontsize=7,rotation=0,ha=\"center\",va=\"center\",bbox=dict(boxstyle='square,pad=0',fc='white', ec='none', alpha=0.7))\n",
    "    return"
   ]
  },
  {
   "cell_type": "code",
   "execution_count": 61,
   "id": "b4d375e5-6f09-4ace-9e63-d2f73e04c19d",
   "metadata": {},
   "outputs": [],
   "source": [
    "def plot_model2model(axes4):\n",
    "    sec_ax = axes4.twinx()\n",
    "    axes4.set_zorder(sec_ax.get_zorder()+1)  # default zorder is 0 for ax1 and ax2\n",
    "    axes4.patch.set_visible(False) \n",
    "    \n",
    "    axes4.grid()\n",
    "    axes4.set_axisbelow(True)\n",
    "   \n",
    "    axes4.plot(df_cupra_397[\"SOC\"],df_cupra_397[\"U\"],color=colors[0],path_effects=[outline],label=\"Cupra #1\")\n",
    "    axes4.plot(df_cupra_349[\"SOC\"],df_cupra_349[\"U\"],color=colors[1],path_effects=[outline],label=\"Cupra #2\")\n",
    "    axes4.plot(df_cupra_288[\"SOC\"],df_cupra_288[\"U\"],color=colors[2],path_effects=[outline],label=\"Cupra #3\")\n",
    "    axes4.plot(df_cupra_204[\"SOC\"],df_cupra_204[\"U\"],color=colors[3],path_effects=[outline],label=\"Cupra #4\")\n",
    "    axes4.plot(df_cupra_213[\"SOC\"],df_cupra_213[\"U\"],color=colors[4],path_effects=[outline],label=\"Cupra #5\")\n",
    "    axes4.set_xlim([0,100])\n",
    "    tick_positions = np.array([0,25,50,75,100])\n",
    "    axes4.set_xticks(tick_positions)\n",
    "    axes4.set_ylim([360,460])\n",
    "    tick_positions = np.array([360,410,460])\n",
    "    axes4.set_yticks(tick_positions)\n",
    "    axes4.yaxis.set_minor_locator(FixedLocator([385,435]))\n",
    "    axes4.set_ylabel(\"Pack voltage in V\")\n",
    "    # axes4.legend(loc=\"upper left\", framealpha =1,ncols=1, fancybox=False,labelspacing=0.1,columnspacing=1,edgecolor=\"black\",fontsize=6)\n",
    "    axes4.set_xlabel(\"BMS-SOC in %\")\n",
    "    #axes4.set_xticklabels([])\n",
    "    handles, labels =axes4.get_legend_handles_labels() \n",
    "    patch = patches.Patch(facecolor=VisualizationConfig.TUMgrau20.value,edgecolor=VisualizationConfig.TUMgrau50.value, label=r'$\\Delta U$')\n",
    "    handles = handles+[patch]\n",
    "    axes4.legend(handles=handles,loc=\"lower right\",ncol=2, framealpha =1, fancybox=False,labelspacing=0.1,columnspacing=0.5,edgecolor=\"black\",fontsize=6,handlelength=1.5)\n",
    "    # secondary axis\n",
    "    sec_ax.plot(df_U_spread[\"SOC\"],df_U_spread[\"dU_min\"],color=VisualizationConfig.TUMgrau50.value)\n",
    "    sec_ax.plot(df_U_spread[\"SOC\"],df_U_spread[\"dU_max\"],color=VisualizationConfig.TUMgrau50.value)\n",
    "    sec_ax.fill_between(df_U_spread[\"SOC\"], df_U_spread[\"dU_min\"], df_U_spread[\"dU_max\"],color=VisualizationConfig.TUMgrau20.value)\n",
    "    sec_ax.set_ylim([-8,8])\n",
    "    tick_labels = np.array([-8,-4,0,4,8])\n",
    "    sec_ax.set_yticks(tick_labels)\n",
    "    sec_ax.yaxis.set_minor_locator(FixedLocator([-6,-2,2,6]))\n",
    "    sec_ax.set_ylabel(\"Voltage spread to mean in V\")\n",
    "    #sec_ax.set_ylabel(\"Voltage spread in V\")\n",
    "    ## arrow\n",
    "    axes4.annotate(text='', xy=(97,df_U_spread[df_U_spread[\"SOC\"]>75][\"dU_min\"].min()*(25/4)+410), xytext=(97,df_U_spread[df_U_spread[\"SOC\"]>75][\"dU_max\"].max()*(25/4)+410), arrowprops=dict(arrowstyle='<|-|>', shrinkA=0, shrinkB=0,facecolor=\"k\",lw=1))\n",
    "    #print(df_U_spread[df_U_spread[\"SOC\"]>75][\"dU_max\"].max()-df_U_spread[df_U_spread[\"SOC\"]>75][\"dU_min\"].min())\n",
    "    axes4.annotate(text='5.4 V', xy=(97,410),horizontalalignment=\"right\",verticalalignment=\"center\",rotation=90,fontsize=7)\n",
    "    return"
   ]
  },
  {
   "cell_type": "code",
   "execution_count": 62,
   "id": "8ce972ad-08bd-4745-a6a2-80a87ecd7e49",
   "metadata": {},
   "outputs": [],
   "source": [
    "def plot_veh2veh(axes1,axes2,axes3):\n",
    "    axes1.grid()\n",
    "    axes1.set_axisbelow(True)\n",
    "    axes1.plot(df_taycan[\"SOC\"],df_taycan[\"U\"],color=colors[4],label =\"Porsche Taycan (NMC622)\")\n",
    "    axes1.set_xlim([0,100])\n",
    "    tick_positions = np.array([0,25,50,75,100])\n",
    "    axes1.set_xticks(tick_positions)\n",
    "    axes1.set_xticklabels([])\n",
    "    axes1.set_ylim([630,850])\n",
    "    tick_positions = np.array([630,740,850])\n",
    "    axes1.set_yticks(tick_positions)\n",
    "    axes1.yaxis.set_minor_locator(FixedLocator([685,795]))\n",
    "    axes1.set_ylabel(\"Pack voltage in V\")\n",
    "    axes1.legend(loc=\"lower right\", framealpha =1, fancybox=False,labelspacing=0.1,columnspacing=1,edgecolor=\"black\",fontsize=6)\n",
    "\n",
    "    axes2.grid()\n",
    "    axes2.set_axisbelow(True)\n",
    "    axes2.plot(df_vw[\"SOC\"],df_vw[\"U\"],color=colors[2], label = \"VW ID.3 (NMC532)\")\n",
    "    axes2.set_xlim([0,100])\n",
    "    tick_positions = np.array([0,25,50,75,100])\n",
    "    axes2.set_xticks(tick_positions)\n",
    "    axes2.set_xticklabels([])\n",
    "    axes2.set_ylim([360,460])\n",
    "    tick_positions = np.array([360,410,460])\n",
    "    axes2.set_yticks(tick_positions)\n",
    "    axes2.yaxis.set_minor_locator(FixedLocator([385,435]))\n",
    "    axes2.set_ylabel(\"Pack voltage in V\")\n",
    "    axes2.legend(loc=\"lower right\", framealpha =1, fancybox=False,labelspacing=0.1,columnspacing=1,edgecolor=\"black\",fontsize=6)\n",
    "\n",
    "    axes3.grid()\n",
    "    axes3.set_axisbelow(True)\n",
    "    axes3.plot(df_tesla[\"SOC\"]-1,df_tesla[\"U\"],color=colors[0], label =\"Tesla Model 3 (LFP)\") # -1 for better visibility of the steep voltage increase at 100%\n",
    "    axes3.set_xlim([0,100])\n",
    "    tick_positions = np.array([0,25,50,75,100])\n",
    "    axes3.set_xticks(tick_positions)\n",
    "    axes3.set_ylim([330,370])\n",
    "    tick_positions = np.array([330,350,370])\n",
    "    axes3.set_yticks(tick_positions)\n",
    "    axes3.set_ylabel(\"Pack voltage in V\")\n",
    "    axes3.yaxis.set_minor_locator(FixedLocator([340,360]))\n",
    "    axes3.legend(loc=\"lower right\", framealpha =1, fancybox=False,labelspacing=0.1,columnspacing=1,edgecolor=\"black\",fontsize=6)\n",
    "    axes3.set_xlabel(\"BMS-SOC in %\")\n",
    "    return"
   ]
  },
  {
   "cell_type": "code",
   "execution_count": 63,
   "id": "75a1afe8-caa5-4dbc-979a-f0f8d67587fb",
   "metadata": {},
   "outputs": [],
   "source": [
    "def plot_veh2veh_one_plot(axes1):\n",
    "    axes1.grid()\n",
    "    axes1.set_axisbelow(True)\n",
    "    axes1.plot(df_taycan[\"SOC\"],df_taycan[\"U\"]-150,color=colors[4],label =\"Porsche Taycan (NMC622)\")    \n",
    "    axes1.plot(df_vw[\"SOC\"],df_vw[\"U\"],color=colors[3], label = \"VW ID.3 (NMC532)\")\n",
    "    axes1.plot(df_polestar[\"SOC\"],df_polestar[\"U\"],color=colors[1], label =\"Polestar 2 (NMC811)\")\n",
    "    axes1.plot(df_tesla[\"SOC\"]-0.8,df_tesla[\"U\"],color=colors[0], label =\"Tesla Model 3 (LFP)\")\n",
    "    \n",
    "    axes1.set_xlim([0,100])\n",
    "    tick_positions = np.array([0,25,50,75,100])\n",
    "    axes1.set_xticks(tick_positions)\n",
    "    axes1.set_xlabel(\"BMS-SOC in %\")\n",
    "    axes1.set_ylabel(\"Pack voltage in V\")\n",
    "\n",
    "    axes1.set_ylim([300,700])\n",
    "    tick_positions = np.array(range(300,701,50))\n",
    "    axes1.set_yticks(tick_positions)\n",
    "    #axes2.legend(loc=\"lower right\", framealpha =1, fancybox=False,labelspacing=0.1,columnspacing=1,edgecolor=\"black\",fontsize=6)\n",
    "    return"
   ]
  },
  {
   "cell_type": "code",
   "execution_count": 64,
   "id": "bce575be-dc29-4a96-99fc-169e31e6440e",
   "metadata": {},
   "outputs": [],
   "source": [
    "def plot_cell_defect(axes):\n",
    "    sec_ax = axes.twinx()\n",
    "    axes.set_zorder(sec_ax.get_zorder()+1)  # default zorder is 0 for ax1 and ax2\n",
    "    axes.patch.set_visible(False) \n",
    "    \n",
    "    axes.grid()\n",
    "    axes.set_axisbelow(True)\n",
    "    \n",
    "    cell_cols = [col for col in df_vw_cell_defect.columns if \"cell\" in col]\n",
    "    for cell in cell_cols[::-1]:\n",
    "        axes.plot(df_vw_cell_defect[\"SOC\"],df_vw_cell_defect[cell]*108,color = VisualizationConfig.TUMblau.value,linewidth=1)\n",
    "    axes.plot(df_vw_cell_defect[\"SOC\"],df_vw_cell_defect[cell_cols[-1]]*108,color = VisualizationConfig.TUMblau.value,linewidth=1,label=\"Cells\")\n",
    "    axes.plot(df_vw_cell_defect[\"SOC\"],df_vw_cell_defect[\"U\"],color=VisualizationConfig.TUMorange.value,linewidth=1.5,label=\"Pack\")\n",
    "    defect=13\n",
    "    axes.plot(df_vw_cell_defect[\"SOC\"],df_vw_cell_defect[cell_cols[defect]]*108,color = VisualizationConfig.TUMgrau50.value,linewidth=1,path_effects=[outline],label=\"Defective cell 13\")\n",
    "    \n",
    "    axes.set_xlim([0,100])\n",
    "    tick_positions = np.array([0,25,50,75,100])\n",
    "    axes.set_xticks(tick_positions)\n",
    "    axes.set_ylim([360,460])\n",
    "    tick_positions = np.array([360,410,460])\n",
    "    axes.set_yticks(tick_positions)\n",
    "    axes.set_ylabel(\"Pack voltage in V\")\n",
    "    axes.yaxis.set_minor_locator(FixedLocator([385,435]))\n",
    "    axes.set_xlabel(\"BMS-SOC in %\")\n",
    "    \n",
    "    axes.legend(loc=\"lower right\", framealpha =1, fancybox=False,labelspacing=0.1,columnspacing=1,edgecolor=\"black\",fontsize=6)\n",
    "\n",
    "    \n",
    "    #sec_ax.set_xlim([0,160])\n",
    "    sec_ax.set_ylim(np.array([360,460])/106)\n",
    "    tick_labels = np.array([360,410,460])/106\n",
    "    sec_ax.set_yticks(tick_labels)\n",
    "    sec_ax.set_yticklabels([f\"{myround(label):.2f}\" for label in tick_labels])\n",
    "    sec_ax.set_ylabel(\"Cell voltage in V\")\n",
    "    sec_ax.yaxis.set_minor_locator(FixedLocator([385/106,435/106]))\n",
    "\n",
    "    # # inset axes left\n",
    "    axins = axes.inset_axes([6, 412,46,44],transform = axes.transData) # [x0, y0, width, height]\n",
    "    for cell in cell_cols[::-1]:\n",
    "        axins.plot(df_vw_cell_defect[\"SOC\"],df_vw_cell_defect[cell]*108,color = VisualizationConfig.TUMblau.value,linewidth=1)\n",
    "    axins.plot(df_vw_cell_defect[\"SOC\"],df_vw_cell_defect[cell_cols[-1]]*108,color = VisualizationConfig.TUMblau.value,linewidth=1,label=\"Cells\")\n",
    "    axins.plot(df_vw_cell_defect[\"SOC\"],df_vw_cell_defect[\"U\"],color=VisualizationConfig.TUMorange.value,linewidth=1.5)\n",
    "    defect=13\n",
    "    axins.plot(df_vw_cell_defect[\"SOC\"],df_vw_cell_defect[cell_cols[defect]]*108,color = VisualizationConfig.TUMgrau50.value,linewidth=1,path_effects=[outline])\n",
    "    # subregion of the original image\n",
    "    x1, x2, y1, y2 = 0, 25,362,390\n",
    "    axins.set_xlim(x1, x2)\n",
    "    axins.set_ylim(y1, y2)\n",
    "    axins.set_xticklabels([])\n",
    "    axins.set_yticklabels([])\n",
    "    #axins.set_yticks([440,445,450,455])\n",
    "    axins.set_yticks([])\n",
    "    axins.set_xticks([])\n",
    "    axins.grid()\n",
    "    axes.indicate_inset_zoom(axins, edgecolor=\"black\")\n",
    "    return"
   ]
  },
  {
   "cell_type": "code",
   "execution_count": 143,
   "id": "dfefc37c-0e16-4393-a4fc-aa10ec78c132",
   "metadata": {},
   "outputs": [],
   "source": [
    "def plot_balance_volt2(axes):\n",
    "    sec_ax = axes.twinx()\n",
    "    axes.set_zorder(sec_ax.get_zorder()+1)  # default zorder is 0 for ax1 and ax2\n",
    "    axes.patch.set_visible(False) \n",
    "    \n",
    "    axes.grid()\n",
    "    axes.set_axisbelow(True)\n",
    "    axes.plot(df_vw_relax[\"time_h\"],df_vw_relax[\"I\"].rolling(12).mean()*(100/16)+ 385,color=colors[1],linewidth=1,alpha=1,linestyle=\"--\")\n",
    "    axes.plot(df_vw_balance2[\"time_h\"],df_vw_balance2[\"I\"].rolling(12).mean()*(100/16) + 385,color=colors[1],linewidth=1,alpha=1,)\n",
    "    \n",
    "    axes.plot(df_vw_relax[\"time_h\"],df_vw_relax[\"U\"],color=colors[4],label=\"\",linestyle=\"--\")\n",
    "    axes.plot(df_vw_balance2[\"time_h\"],df_vw_balance2[\"U\"],color=colors[4],alpha=1,linestyle=\"-\")\n",
    "\n",
    "\n",
    "    axes.set_xlim([0,60])\n",
    "    tick_positions = np.array([0,10,20,30,40,50,60])\n",
    "    axes.set_xticks(tick_positions)\n",
    "    axes.set_ylim([360,460])\n",
    "    tick_positions = np.array([360,410,460])\n",
    "    axes.set_yticks(tick_positions)\n",
    "    axes.yaxis.set_minor_locator(FixedLocator([385,435]))\n",
    "    axes.set_ylabel(\"Pack voltage in V\")\n",
    "    #axes.legend(loc=\"lower right\", framealpha =1,ncols=1, fancybox=False,labelspacing=0.1,columnspacing=1,edgecolor=\"black\",fontsize=6)\n",
    "    axes.set_xlabel(\"Time in h\")\n",
    "\n",
    "     # legend\n",
    "    handles, labels =axes.get_legend_handles_labels()  \n",
    "    line = plt.hlines(-100,0,1,label='Voltage ', color=colors[4])\n",
    "    line1 = plt.hlines(-100,0,1,label='Current', color=colors[1])\n",
    "    line2 = plt.hlines(-100,0,1,label='Imbalanced cells', color=\"k\")\n",
    "    line3 = plt.hlines(-100,0,1,label='Balanced cells', color=\"k\",linestyle=\"--\")\n",
    "    # add manual symbols to auto legend\n",
    "    handles.extend([line,line1, line3,line2])\n",
    "    axes.legend(handles=handles,loc=\"lower right\",ncols=2,handletextpad=0.4,fontsize=6,\n",
    "               framealpha =1 , fancybox=False,labelspacing=0.1,columnspacing=1,edgecolor=\"black\",handlelength=1.8)\n",
    "      \n",
    "    #sec_ax.plot(df_vw_relax[\"time_h\"]-24.5-12,df_vw_relax[\"I\"].rolling(2).mean(),color=colors[1],linewidth=1,alpha=0)\n",
    "    #sec_ax.plot(df_vw_balance[\"time_h\"]-12,df_vw_balance[\"I\"].rolling(2).mean(),color=colors[4],linewidth=1,alpha=0)\n",
    "    sec_ax.set_xlim([0,60])\n",
    "    sec_ax.set_ylim([-4,12])\n",
    "    tick_positions = np.array([-4,0,4,8,12])\n",
    "    #sec_ax.yaxis.set_minor_locator(FixedLocator([-3,3]))\n",
    "    sec_ax.set_yticks(tick_positions)\n",
    "    sec_ax.set_ylabel(\"Charging current in A\")\n",
    "\n",
    "    #annotations\n",
    "    axes.annotate(text='passive balancing\\n after charging', xy=(50,412),horizontalalignment=\"center\",verticalalignment=\"bottom\",fontsize=6,bbox=dict(boxstyle='square,pad=0',fc='white', ec='none', alpha=0.8))\n",
    "    axes.annotate(text='', xy=(38,390), xytext=(50,412), arrowprops=dict(arrowstyle='-|>', shrinkA=5, shrinkB=5,facecolor=\"k\"))\n",
    "\n",
    "    axes.annotate(text='100% SOC\\n displayed in UI', xy=(20,440),horizontalalignment=\"center\",verticalalignment=\"bottom\",fontsize=6,bbox=dict(boxstyle='square,pad=0',fc='white', ec='none', alpha=0.8))\n",
    "    axes.annotate(text='', xy=(37,455), xytext=(27,445), arrowprops=dict(arrowstyle='-|>', shrinkA=0, shrinkB=5,facecolor=\"k\"))\n",
    "    axes.annotate(text='', xy=(40,447), xytext=(27,445), arrowprops=dict(arrowstyle='-|>', shrinkA=0, shrinkB=5,facecolor=\"k\"))\n",
    "    return"
   ]
  },
  {
   "cell_type": "code",
   "execution_count": 144,
   "id": "dbe68734-cbfe-4053-bdda-acb1de918d5a",
   "metadata": {},
   "outputs": [
    {
     "data": {
      "image/png": "[encoded data removed]",
      "text/plain": [
       "<Figure size 708.661x354.331 with 8 Axes>"
      ]
     },
     "metadata": {},
     "output_type": "display_data"
    }
   ],
   "source": [
    "fig = plt.figure(constrained_layout=True,figsize=(cm2inch(VisualizationConfig.textwidth_in_cm.value),\n",
    "                                                3*cm2inch(3)))\n",
    "gs= fig.add_gridspec(nrows=2, ncols=2,width_ratios=[1,1])\n",
    "\n",
    "# gs00 = gs[0].subgridspec(nrows=3, ncols=1,height_ratios=[1,1,1])\n",
    "# gs01 = gs[1].subgridspec(nrows=2, ncols=2)\n",
    "#gs03 = gs[2].subgridspec(nrows=1, ncols=1)\n",
    "\n",
    "# axes1 = fig.add_subplot(gs00[0, 0])\n",
    "# axes2 = fig.add_subplot(gs00[1, 0])\n",
    "# axes3 = fig.add_subplot(gs00[2, 0])\n",
    "# plot_veh2veh(axes1,axes2,axes3)\n",
    "# axes1 = fig.add_subplot(gs00[0:3, 0])\n",
    "# plot_veh2veh_one_plot(axes1)\n",
    "\n",
    "axes1 = fig.add_subplot(gs[0, 0])\n",
    "plot_model2model(axes1)\n",
    "\n",
    "axes2 = fig.add_subplot(gs[0, 1])\n",
    "plot_software(axes2)\n",
    "\n",
    "axes3 = fig.add_subplot(gs[1, 0])\n",
    "plot_balance_volt2(axes3)\n",
    "\n",
    "axes4= fig.add_subplot(gs[1,1])\n",
    "plot_cell_defect(axes4)\n",
    "#plt.tight_layout()\n",
    "axes1.text(-0.25, 1, 'a)', horizontalalignment='left',fontsize=7,\n",
    "     verticalalignment='center', transform=axes1.transAxes)\n",
    "axes2.text(-0.25, 1, r'b)', horizontalalignment='left',fontsize=7,\n",
    "     verticalalignment='center', transform=axes2.transAxes)\n",
    "axes3.text(-0.25, 1, r'c)', horizontalalignment='left',fontsize=7,\n",
    "     verticalalignment='center', transform=axes3.transAxes)\n",
    "axes4.text(-0.25, 1, r'd)', horizontalalignment='left',fontsize=7,\n",
    "     verticalalignment='center', transform=axes4.transAxes)\n",
    "# axes6.text(-0.25, 1, r'e)', horizontalalignment='left',fontsize=7,\n",
    "#      verticalalignment='center', transform=axes6.transAxes)\n",
    "# axes5.text(-0.25, 1, r'f)', horizontalalignment='left',fontsize=7,\n",
    "#      verticalalignment='center', transform=axes5.transAxes)\n",
    "# axes7.text(-0.25, 1, r'g)', horizontalalignment='left',fontsize=7,\n",
    "#      verticalalignment='center', transform=axes7.transAxes)\n",
    "#fig.align_labels([axes4,axes6])\n",
    "\n",
    "fig.savefig(os.path.join(GeneralConfig.path2figures.value,\"02-POCV_discussion.pdf\"))\n",
    "fig.savefig(os.path.join(GeneralConfig.path2figures.value,\"02-POCV_discussion.png\"),dpi=300, pad_inches = 0)"
   ]
  },
  {
   "cell_type": "code",
   "execution_count": 67,
   "id": "d7d1f69d-ec1c-43b7-bc06-9a70bacdff3d",
   "metadata": {},
   "outputs": [],
   "source": [
    "def plot_balance_volt(axes):\n",
    "    sec_ax = axes.twinx()\n",
    "    axes.set_zorder(sec_ax.get_zorder()+1)  # default zorder is 0 for ax1 and ax2\n",
    "    axes.patch.set_visible(False) \n",
    "    \n",
    "    axes.grid()\n",
    "    axes.set_axisbelow(True)\n",
    "    axes.plot(df_vw_relax[\"time_h\"]-24.5-12,df_vw_relax[\"I\"].rolling(2).mean()*(40/16)+ 430,color=colors[1],linewidth=1,alpha=1)\n",
    "    axes.plot(df_vw_balance[\"time_h\"]-12,df_vw_balance[\"I\"].rolling(2).mean()*(40/16) + 430,color=colors[4],linewidth=1,alpha=1,)\n",
    "    \n",
    "    axes.plot(df_vw_relax[\"time_h\"]-24.5-12,df_vw_relax[\"U\"],color=colors[1],label=\"\",linestyle=\"--\")\n",
    "    axes.plot(df_vw_balance[\"time_h\"]-12,df_vw_balance[\"U\"],color=colors[4],alpha=1,label=\"Balancing\",linestyle=\"--\")\n",
    "\n",
    "    \n",
    "\n",
    "    axes.set_xlim([-10,25])\n",
    "    tick_positions = np.array([-10,0,10,20,25])\n",
    "    axes.set_xticks(tick_positions)\n",
    "    axes.set_ylim([420,460])\n",
    "    tick_positions = np.array([420,440,460])\n",
    "    axes.set_yticks(tick_positions)\n",
    "    axes.yaxis.set_minor_locator(FixedLocator([430,450]))\n",
    "    #tick_positions = np.array([360,410,460])\n",
    "    #axes.set_yticks(tick_positions)\n",
    "    #axes.yaxis.set_minor_locator(FixedLocator([385,435]))\n",
    "    axes.set_ylabel(\"Pack voltage in V\")\n",
    "\n",
    "    # legend\n",
    "    # handles, labels =axes.get_legend_handles_labels()  \n",
    "    # line = plt.hlines(-1,0,1,label='Voltage ', color=\"black\")\n",
    "    # line1 = plt.hlines(-1,0,1,label='Current', color=\"black\",linestyle=\"--\")\n",
    "    # line2 = plt.hlines(-1,0,1,label='No balancing', color=VisualizationConfig.TUMblau.value)\n",
    "    # line3 = plt.hlines(-1,0,1,label='Balancing', color=VisualizationConfig.TUMorange.value)\n",
    "    \n",
    "    # # add manual symbols to auto legend\n",
    "    # handles.extend([line,line1, line2,line3])\n",
    "    # axes.legend(handles=handles,loc=\"lower right\",ncols=2,handletextpad=0.4,fontsize=6,\n",
    "    #            framealpha =1 , fancybox=False,labelspacing=0.1,columnspacing=1,edgecolor=\"black\",handlelength=1.8)\n",
    "\n",
    "    axes.legend(loc=\"lower right\", framealpha =1,ncols=1, fancybox=False,labelspacing=0.1,columnspacing=1,edgecolor=\"black\",fontsize=6)\n",
    "    axes.set_xlabel(\"Time after full charge in h\")\n",
    "      \n",
    "    sec_ax.plot(df_vw_relax[\"time_h\"]-24.5-12,df_vw_relax[\"I\"].rolling(2).mean(),color=colors[1],linewidth=1,alpha=0)\n",
    "    sec_ax.plot(df_vw_balance[\"time_h\"]-12,df_vw_balance[\"I\"].rolling(2).mean(),color=colors[4],linewidth=1,alpha=0)\n",
    "    sec_ax.set_xlim([-10,25])\n",
    "    sec_ax.set_ylim([-4,12])\n",
    "    tick_positions = np.array([-4,0,4,8,12])\n",
    "    #sec_ax.yaxis.set_minor_locator(FixedLocator([-3,3]))\n",
    "    sec_ax.set_yticks(tick_positions)\n",
    "    sec_ax.set_ylabel(\"Charging current in A\")\n",
    "\n",
    "    return"
   ]
  },
  {
   "cell_type": "code",
   "execution_count": 68,
   "id": "f587aee2-4975-4f87-bf2b-c04a26229ad4",
   "metadata": {},
   "outputs": [
    {
     "data": {
      "text/plain": [
       "220"
      ]
     },
     "execution_count": 68,
     "metadata": {},
     "output_type": "execute_result"
    }
   ],
   "source": [
    "850-630"
   ]
  },
  {
   "cell_type": "code",
   "execution_count": 69,
   "id": "01c18468-90ca-49b3-a21c-a2b00a57b813",
   "metadata": {},
   "outputs": [
    {
     "data": {
      "text/plain": [
       "633.7"
      ]
     },
     "execution_count": 69,
     "metadata": {},
     "output_type": "execute_result"
    }
   ],
   "source": [
    "df_taycan[\"U\"].min()"
   ]
  },
  {
   "cell_type": "code",
   "execution_count": 70,
   "id": "ecf290fd-ce43-454f-b089-b87e28841f26",
   "metadata": {},
   "outputs": [
    {
     "data": {
      "text/plain": [
       "Text(0.5, 0, 'Time after full charge in h')"
      ]
     },
     "execution_count": 70,
     "metadata": {},
     "output_type": "execute_result"
    },
    {
     "data": {
      "image/png": "[encoded data removed]",
      "text/plain": [
       "<Figure size 346.457x188.976 with 1 Axes>"
      ]
     },
     "metadata": {},
     "output_type": "display_data"
    }
   ],
   "source": [
    "fig, axes= plt.subplots(1,1,\n",
    "                        figsize=(cm2inch(VisualizationConfig.columnwidth_in_cm.value),\n",
    "                                cm2inch(4.8)))\n",
    "# sec_ax = axes.twinx()\n",
    "# axes.set_zorder(sec_ax.get_zorder()+1)  # default zorder is 0 for ax1 and ax2\n",
    "# axes.patch.set_visible(False) \n",
    "\n",
    "# axes.grid()\n",
    "# axes.set_axisbelow(True)\n",
    "# axes.plot(df_vw_relax[\"time_h\"],df_vw_relax[\"I\"].rolling(2).mean()*(40/16)+ 430,color=colors[1],linewidth=1,alpha=1)\n",
    "# axes.plot(df_vw_balance2[\"time_h\"],df_vw_balance2[\"I\"].rolling(2).mean()*(40/16) + 430,color=colors[4],linewidth=1,alpha=1,)\n",
    "\n",
    "#axes.plot(df_vw_relax[\"time_h\"],df_vw_relax[\"U\"],color=colors[1],label=\"\")\n",
    "#.plot(df_vw_balance2[\"time_h\"],df_vw_balance2[\"U\"],color=colors[1],alpha=1,label=\"Appended balacing\")\n",
    "axes.plot(df_vw_relax[\"time_h\"],df_vw_relax[\"U\"],color=colors[1],label=\"\")\n",
    "axes.plot(df_vw_balance2[\"time_h\"]*0.94,df_vw_balance2[\"U\"],color=colors[1],alpha=1,label=\"Appended balacing\")\n",
    "\n",
    "\n",
    "#axes.set_xlim([-10,25])\n",
    "#tick_positions = np.array([-10,0,10,20,25])\n",
    "#axes.set_xticks(tick_positions)\n",
    "axes.set_ylim([360,460])\n",
    "#tick_positions = np.array([420,440,460])\n",
    "#axes.set_yticks(tick_positions)\n",
    "#axes.yaxis.set_minor_locator(FixedLocator([430,450]))\n",
    "#tick_positions = np.array([360,410,460])\n",
    "#axes.set_yticks(tick_positions)\n",
    "#axes.yaxis.set_minor_locator(FixedLocator([385,435]))\n",
    "axes.set_ylabel(\"Pack voltage in V\")\n",
    "#axes.legend(loc=\"lower right\", framealpha =1,ncols=1, fancybox=False,labelspacing=0.1,columnspacing=1,edgecolor=\"black\",fontsize=6)\n",
    "axes.set_xlabel(\"Time after full charge in h\")\n",
    "  \n",
    "# sec_ax.plot(df_vw_relax[\"time_h\"]-24.5-12,df_vw_relax[\"I\"].rolling(2).mean(),color=colors[1],linewidth=1,alpha=0)\n",
    "# sec_ax.plot(df_vw_balance[\"time_h\"]-12,df_vw_balance[\"I\"].rolling(2).mean(),color=colors[4],linewidth=1,alpha=0)\n",
    "# sec_ax.set_xlim([-10,25])\n",
    "# sec_ax.set_ylim([-4,12])\n",
    "# tick_positions = np.array([-4,0,4,8,12])\n",
    "# #sec_ax.yaxis.set_minor_locator(FixedLocator([-3,3]))\n",
    "# sec_ax.set_yticks(tick_positions)\n",
    "# sec_ax.set_ylabel(\"Charging current in A\")"
   ]
  },
  {
   "cell_type": "code",
   "execution_count": 71,
   "id": "24c03148-9551-4303-a978-bfb4b48d5b7f",
   "metadata": {},
   "outputs": [
    {
     "data": {
      "text/plain": [
       "[<matplotlib.lines.Line2D at 0x1440b6cc550>]"
      ]
     },
     "execution_count": 71,
     "metadata": {},
     "output_type": "execute_result"
    },
    {
     "data": {
      "image/png": "[encoded data removed]",
      "text/plain": [
       "<Figure size 346.457x188.976 with 1 Axes>"
      ]
     },
     "metadata": {},
     "output_type": "display_data"
    }
   ],
   "source": [
    "fig, axes= plt.subplots(1,1,\n",
    "                        figsize=(cm2inch(VisualizationConfig.columnwidth_in_cm.value),\n",
    "                                cm2inch(4.8)))\n",
    "axes.grid()\n",
    "axes.set_axisbelow(True)\n",
    "axes.plot(df_vw_relax[\"SOC\"],df_vw_relax[\"I\"].rolling(2).mean(),color=colors[1],linewidth=1,alpha=1)\n",
    "axes.plot(df_vw_balance2[\"SOC\"],df_vw_balance2[\"I\"].rolling(2).mean(),color=colors[4],linewidth=1,alpha=1,)"
   ]
  },
  {
   "cell_type": "code",
   "execution_count": null,
   "id": "58f15fd1-907f-4cfe-bdf4-b9894a7a45da",
   "metadata": {},
   "outputs": [],
   "source": []
  }
 ],
 "metadata": {
  "kernelspec": {
   "display_name": "Python 3 (ipykernel)",
   "language": "python",
   "name": "python3"
  },
  "language_info": {
   "codemirror_mode": {
    "name": "ipython",
    "version": 3
   },
   "file_extension": ".py",
   "mimetype": "text/x-python",
   "name": "python",
   "nbconvert_exporter": "python",
   "pygments_lexer": "ipython3",
   "version": "3.11.7"
  }
 },
 "nbformat": 4,
 "nbformat_minor": 5
}
