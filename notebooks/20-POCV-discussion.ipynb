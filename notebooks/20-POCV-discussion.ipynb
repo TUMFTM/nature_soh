{
 "cells": [
  {
   "cell_type": "markdown",
   "id": "df7e6497-b58a-4941-8a0d-ec77ce3b8815",
   "metadata": {},
   "source": [
    "# Considerations of vehicle specific behaviors"
   ]
  },
  {
   "cell_type": "markdown",
   "id": "f39e39e1-f1e2-4cac-822c-db2ced16ba4b",
   "metadata": {},
   "source": [
    "This figure shows examples of vehicle level peculiarities that can affect the proposed standard measurment. \\\n",
    "* measurements of five Cupra Borns show different voltages, due to cell-to-cell varations or differnce in estimations from the onboard SOC estimator --> voltage window must be carefully defined to fit all vehicles of a model type\n",
    "* software updates, possibly over-the-air, can alter the behavior of the battery pack, e.g. the usable voltage window --> changes must be transparently communicated to the customer and the standard measurement adapted accordingly\n",
    "* BMS balancing is (regularly) necessary to align voltage deviations of the cells in the pack. The proposed standard measurement might not be reproducible if the cells are imbalanced --> battery pack shall be in a balanced state prior to the measurement\n",
    "* faulty cells in a pack define the overall capacity/energy retention --> even if the standard measurement fails, as cut-off voltages cannot be met, battery diagnosis is possible to locate faulty cells, if cell voltage data is available, which the legislator must enforce"
   ]
  },
  {
   "cell_type": "code",
   "execution_count": null,
   "id": "6cc0bf2d-790b-4c5d-bd58-d42bf8bc7ae3",
   "metadata": {},
   "outputs": [],
   "source": [
    "import os\n",
    "import sys\n",
    "import math\n",
    "sys.path.append(os.path.join(os.getcwd().partition('nature_soh')[0], \"nature_soh\"))\n",
    "from src.config_base import GeneralConfig"
   ]
  },
  {
   "cell_type": "code",
   "execution_count": null,
   "id": "7a248134-8c89-4cf3-bda6-30fd5e49676d",
   "metadata": {},
   "outputs": [],
   "source": [
    "import pandas as pd\n",
    "import numpy as np\n",
    "import scipy as sp\n",
    "import matplotlib.pyplot as plt\n",
    "import matplotlib.ticker as ticker\n",
    "from matplotlib.ticker import FormatStrFormatter\n",
    "import matplotlib.gridspec as gridspec\n",
    "from matplotlib.ticker import AutoMinorLocator, FixedLocator\n",
    "import matplotlib.patches as patches\n",
    "import matplotlib.patheffects as mpe"
   ]
  },
  {
   "cell_type": "code",
   "execution_count": null,
   "id": "538b73db-2367-4e25-8fd4-5f7e44474956",
   "metadata": {},
   "outputs": [],
   "source": [
    "from src.data.read_feather import ReadFeather\n",
    "from src.filtering.filter_methods import FilterMethods\n",
    "from src.voltage_capacity_analysis.dva import DVA\n",
    "from src.visualization.config_visualization import VisualizationConfig, instantiate_matplotlib_parameters, cm2inch\n",
    "instantiate_matplotlib_parameters()\n",
    "from src.visualization.colormaps import ColorMaps"
   ]
  },
  {
   "cell_type": "code",
   "execution_count": null,
   "id": "ec588ba8-a8fa-4c14-ad2c-ca28ad054dce",
   "metadata": {},
   "outputs": [],
   "source": [
    "tum_orange_cmap = ColorMaps.orange_tum()\n",
    "orange_colors = tum_orange_cmap(np.linspace(0,1, 10))\n",
    "tum_orange_cmap"
   ]
  },
  {
   "cell_type": "code",
   "execution_count": null,
   "id": "27235247-c600-4eac-9655-c40a1794707d",
   "metadata": {},
   "outputs": [],
   "source": [
    "tum_blue_cmap = ColorMaps.blue_tum()\n",
    "blue_colors = tum_blue_cmap(np.linspace(0,1, 10))\n",
    "tum_blue_cmap"
   ]
  },
  {
   "cell_type": "code",
   "execution_count": null,
   "id": "f891546e-04b2-4456-b4d5-1e9f9f653fdc",
   "metadata": {},
   "outputs": [],
   "source": [
    "tum_cmap = ColorMaps.blue_orange_tum(grayscale=0.5)\n",
    "colors = tum_cmap(np.linspace(0,1, 5))\n",
    "tum_cmap"
   ]
  },
  {
   "cell_type": "markdown",
   "id": "96411e3e-75e1-4e36-bf5c-0b168d63706d",
   "metadata": {},
   "source": [
    "## Load Data"
   ]
  },
  {
   "cell_type": "code",
   "execution_count": null,
   "id": "10ecbddb-f80b-4f6c-815a-5e0783fefbf4",
   "metadata": {},
   "outputs": [],
   "source": [
    "def filter_func_preprocess(signal):\n",
    "    perc_filter = 1/100 * len(signal) #% filter\n",
    "    filtered_signal = FilterMethods().rolling_mean_df(signal,window_size=FilterMethods().round_to_next_odd_number(perc_filter))\n",
    "    #filtered_signal = FilterMethods().savgol(signal,window_size=FilterMethods().round_to_next_odd_number(perc_filter * len(signal)))\n",
    "    return filtered_signal"
   ]
  },
  {
   "cell_type": "code",
   "execution_count": null,
   "id": "5e3e89ed-c7bb-4ab4-860c-4cf62ab6cbb3",
   "metadata": {},
   "outputs": [],
   "source": [
    "read_feather = ReadFeather()\n",
    "read_feather.set_filter_U(filter_func_preprocess)\n",
    "read_feather.set_filter_Q(filter_func_preprocess)"
   ]
  },
  {
   "cell_type": "markdown",
   "id": "137c5784-cc39-4d18-a937-cd7028a90ddd",
   "metadata": {},
   "source": [
    "### model 2 model varation\n",
    "Nr in file name corresponds to the license plate number"
   ]
  },
  {
   "cell_type": "code",
   "execution_count": null,
   "id": "f3c4a217-f96a-4d95-99df-2ba81110b366",
   "metadata": {},
   "outputs": [],
   "source": [
    "df_cupra_288 =  read_feather.read(os.path.join(GeneralConfig.path2data.value,\"Cupra\",\"Cupra_Born_288_JB_8A_CEE7_CS_2024.feather\"))"
   ]
  },
  {
   "cell_type": "code",
   "execution_count": null,
   "id": "154c90fb-a487-46cf-9782-51ea7fdf014d",
   "metadata": {},
   "outputs": [],
   "source": [
    "df_cupra_397 =  read_feather.read(os.path.join(GeneralConfig.path2data.value,\"Cupra\",\"Cupra_Born_397_JB_8A_CEE7_CS_2024.feather\"))"
   ]
  },
  {
   "cell_type": "code",
   "execution_count": null,
   "id": "9c2cf301-968a-4311-ba00-304b15e49b9d",
   "metadata": {},
   "outputs": [],
   "source": [
    "df_cupra_349 =  read_feather.read(os.path.join(GeneralConfig.path2data.value,\"Cupra\",\"Cupra_Born_349_JB_8A_CEE7_CS_2024.feather\"))"
   ]
  },
  {
   "cell_type": "code",
   "execution_count": null,
   "id": "5df577f9-e0e2-46f2-ac4f-4b0d02b597a0",
   "metadata": {},
   "outputs": [],
   "source": [
    "df_cupra_204 =  read_feather.read(os.path.join(GeneralConfig.path2data.value,\"Cupra\",\"Cupra_Born_204_JB_8A_CEE7_CS_2024.feather\"))"
   ]
  },
  {
   "cell_type": "code",
   "execution_count": null,
   "id": "12c3f528-3d04-481b-8228-ae635cc27a5f",
   "metadata": {},
   "outputs": [],
   "source": [
    "df_cupra_213 =  read_feather.read(os.path.join(GeneralConfig.path2data.value,\"Cupra\",\"Cupra_Born_213_JB_8A_CEE7_CS_2024.feather\"))"
   ]
  },
  {
   "cell_type": "markdown",
   "id": "fcf6bf03-0e32-4809-b74c-ad3eedfafef1",
   "metadata": {},
   "source": [
    "Cupra voltage spread"
   ]
  },
  {
   "cell_type": "code",
   "execution_count": null,
   "id": "128e65fc-6baf-41f2-a2e4-b49172b45fff",
   "metadata": {},
   "outputs": [],
   "source": [
    "%%capture\n",
    "df_cupra_397[\"E\"] = sp.integrate.cumtrapz((df_cupra_397[\"U\"].values*df_cupra_397[\"I\"].values)/1000, df_cupra_397[\"time_h\"], initial=0)\n",
    "df_cupra_349[\"E\"] = sp.integrate.cumtrapz((df_cupra_349[\"U\"].values*df_cupra_349[\"I\"].values)/1000, df_cupra_349[\"time_h\"], initial=0)\n",
    "df_cupra_288[\"E\"] = sp.integrate.cumtrapz((df_cupra_288[\"U\"].values*df_cupra_288[\"I\"].values)/1000, df_cupra_288[\"time_h\"], initial=0)\n",
    "df_cupra_204[\"E\"] = sp.integrate.cumtrapz((df_cupra_204[\"U\"].values*df_cupra_204[\"I\"].values)/1000, df_cupra_204[\"time_h\"], initial=0)\n",
    "df_cupra_213[\"E\"] = sp.integrate.cumtrapz((df_cupra_213[\"U\"].values*df_cupra_213[\"I\"].values)/1000, df_cupra_213[\"time_h\"], initial=0)"
   ]
  },
  {
   "cell_type": "code",
   "execution_count": null,
   "id": "57112018-e8a7-460d-8c54-62b02f28dfc5",
   "metadata": {},
   "outputs": [],
   "source": [
    "%%capture\n",
    "df_cupra_397[\"SOC_Q\"] = df_cupra_397[\"Q\"].values/df_cupra_397[\"Q\"].max()*100\n",
    "df_cupra_349[\"SOC_Q\"] = df_cupra_349[\"Q\"].values/df_cupra_349[\"Q\"].max()*100\n",
    "df_cupra_288[\"SOC_Q\"] = df_cupra_288[\"Q\"].values/df_cupra_288[\"Q\"].max()*100\n",
    "df_cupra_204[\"SOC_Q\"] = df_cupra_204[\"Q\"].values/df_cupra_204[\"Q\"].max()*100\n",
    "df_cupra_213[\"SOC_Q\"] = df_cupra_213[\"Q\"].values/df_cupra_213[\"Q\"].max()*100"
   ]
  },
  {
   "cell_type": "code",
   "execution_count": null,
   "id": "8b0c5dfc-c078-4289-afb2-ce2760e853aa",
   "metadata": {},
   "outputs": [],
   "source": [
    "df_U_spread = df_cupra_397[[\"SOC\",\"SOC_Q\",\"U\"]].copy()\n",
    "df_U_spread = pd.merge_asof(df_U_spread, df_cupra_349[[\"SOC_Q\",\"U\"]].copy(), on=['SOC_Q'], direction='nearest',suffixes=('_397', '_349'))\n",
    "df_U_spread = pd.merge_asof(df_U_spread, df_cupra_288[[\"SOC_Q\",\"U\"]].copy(), on=['SOC_Q'], direction='nearest',suffixes=('', '_288'))\n",
    "df_U_spread = pd.merge_asof(df_U_spread, df_cupra_204[[\"SOC_Q\",\"U\"]].copy(), on=['SOC_Q'], direction='nearest',suffixes=('', '_204'))\n",
    "df_U_spread = pd.merge_asof(df_U_spread, df_cupra_213[[\"SOC_Q\",\"U\"]].copy(), on=['SOC_Q'], direction='nearest',suffixes=('', '_213'))\n",
    "df_U_spread.rename(columns={\"U\":\"U_288\"},inplace=True)"
   ]
  },
  {
   "cell_type": "code",
   "execution_count": null,
   "id": "ec979a14-e28c-4b1a-992c-aed6b00938d9",
   "metadata": {},
   "outputs": [],
   "source": [
    "df_U_spread[\"U_mean\"] = df_U_spread[[\"U_204\",\"U_213\",\"U_288\",\"U_397\",\"U_349\"]].mean(axis=1)\n",
    "df_U_spread[\"U_min\"] = df_U_spread[[\"U_204\",\"U_213\",\"U_288\",\"U_397\",\"U_349\"]].min(axis=1)\n",
    "df_U_spread[\"U_max\"] = df_U_spread[[\"U_204\",\"U_213\",\"U_288\",\"U_397\",\"U_349\"]].max(axis=1)\n",
    "df_U_spread[\"dU_min\"] = df_U_spread[\"U_min\"]-df_U_spread[\"U_mean\"]\n",
    "df_U_spread[\"dU_max\"] = df_U_spread[\"U_max\"]-df_U_spread[\"U_mean\"]"
   ]
  },
  {
   "cell_type": "markdown",
   "id": "ef18f0fb-7131-4033-a8d0-d3f8d9232ed3",
   "metadata": {},
   "source": [
    "### software update"
   ]
  },
  {
   "cell_type": "code",
   "execution_count": null,
   "id": "5e3cc618-1249-4706-8a19-ea18b1b85a8e",
   "metadata": {},
   "outputs": [],
   "source": [
    "df_vw =  read_feather.read(os.path.join(GeneralConfig.path2data.value,\"VW\",\"VW_ID3_JB_8A_CEE7_FTM_2021.feather\"))"
   ]
  },
  {
   "cell_type": "code",
   "execution_count": null,
   "id": "dd5152a3-ddcc-4a11-a1b4-09fdb227be39",
   "metadata": {},
   "outputs": [],
   "source": [
    "df_vw_2 =  read_feather.read(os.path.join(GeneralConfig.path2data.value,\"VW\",\"VW_ID3_JB_8A_CEE7_FTM_2023.feather\"))"
   ]
  },
  {
   "cell_type": "code",
   "execution_count": null,
   "id": "adac02e5-3626-4f8f-8545-cb3d734973aa",
   "metadata": {},
   "outputs": [],
   "source": [
    "df_vw_3 =  read_feather.read(os.path.join(GeneralConfig.path2data.value,\"VW\",\"VW_ID3_JB_8A_CEE7_FTM_2024.feather\"))"
   ]
  },
  {
   "cell_type": "code",
   "execution_count": null,
   "id": "425c3677-33ae-4032-9c78-cb134607c79c",
   "metadata": {},
   "outputs": [],
   "source": [
    "%%capture\n",
    "df_vw[\"E\"] = sp.integrate.cumtrapz((df_vw[\"U\"].values*df_vw[\"I\"].values)/1000, df_vw[\"time_h\"], initial=0)\n",
    "df_vw_2[\"E\"] = sp.integrate.cumtrapz((df_vw_2[\"U\"].values*df_vw_2[\"I\"].values)/1000, df_vw_2[\"time_h\"], initial=0)\n",
    "df_vw_3[\"E\"] = sp.integrate.cumtrapz((df_vw_3[\"U\"].values*df_vw_3[\"I\"].values)/1000, df_vw_3[\"time_h\"], initial=0)"
   ]
  },
  {
   "cell_type": "markdown",
   "id": "f385e688-1e24-4bb8-92ce-2aea92366527",
   "metadata": {},
   "source": [
    "## BMS balancing"
   ]
  },
  {
   "cell_type": "code",
   "execution_count": null,
   "id": "cb469477-cce9-4edd-9503-11270f878cf9",
   "metadata": {},
   "outputs": [],
   "source": [
    "df_vw_relax =  read_feather.read(os.path.join(GeneralConfig.path2data.value,\"VW\",\"VW_ID3_FTM_JB_8A_CEE7_FTM_2024_balanced.feather\"))"
   ]
  },
  {
   "cell_type": "code",
   "execution_count": null,
   "id": "b2c08401-53d7-4269-a25c-b98c0b3aeadd",
   "metadata": {},
   "outputs": [],
   "source": [
    "df_vw_balance =  read_feather.read(os.path.join(GeneralConfig.path2data.value,\"VW\",\"VW_ID3_FTM_JB_8A_CEE7_FTM_2024_imbalanced.feather\"))"
   ]
  },
  {
   "cell_type": "markdown",
   "id": "665044ad-9470-452e-b62d-0dc77e435378",
   "metadata": {},
   "source": [
    "### cell defect"
   ]
  },
  {
   "cell_type": "code",
   "execution_count": null,
   "id": "d65c0482-b000-4c9f-95de-4962d3561777",
   "metadata": {},
   "outputs": [],
   "source": [
    "df_vw_cell_defect = read_feather.read(os.path.join(GeneralConfig.path2data.value,\"VW\",\"VW_ID3_JB_8A_CEE7_GB_2024_cell_defect.feather\"))"
   ]
  },
  {
   "cell_type": "markdown",
   "id": "4068151d-5a17-4269-afe7-175cffd3bd13",
   "metadata": {},
   "source": [
    "## Figure"
   ]
  },
  {
   "cell_type": "code",
   "execution_count": null,
   "id": "f506aee2-0ea3-47de-a460-20f4687e7feb",
   "metadata": {},
   "outputs": [],
   "source": [
    "outline=mpe.withStroke(linewidth=2, foreground='black')"
   ]
  },
  {
   "cell_type": "code",
   "execution_count": null,
   "id": "1041953e-aa0b-4e52-8ae2-b4628edd5887",
   "metadata": {},
   "outputs": [],
   "source": [
    "def myround(x, prec=2, base=.05):\n",
    "    return round(base * round(float(x)/base),prec)"
   ]
  },
  {
   "cell_type": "code",
   "execution_count": null,
   "id": "b4d375e5-6f09-4ace-9e63-d2f73e04c19d",
   "metadata": {},
   "outputs": [],
   "source": [
    "def plot_model2model(axes4):\n",
    "    sec_ax = axes4.twinx()\n",
    "    axes4.set_zorder(sec_ax.get_zorder()+1)  # default zorder is 0 for ax1 and ax2\n",
    "    axes4.patch.set_visible(False) \n",
    "    \n",
    "    axes4.grid()\n",
    "    axes4.set_axisbelow(True)\n",
    "   \n",
    "    axes4.plot(df_cupra_397[\"SOC\"],df_cupra_397[\"U\"],color=colors[0],path_effects=[outline],label=\"Cupra #1\")\n",
    "    axes4.plot(df_cupra_349[\"SOC\"],df_cupra_349[\"U\"],color=colors[1],path_effects=[outline],label=\"Cupra #2\")\n",
    "    axes4.plot(df_cupra_288[\"SOC\"],df_cupra_288[\"U\"],color=colors[2],path_effects=[outline],label=\"Cupra #3\")\n",
    "    axes4.plot(df_cupra_204[\"SOC\"],df_cupra_204[\"U\"],color=colors[3],path_effects=[outline],label=\"Cupra #4\")\n",
    "    axes4.plot(df_cupra_213[\"SOC\"],df_cupra_213[\"U\"],color=colors[4],path_effects=[outline],label=\"Cupra #5\")\n",
    "    axes4.set_xlim([0,100])\n",
    "    tick_positions = np.array([0,25,50,75,100])\n",
    "    axes4.set_xticks(tick_positions)\n",
    "    axes4.set_ylim([360,460])\n",
    "    tick_positions = np.array([360,410,460])\n",
    "    axes4.set_yticks(tick_positions)\n",
    "    axes4.yaxis.set_minor_locator(FixedLocator([385,435]))\n",
    "    axes4.set_ylabel(\"Pack voltage in V\")\n",
    "    # axes4.legend(loc=\"upper left\", framealpha =1,ncols=1, fancybox=False,labelspacing=0.1,columnspacing=1,edgecolor=\"black\",fontsize=6)\n",
    "    axes4.set_xlabel(\"BMS-SOC in %\")\n",
    "    #axes4.set_xticklabels([])\n",
    "    handles, labels =axes4.get_legend_handles_labels() \n",
    "    patch = patches.Patch(facecolor=VisualizationConfig.TUMgrau20.value,edgecolor=VisualizationConfig.TUMgrau50.value, label=r'$\\Delta U$')\n",
    "    handles = handles+[patch]\n",
    "    axes4.legend(handles=handles,loc=\"lower right\",ncol=2, framealpha =1, fancybox=False,labelspacing=0.1,columnspacing=0.5,edgecolor=\"black\",fontsize=6,handlelength=1.5)\n",
    "    # secondary axis\n",
    "    sec_ax.plot(df_U_spread[\"SOC\"],df_U_spread[\"dU_min\"],color=VisualizationConfig.TUMgrau50.value)\n",
    "    sec_ax.plot(df_U_spread[\"SOC\"],df_U_spread[\"dU_max\"],color=VisualizationConfig.TUMgrau50.value)\n",
    "    sec_ax.fill_between(df_U_spread[\"SOC\"], df_U_spread[\"dU_min\"], df_U_spread[\"dU_max\"],color=VisualizationConfig.TUMgrau20.value)\n",
    "    sec_ax.set_ylim([-8,8])\n",
    "    tick_labels = np.array([-8,-4,0,4,8])\n",
    "    sec_ax.set_yticks(tick_labels)\n",
    "    sec_ax.yaxis.set_minor_locator(FixedLocator([-6,-2,2,6]))\n",
    "    sec_ax.set_ylabel(\"Voltage spread to mean in V\")\n",
    "    #sec_ax.set_ylabel(\"Voltage spread in V\")\n",
    "    ## arrow\n",
    "    axes4.annotate(text='', xy=(97,df_U_spread[df_U_spread[\"SOC\"]>75][\"dU_min\"].min()*(25/4)+410), xytext=(97,df_U_spread[df_U_spread[\"SOC\"]>75][\"dU_max\"].max()*(25/4)+410), arrowprops=dict(arrowstyle='<|-|>', shrinkA=0, shrinkB=0,facecolor=\"k\",lw=1))\n",
    "    #print(df_U_spread[df_U_spread[\"SOC\"]>75][\"dU_max\"].max()-df_U_spread[df_U_spread[\"SOC\"]>75][\"dU_min\"].min())\n",
    "    axes4.annotate(text='5.4 V', xy=(97,410),horizontalalignment=\"right\",verticalalignment=\"center\",rotation=90,fontsize=7)\n",
    "    return"
   ]
  },
  {
   "cell_type": "code",
   "execution_count": null,
   "id": "a9a7ac50-7f95-4313-87d3-2d776f23242b",
   "metadata": {},
   "outputs": [],
   "source": [
    "def plot_software(axes):\n",
    "    sec_ax = axes.twinx()\n",
    "    axes.set_zorder(sec_ax.get_zorder()+1)  # default zorder is 0 for ax1 and ax2\n",
    "    axes.patch.set_visible(False) \n",
    "    \n",
    "    axes.grid(which=\"both\",axis=\"y\")\n",
    "    axes.set_axisbelow(True)\n",
    "    axes.bar([25,50,75],[df_vw[\"E\"].max()*(100/80)+360,df_vw_2[\"E\"].max()*(100/80)+360,df_vw_3[\"E\"].max()*(100/80)+360],width=13,color=[colors[0],colors[2],colors[4]],ec=\"k\")\n",
    "    axes.plot(df_vw[\"SOC\"],df_vw[\"U\"],color=colors[0],label=\"ID.Software 2.0 (2021)\",lw=1,path_effects=[outline])\n",
    "    axes.plot(df_vw_2[\"SOC\"],df_vw_2[\"U\"],color=colors[2],label=\"ID.Software 2.4 (2023)\",lw=1,path_effects=[outline])\n",
    "    axes.plot(df_vw_3[\"SOC\"],df_vw_3[\"U\"],color=colors[4],label=\"ID.Software 3.2 (2024)\",lw=1,path_effects=[outline])\n",
    "\n",
    "    axes.set_xlim([-0.1,100])\n",
    "    tick_positions = np.array([0,25,50,75,100])\n",
    "    axes.set_xticks(tick_positions)\n",
    "    axes.set_ylim([360,460])\n",
    "    tick_positions = np.array([360,410,460])\n",
    "    axes.set_yticks(tick_positions)\n",
    "    axes.yaxis.set_minor_locator(FixedLocator([385,435]))\n",
    "    axes.set_ylabel(\"Pack voltage in V\")\n",
    "    axes.legend(loc=\"lower right\", framealpha =1,ncols=1, fancybox=False,labelspacing=0.1,columnspacing=1,edgecolor=\"black\",fontsize=6)\n",
    "    axes.set_xlabel(\"BMS-SOC in %\")\n",
    "    \n",
    "    sec_ax.bar([25,50,75],[df_vw[\"E\"].max(),df_vw_2[\"E\"].max(),df_vw_3[\"E\"].max()],width=13,color=None,alpha=0.7)\n",
    "    sec_ax.set_ylabel(\"Charged energy in kWh\")\n",
    "    sec_ax.set_xlim([-0.1,100])\n",
    "    sec_ax.set_ylim([0,80])\n",
    "    tick_positions = np.array([0,20,40,60,80])\n",
    "    sec_ax.set_yticks(tick_positions)\n",
    "    #sec_ax.yaxis.set_minor_locator(FixedLocator([50,150]))\n",
    "    \n",
    "    axes.annotate(text=f'{df_vw.E.max():.1f}', xy=(25,df_vw[\"E\"].max()*(100/80)+360+7),fontsize=7,rotation=0,ha=\"center\",va=\"center\",bbox=dict(boxstyle='square,pad=0',fc='white', ec='none', alpha=0.7))\n",
    "    axes.annotate(text=f'{df_vw_2.E.max():.1f}', xy=(50,df_vw_2[\"E\"].max()*(100/80)+360+7),fontsize=7,rotation=0,ha=\"center\",va=\"center\",bbox=dict(boxstyle='square,pad=0',fc='white', ec='none', alpha=0.7))\n",
    "    axes.annotate(text=f'{df_vw_3.E.max():.1f}', xy=(75,df_vw_3[\"E\"].max()*(100/80)+360+7),fontsize=7,rotation=0,ha=\"center\",va=\"center\",bbox=dict(boxstyle='square,pad=0',fc='white', ec='none', alpha=0.7))\n",
    "    return"
   ]
  },
  {
   "cell_type": "code",
   "execution_count": null,
   "id": "dfefc37c-0e16-4393-a4fc-aa10ec78c132",
   "metadata": {},
   "outputs": [],
   "source": [
    "def plot_balance_volt(axes):\n",
    "    sec_ax = axes.twinx()\n",
    "    axes.set_zorder(sec_ax.get_zorder()+1)  # default zorder is 0 for ax1 and ax2\n",
    "    axes.patch.set_visible(False) \n",
    "    \n",
    "    axes.grid()\n",
    "    axes.set_axisbelow(True)\n",
    "    axes.plot(df_vw_relax[\"time_h\"],df_vw_relax[\"I\"].rolling(12).mean()*(100/16)+ 385,color=colors[1],linewidth=1,alpha=1,linestyle=\"--\")\n",
    "    axes.plot(df_vw_balance[\"time_h\"],df_vw_balance[\"I\"].rolling(12).mean()*(100/16) + 385,color=colors[1],linewidth=1,alpha=1,)\n",
    "    \n",
    "    axes.plot(df_vw_relax[\"time_h\"],df_vw_relax[\"U\"],color=colors[4],label=\"\",linestyle=\"--\")\n",
    "    axes.plot(df_vw_balance[\"time_h\"],df_vw_balance[\"U\"],color=colors[4],alpha=1,linestyle=\"-\")\n",
    "\n",
    "\n",
    "    axes.set_xlim([0,60])\n",
    "    tick_positions = np.array([0,10,20,30,40,50,60])\n",
    "    axes.set_xticks(tick_positions)\n",
    "    axes.set_ylim([360,460])\n",
    "    tick_positions = np.array([360,410,460])\n",
    "    axes.set_yticks(tick_positions)\n",
    "    axes.yaxis.set_minor_locator(FixedLocator([385,435]))\n",
    "    axes.set_ylabel(\"Pack voltage in V\")\n",
    "    #axes.legend(loc=\"lower right\", framealpha =1,ncols=1, fancybox=False,labelspacing=0.1,columnspacing=1,edgecolor=\"black\",fontsize=6)\n",
    "    axes.set_xlabel(\"Time in h\")\n",
    "\n",
    "     # legend\n",
    "    handles, labels =axes.get_legend_handles_labels()  \n",
    "    line = plt.hlines(-100,0,1,label='Voltage ', color=colors[4])\n",
    "    line1 = plt.hlines(-100,0,1,label='Current', color=colors[1])\n",
    "    line2 = plt.hlines(-100,0,1,label='Imbalanced cells', color=\"k\")\n",
    "    line3 = plt.hlines(-100,0,1,label='Balanced cells', color=\"k\",linestyle=\"--\")\n",
    "    # add manual symbols to auto legend\n",
    "    handles.extend([line,line1, line3,line2])\n",
    "    axes.legend(handles=handles,loc=\"lower right\",ncols=2,handletextpad=0.4,fontsize=6,\n",
    "               framealpha =1 , fancybox=False,labelspacing=0.1,columnspacing=1,edgecolor=\"black\",handlelength=1.8)\n",
    "      \n",
    "    #sec_ax.plot(df_vw_relax[\"time_h\"]-24.5-12,df_vw_relax[\"I\"].rolling(2).mean(),color=colors[1],linewidth=1,alpha=0)\n",
    "    #sec_ax.plot(df_vw_balance[\"time_h\"]-12,df_vw_balance[\"I\"].rolling(2).mean(),color=colors[4],linewidth=1,alpha=0)\n",
    "    sec_ax.set_xlim([0,60])\n",
    "    sec_ax.set_ylim([-4,12])\n",
    "    tick_positions = np.array([-4,0,4,8,12])\n",
    "    #sec_ax.yaxis.set_minor_locator(FixedLocator([-3,3]))\n",
    "    sec_ax.set_yticks(tick_positions)\n",
    "    sec_ax.set_ylabel(\"Charging current in A\")\n",
    "\n",
    "    #annotations\n",
    "    axes.annotate(text='passive balancing\\n after charging', xy=(50,412),horizontalalignment=\"center\",verticalalignment=\"bottom\",fontsize=6,bbox=dict(boxstyle='square,pad=0',fc='white', ec='none', alpha=0.8))\n",
    "    axes.annotate(text='', xy=(38,390), xytext=(50,412), arrowprops=dict(arrowstyle='-|>', shrinkA=5, shrinkB=5,facecolor=\"k\"))\n",
    "\n",
    "    axes.annotate(text='100% SOC\\n displayed in UI', xy=(20,440),horizontalalignment=\"center\",verticalalignment=\"bottom\",fontsize=6,bbox=dict(boxstyle='square,pad=0',fc='white', ec='none', alpha=0.8))\n",
    "    axes.annotate(text='', xy=(37,455), xytext=(27,445), arrowprops=dict(arrowstyle='-|>', shrinkA=0, shrinkB=5,facecolor=\"k\"))\n",
    "    axes.annotate(text='', xy=(40,447), xytext=(27,445), arrowprops=dict(arrowstyle='-|>', shrinkA=0, shrinkB=5,facecolor=\"k\"))\n",
    "    return"
   ]
  },
  {
   "cell_type": "code",
   "execution_count": null,
   "id": "bce575be-dc29-4a96-99fc-169e31e6440e",
   "metadata": {},
   "outputs": [],
   "source": [
    "def plot_cell_defect(axes):\n",
    "    sec_ax = axes.twinx()\n",
    "    axes.set_zorder(sec_ax.get_zorder()+1)  # default zorder is 0 for ax1 and ax2\n",
    "    axes.patch.set_visible(False) \n",
    "    \n",
    "    axes.grid()\n",
    "    axes.set_axisbelow(True)\n",
    "    \n",
    "    cell_cols = [col for col in df_vw_cell_defect.columns if \"cell\" in col]\n",
    "    for cell in cell_cols[::-1]:\n",
    "        axes.plot(df_vw_cell_defect[\"SOC\"],df_vw_cell_defect[cell]*108,color = VisualizationConfig.TUMblau.value,linewidth=1)\n",
    "    axes.plot(df_vw_cell_defect[\"SOC\"],df_vw_cell_defect[cell_cols[-1]]*108,color = VisualizationConfig.TUMblau.value,linewidth=1,label=\"Cells\")\n",
    "    axes.plot(df_vw_cell_defect[\"SOC\"],df_vw_cell_defect[\"U\"],color=VisualizationConfig.TUMorange.value,linewidth=1.5,label=\"Pack\")\n",
    "    defect=13\n",
    "    axes.plot(df_vw_cell_defect[\"SOC\"],df_vw_cell_defect[cell_cols[defect]]*108,color = VisualizationConfig.TUMgrau50.value,linewidth=1,path_effects=[outline],label=\"Defective cell 13\")\n",
    "    \n",
    "    axes.set_xlim([0,100])\n",
    "    tick_positions = np.array([0,25,50,75,100])\n",
    "    axes.set_xticks(tick_positions)\n",
    "    axes.set_ylim([360,460])\n",
    "    tick_positions = np.array([360,410,460])\n",
    "    axes.set_yticks(tick_positions)\n",
    "    axes.set_ylabel(\"Pack voltage in V\")\n",
    "    axes.yaxis.set_minor_locator(FixedLocator([385,435]))\n",
    "    axes.set_xlabel(\"BMS-SOC in %\")\n",
    "    \n",
    "    axes.legend(loc=\"lower right\", framealpha =1, fancybox=False,labelspacing=0.1,columnspacing=1,edgecolor=\"black\",fontsize=6)\n",
    "\n",
    "    \n",
    "    #sec_ax.set_xlim([0,160])\n",
    "    sec_ax.set_ylim(np.array([360,460])/106)\n",
    "    tick_labels = np.array([360,410,460])/106\n",
    "    sec_ax.set_yticks(tick_labels)\n",
    "    sec_ax.set_yticklabels([f\"{myround(label):.2f}\" for label in tick_labels])\n",
    "    sec_ax.set_ylabel(\"Cell voltage in V\")\n",
    "    sec_ax.yaxis.set_minor_locator(FixedLocator([385/106,435/106]))\n",
    "\n",
    "    # # inset axes left\n",
    "    axins = axes.inset_axes([6, 412,46,44],transform = axes.transData) # [x0, y0, width, height]\n",
    "    for cell in cell_cols[::-1]:\n",
    "        axins.plot(df_vw_cell_defect[\"SOC\"],df_vw_cell_defect[cell]*108,color = VisualizationConfig.TUMblau.value,linewidth=1)\n",
    "    axins.plot(df_vw_cell_defect[\"SOC\"],df_vw_cell_defect[cell_cols[-1]]*108,color = VisualizationConfig.TUMblau.value,linewidth=1,label=\"Cells\")\n",
    "    axins.plot(df_vw_cell_defect[\"SOC\"],df_vw_cell_defect[\"U\"],color=VisualizationConfig.TUMorange.value,linewidth=1.5)\n",
    "    defect=13\n",
    "    axins.plot(df_vw_cell_defect[\"SOC\"],df_vw_cell_defect[cell_cols[defect]]*108,color = VisualizationConfig.TUMgrau50.value,linewidth=1,path_effects=[outline])\n",
    "    # subregion of the original image\n",
    "    x1, x2, y1, y2 = 0, 25,362,390\n",
    "    axins.set_xlim(x1, x2)\n",
    "    axins.set_ylim(y1, y2)\n",
    "    axins.set_xticklabels([])\n",
    "    axins.set_yticklabels([])\n",
    "    #axins.set_yticks([440,445,450,455])\n",
    "    axins.set_yticks([])\n",
    "    axins.set_xticks([])\n",
    "    axins.grid()\n",
    "    axes.indicate_inset_zoom(axins, edgecolor=\"black\")\n",
    "    return"
   ]
  },
  {
   "cell_type": "code",
   "execution_count": null,
   "id": "dbe68734-cbfe-4053-bdda-acb1de918d5a",
   "metadata": {},
   "outputs": [],
   "source": [
    "fig = plt.figure(constrained_layout=True,figsize=(cm2inch(VisualizationConfig.textwidth_in_cm.value),\n",
    "                                                3*cm2inch(3)))\n",
    "gs= fig.add_gridspec(nrows=2, ncols=2,width_ratios=[1,1])\n",
    "\n",
    "axes1 = fig.add_subplot(gs[0, 0])\n",
    "plot_model2model(axes1)\n",
    "\n",
    "axes2 = fig.add_subplot(gs[0, 1])\n",
    "plot_software(axes2)\n",
    "\n",
    "axes3 = fig.add_subplot(gs[1, 0])\n",
    "plot_balance_volt(axes3)\n",
    "\n",
    "axes4= fig.add_subplot(gs[1,1])\n",
    "plot_cell_defect(axes4)\n",
    "#plt.tight_layout()\n",
    "axes1.text(-0.25, 1, 'a)', horizontalalignment='left',fontsize=7,\n",
    "     verticalalignment='center', transform=axes1.transAxes)\n",
    "axes2.text(-0.25, 1, r'b)', horizontalalignment='left',fontsize=7,\n",
    "     verticalalignment='center', transform=axes2.transAxes)\n",
    "axes3.text(-0.25, 1, r'c)', horizontalalignment='left',fontsize=7,\n",
    "     verticalalignment='center', transform=axes3.transAxes)\n",
    "axes4.text(-0.25, 1, r'd)', horizontalalignment='left',fontsize=7,\n",
    "     verticalalignment='center', transform=axes4.transAxes)\n",
    "\n",
    "fig.savefig(os.path.join(GeneralConfig.path2figures.value,\"20-POCV_discussion.pdf\"))\n",
    "fig.savefig(os.path.join(GeneralConfig.path2figures.value,\"20-POCV_discussion.png\"),dpi=300, pad_inches = 0)"
   ]
  }
 ],
 "metadata": {
  "kernelspec": {
   "display_name": "Python 3 (ipykernel)",
   "language": "python",
   "name": "python3"
  },
  "language_info": {
   "codemirror_mode": {
    "name": "ipython",
    "version": 3
   },
   "file_extension": ".py",
   "mimetype": "text/x-python",
   "name": "python",
   "nbconvert_exporter": "python",
   "pygments_lexer": "ipython3",
   "version": "3.11.9"
  }
 },
 "nbformat": 4,
 "nbformat_minor": 5
}
