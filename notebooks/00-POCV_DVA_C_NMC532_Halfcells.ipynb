{
 "cells": [
  {
   "cell_type": "markdown",
   "id": "cc54ebd5-6b14-4b2e-a0ff-1dca64f10e60",
   "metadata": {},
   "source": [
    "# NMC/C Halfcell Data"
   ]
  },
  {
   "cell_type": "markdown",
   "id": "d80b3f3a-d65f-4592-958f-f67240796074",
   "metadata": {},
   "source": [
    "This schematic figure shows the transferability of cell data onto the vehicle level. \\\n",
    "Also DVA is possible on the vehicle level showing cell level features. \\\n",
    "However, vehicle level peculiarities must be accounted for, e.g. varying cell capacities (see stage 2) or data quality constraints (features are less pronounced)."
   ]
  },
  {
   "cell_type": "code",
   "execution_count": null,
   "id": "e678909b-dac7-4fb6-891b-16dca863c292",
   "metadata": {},
   "outputs": [],
   "source": [
    "import os\n",
    "import sys\n",
    "import math\n",
    "sys.path.append(os.path.join(os.getcwd().partition('nature_soh')[0], \"nature_soh\"))\n",
    "from src.config_base import GeneralConfig"
   ]
  },
  {
   "cell_type": "code",
   "execution_count": null,
   "id": "0771252b-02cb-48dd-ac73-2d2006e5ae9d",
   "metadata": {},
   "outputs": [],
   "source": [
    "import pandas as pd\n",
    "import numpy as np\n",
    "import matplotlib.pyplot as plt\n",
    "import matplotlib.ticker as ticker\n",
    "from matplotlib.ticker import FormatStrFormatter\n",
    "import matplotlib.gridspec as gridspec\n",
    "from matplotlib.ticker import AutoMinorLocator, FixedLocator\n",
    "import matplotlib.patches as patches"
   ]
  },
  {
   "cell_type": "code",
   "execution_count": null,
   "id": "5d1e3c60-9aec-4877-a269-0f4d0887fd07",
   "metadata": {},
   "outputs": [],
   "source": [
    "from src.data.read_feather import ReadFeather\n",
    "from src.filtering.filter_methods import FilterMethods\n",
    "from src.voltage_capacity_analysis.ica import ICA\n",
    "from src.voltage_capacity_analysis.dva import DVA\n",
    "from src.visualization.config_visualization import VisualizationConfig, instantiate_matplotlib_parameters, cm2inch\n",
    "instantiate_matplotlib_parameters()\n",
    "from src.visualization.colormaps import ColorMaps\n",
    "from scipy import interpolate\n",
    "from scipy.optimize import fsolve\n",
    "from scipy.optimize import curve_fit"
   ]
  },
  {
   "cell_type": "code",
   "execution_count": null,
   "id": "87951398-4830-46a0-bfdc-3483a4e1e85b",
   "metadata": {},
   "outputs": [],
   "source": [
    "tum_orange_cmap = ColorMaps.orange_tum()\n",
    "orange_colors = tum_orange_cmap(np.linspace(0,1, 10))\n",
    "tum_orange_cmap"
   ]
  },
  {
   "cell_type": "code",
   "execution_count": null,
   "id": "0cacc1cd-6902-4222-858a-0715e9cfd3bb",
   "metadata": {},
   "outputs": [],
   "source": [
    "tum_blue_cmap = ColorMaps.blue_tum()\n",
    "blue_colors = tum_blue_cmap(np.linspace(0,1, 10))\n",
    "tum_blue_cmap"
   ]
  },
  {
   "cell_type": "code",
   "execution_count": null,
   "id": "ed53abde-e024-41da-b8cd-b490bf7a4a18",
   "metadata": {},
   "outputs": [],
   "source": [
    "tum_cmap = ColorMaps.blue_orange_tum(grayscale=1)\n",
    "colors = tum_cmap(np.linspace(0,1, 5))\n",
    "tum_cmap"
   ]
  },
  {
   "cell_type": "markdown",
   "id": "93efea44-8b74-4876-97cc-4654f91d1002",
   "metadata": {},
   "source": [
    "## Read Cell File"
   ]
  },
  {
   "cell_type": "code",
   "execution_count": null,
   "id": "4a045e27-c3bc-4850-aa40-2f809a6a5047",
   "metadata": {},
   "outputs": [],
   "source": [
    "path2files = os.path.join(GeneralConfig.path2data.value,\"VW\",\"cell\")"
   ]
  },
  {
   "cell_type": "code",
   "execution_count": null,
   "id": "876e2f40-3558-4b5e-a28b-efd1534788a6",
   "metadata": {
    "tags": []
   },
   "outputs": [],
   "source": [
    "def filter_func_preprocess_U(signal):\n",
    "    perc_filter = 0.1/100 * len(signal) #% filter\n",
    "    filtered_signal = FilterMethods().rolling_mean_df(signal,window_size=FilterMethods().round_to_next_odd_number(perc_filter))\n",
    "    #filtered_signal = FilterMethods().savgol(signal,window_size=FilterMethods().round_to_next_odd_number(perc_filter * len(signal)))\n",
    "    return filtered_signal"
   ]
  },
  {
   "cell_type": "code",
   "execution_count": null,
   "id": "4398f2b6-dbb3-4271-a57e-c901370831f4",
   "metadata": {},
   "outputs": [],
   "source": [
    "def filter_func_preprocess_Q(signal):\n",
    "    perc_filter = 0.1/100 * len(signal) #% filter\n",
    "    filtered_signal = FilterMethods().rolling_mean_df(signal,window_size=FilterMethods().round_to_next_odd_number(perc_filter))\n",
    "    #filtered_signal = FilterMethods().savgol(signal,window_size=FilterMethods().round_to_next_odd_number(perc_filter/100 * len(signal)))\n",
    "    return filtered_signal"
   ]
  },
  {
   "cell_type": "code",
   "execution_count": null,
   "id": "bfcbe916-bdca-47b3-aacd-2ac8a1c41a03",
   "metadata": {},
   "outputs": [],
   "source": [
    "read_feather = ReadFeather()\n",
    "read_feather.set_filter_U(filter_func_preprocess_U)\n",
    "read_feather.set_filter_Q(filter_func_preprocess_Q)"
   ]
  },
  {
   "cell_type": "code",
   "execution_count": null,
   "id": "54a0d4f5-f3ca-4831-b333-b0b73eb727dd",
   "metadata": {},
   "outputs": [],
   "source": [
    "df_A =  read_feather.read(os.path.join(path2files,\"VW_LG_78Ah_NMC_20deg_C50_Anode.feather\"))\n",
    "df_A = df_A[df_A[\"Q\"]<=0.00805] # limit to above 0V "
   ]
  },
  {
   "cell_type": "code",
   "execution_count": null,
   "id": "a3d574a2-6e88-41c7-a323-5bb49f3bec1c",
   "metadata": {},
   "outputs": [],
   "source": [
    "df_C_ch =  read_feather.read(os.path.join(path2files,\"VW_LG_78Ah_NMC_20deg_C50_Cathode_ch.feather\"))\n",
    "df_C_dch =  read_feather.read(os.path.join(path2files,\"VW_LG_78Ah_NMC_20deg_C50_Cathode_dch.feather\"))"
   ]
  },
  {
   "cell_type": "code",
   "execution_count": null,
   "id": "1f2f32f9-6ec4-4aac-9486-38acb963d779",
   "metadata": {},
   "outputs": [],
   "source": [
    "def filter_func(signal):\n",
    "    perc_filter =0.5 #% filter\n",
    "    filtered_signal = FilterMethods().rolling_mean_numpy(signal,window_size=FilterMethods().round_to_next_odd_number(perc_filter/100 * len(signal)))\n",
    "    filtered_signal_reverse = FilterMethods().rolling_mean_numpy(np.flip(signal),window_size=FilterMethods().round_to_next_odd_number(perc_filter/100 * len(signal)))\n",
    "    #filtered_signal = FilterMethods().savgol(signal,window_size=FilterMethods().round_to_next_odd_number(perc_filter/100 * len(signal)))\n",
    "    #filtered_signal_reverse = FilterMethods().savgol(np.flip(signal),window_size=FilterMethods().round_to_next_odd_number(perc_filter/100 * len(signal)))\n",
    "    return (filtered_signal+np.flip(filtered_signal_reverse))/2"
   ]
  },
  {
   "cell_type": "code",
   "execution_count": null,
   "id": "a8d5b87a-f55f-450c-9e45-1ab0cec76672",
   "metadata": {},
   "outputs": [],
   "source": [
    "df =  read_feather.read(os.path.join(path2files,\"VW_LG_78Ah_NMC_20deg_CC_C50.feather\"))"
   ]
  },
  {
   "cell_type": "code",
   "execution_count": null,
   "id": "549d29de-169b-4884-8113-9c926e67e6d2",
   "metadata": {},
   "outputs": [],
   "source": [
    "ica_extractor = ICA()\n",
    "ica_extractor.set_filter(filter_func)\n",
    "ica,volt =ica_extractor.get_ica(time=df[\"time_h\"], capacity=df[\"Q\"], voltage=df[\"U\"],crop_volt_V=(2.6,4.2))"
   ]
  },
  {
   "cell_type": "code",
   "execution_count": null,
   "id": "b9a78685-85d7-4143-9578-bfba86cf08b4",
   "metadata": {},
   "outputs": [],
   "source": [
    "n=len(df_A)"
   ]
  },
  {
   "cell_type": "code",
   "execution_count": null,
   "id": "c91f5ad1-da0f-4c44-9767-278c87d7cae9",
   "metadata": {},
   "outputs": [],
   "source": [
    "df_A = df_A.sample(n=n).sort_values(by=['time_h'])\n",
    "df_C_ch = df_C_ch.sample(n=n).sort_values(by=['time_h'])\n",
    "df_C_dch = df_C_dch.sample(n=n).sort_values(by=['time_h'])\n",
    "df = df.sample(n=n).sort_values(by=['time_h'])"
   ]
  },
  {
   "cell_type": "markdown",
   "id": "72324c77-54ef-4d0b-9aae-12ac4b084faf",
   "metadata": {
    "tags": []
   },
   "source": [
    "### Cell DVA/ICA"
   ]
  },
  {
   "cell_type": "code",
   "execution_count": null,
   "id": "e0e8e03d-531e-4c89-89fa-0dc56ee431f3",
   "metadata": {},
   "outputs": [],
   "source": [
    "def filter_func(signal):\n",
    "    perc_filter = 0.5 #% filter\n",
    "    filtered_signal = FilterMethods().rolling_mean_numpy(signal,window_size=FilterMethods().round_to_next_odd_number(perc_filter/100 * len(signal)))\n",
    "    filtered_signal_reverse = FilterMethods().rolling_mean_numpy(np.flip(signal),window_size=FilterMethods().round_to_next_odd_number(perc_filter/100 * len(signal)))\n",
    "    return (filtered_signal+np.flip(filtered_signal_reverse))/2"
   ]
  },
  {
   "cell_type": "code",
   "execution_count": null,
   "id": "e1d024e3-88a1-4266-8ffb-76e61f04c6bc",
   "metadata": {},
   "outputs": [],
   "source": [
    "def filter_func_cat(signal):\n",
    "    perc_filter = 2.5 #% filter\n",
    "    filtered_signal = FilterMethods().rolling_mean_numpy(signal,window_size=FilterMethods().round_to_next_odd_number(perc_filter/100 * len(signal)))\n",
    "    filtered_signal_reverse = FilterMethods().rolling_mean_numpy(np.flip(signal),window_size=FilterMethods().round_to_next_odd_number(perc_filter/100 * len(signal)))\n",
    "    return (filtered_signal+np.flip(filtered_signal_reverse))/2"
   ]
  },
  {
   "cell_type": "code",
   "execution_count": null,
   "id": "41fd76fc-ae86-4df6-8de7-10b503796685",
   "metadata": {},
   "outputs": [],
   "source": [
    "dva_extractor = DVA()\n",
    "dva_extractor.set_filter(filter_func)\n",
    "dva_A, cap_A =dva_extractor.get_dva(time=df[\"time_h\"], capacity=df[\"Q\"], voltage=df_A[\"U\"],crop_cap_Ah=(0,100))\n",
    "dva, cap =dva_extractor.get_dva(time=df[\"time_h\"], capacity=df[\"Q\"], voltage=df[\"U\"],crop_cap_Ah=(0,100))\n",
    "dva_extractor.set_filter(filter_func_cat)\n",
    "dva_C_ch, cap_C_ch =dva_extractor.get_dva(time=df[\"time_h\"], capacity=df[\"Q\"], voltage=df_C_ch[\"U\"],crop_cap_Ah=(0,100))\n",
    "dva_C_dch, cap_C_dch =dva_extractor.get_dva(time=df[\"time_h\"], capacity=df[\"Q\"], voltage=df_C_dch[\"U\"],crop_cap_Ah=(0,100))"
   ]
  },
  {
   "cell_type": "code",
   "execution_count": null,
   "id": "2afe69cd-2e07-433e-beba-18e61af686a2",
   "metadata": {},
   "outputs": [],
   "source": [
    "plt.plot(cap,dva,color = \"black\")\n",
    "plt.plot(cap_C_ch-1.7,dva_C_ch-0.0007,color = \"red\")\n",
    "plt.plot(cap_C_dch-1.7,dva_C_dch-0.0007,color = \"orange\")\n",
    "plt.plot(cap_A*0.93+1,-1*dva_A,color = \"blue\")\n",
    "plt.ylim([0,0.05])"
   ]
  },
  {
   "cell_type": "markdown",
   "id": "057195f0-faa7-4bb1-9a3a-233ca2515b13",
   "metadata": {},
   "source": [
    "This halfcell plot is schematic and should show the peaks as clear as possible\n",
    "- the M and H2 Phase match best with the full cell level in the discharge curve, but the H1 peak is not visible\n",
    "- the H1 peak is visible best in the charge curve\n",
    "\n",
    "--> For the sake of clearness these two curves are merged to one, so the peaks are visible the best"
   ]
  },
  {
   "cell_type": "markdown",
   "id": "39f52f52-ae82-4b53-850d-26274f4da8f2",
   "metadata": {},
   "source": [
    "stretch signals to match by hand"
   ]
  },
  {
   "cell_type": "code",
   "execution_count": null,
   "id": "bfd2e0bf-6558-44b2-94b8-6fe63fbcdaa3",
   "metadata": {},
   "outputs": [],
   "source": [
    "dva_A_trafo = -1*dva_A+0.0002\n",
    "cap_A_trafo = cap_A*0.93+1\n",
    "cap_A_trafo[cap_A_trafo>40]*=1.011\n",
    "cap_A_trafo[cap_A_trafo>60]*=1.11"
   ]
  },
  {
   "cell_type": "code",
   "execution_count": null,
   "id": "bb9e0b80-24d5-4c80-8cd8-865b305cdec3",
   "metadata": {},
   "outputs": [],
   "source": [
    "plt.plot(cap,dva,color = \"black\")\n",
    "plt.plot(cap_A_trafo,dva_A_trafo,color = \"blue\")\n",
    "plt.ylim([0,0.05])"
   ]
  },
  {
   "cell_type": "code",
   "execution_count": null,
   "id": "8b7f89c8-38c6-4ffd-87b9-7921f488a114",
   "metadata": {},
   "outputs": [],
   "source": [
    "dva_C_trafo_ch = dva_C_ch-0.0014\n",
    "cap_C_trafo_ch = (cap_C_ch*1.2)-9\n",
    "#cap_C_trafo[cap_C_trafo>20]*=1.1"
   ]
  },
  {
   "cell_type": "code",
   "execution_count": null,
   "id": "098820f9-a34e-434d-91e4-810b29390db4",
   "metadata": {},
   "outputs": [],
   "source": [
    "dva_C_trafo_dch = dva_C_dch-0.0010\n",
    "cap_C_trafo_dch = (cap_C_dch-6.4)*1.1"
   ]
  },
  {
   "cell_type": "code",
   "execution_count": null,
   "id": "7a10db4c-0a7e-4a8f-957b-6e817957ce0a",
   "metadata": {},
   "outputs": [],
   "source": [
    "plt.plot(cap,dva,color = \"black\")\n",
    "plt.plot(cap_C_trafo_ch,dva_C_trafo_ch,color = \"red\")\n",
    "plt.plot(cap_C_trafo_dch,dva_C_trafo_dch,color = \"blue\")\n",
    "\n",
    "idx = np.argwhere(np.diff(np.sign(dva_C_trafo_ch - dva_C_trafo_dch))).flatten()\n",
    "plt.plot(cap_C_trafo_ch.values[idx], dva_C_trafo_ch[idx], 'ro')\n",
    "\n",
    "idx_fit = idx[1]\n",
    "cap_C_trafo = np.concatenate((cap_C_trafo_ch.values[0:idx_fit], cap_C_trafo_dch.values[idx_fit:]), axis=None)\n",
    "dva_C_trafo = np.concatenate((dva_C_trafo_ch[0:idx_fit], dva_C_trafo_dch[idx_fit:]), axis=None)\n",
    "plt.plot(cap_C_trafo,dva_C_trafo,color = \"green\")\n",
    "plt.ylim([0,0.05])"
   ]
  },
  {
   "cell_type": "code",
   "execution_count": null,
   "id": "27dc1d96-dd73-4be2-aaee-988bd52382c9",
   "metadata": {},
   "outputs": [],
   "source": [
    "df_C_ch_temp = df_C_ch[0:idx_fit]\n",
    "df_C_dch_temp = df_C_dch[idx_fit:]\n",
    "df_C_ch_temp[\"U\"]+= df_C_dch_temp[\"U\"].min()-df_C_ch_temp[\"U\"].max() # match voltage values"
   ]
  },
  {
   "cell_type": "code",
   "execution_count": null,
   "id": "a7b59284-1f60-4e4d-98f2-b1cbe44ef75a",
   "metadata": {},
   "outputs": [],
   "source": [
    "df_C = pd.concat([df_C_ch_temp, df_C_dch_temp], ignore_index=True)"
   ]
  },
  {
   "cell_type": "markdown",
   "id": "f6d93a4b-17f2-48e2-b462-44b8a292ba7c",
   "metadata": {},
   "source": [
    "## Read vehicle file"
   ]
  },
  {
   "cell_type": "code",
   "execution_count": null,
   "id": "fa5c6455-aba4-4dfa-87eb-e550a14f6636",
   "metadata": {},
   "outputs": [],
   "source": [
    "def filter_func_preprocess(signal):\n",
    "    perc_filter = 1/100 * len(signal) #% filter\n",
    "    filtered_signal = FilterMethods().rolling_mean_df(signal,window_size=FilterMethods().round_to_next_odd_number(perc_filter))\n",
    "    #filtered_signal = FilterMethods().savgol(signal,window_size=FilterMethods().round_to_next_odd_number(perc_filter * len(signal)))\n",
    "    return filtered_signal"
   ]
  },
  {
   "cell_type": "code",
   "execution_count": null,
   "id": "02c26bd1-b348-4e90-a4d9-4a6357788e37",
   "metadata": {},
   "outputs": [],
   "source": [
    "read_feather = ReadFeather()\n",
    "read_feather.set_filter_U(filter_func_preprocess)\n",
    "read_feather.set_filter_Q(filter_func_preprocess)"
   ]
  },
  {
   "cell_type": "code",
   "execution_count": null,
   "id": "add73d35-be3d-494f-a9fe-8ded60549c1a",
   "metadata": {},
   "outputs": [],
   "source": [
    "df_vw =  read_feather.read(os.path.join(GeneralConfig.path2data.value,\"VW\",\"VW_ID3_JB_8A_CEE7_FTM_2021.feather\"))"
   ]
  },
  {
   "cell_type": "markdown",
   "id": "f9be5393-76a9-400e-b5fc-bc9ff941faea",
   "metadata": {
    "tags": []
   },
   "source": [
    "### DVA"
   ]
  },
  {
   "cell_type": "code",
   "execution_count": null,
   "id": "3e0f48d9-cad6-45e9-8245-eb41a6e7dd93",
   "metadata": {},
   "outputs": [],
   "source": [
    "dva_extractor = DVA()\n",
    "dva_extractor.set_filter(filter_func_preprocess)"
   ]
  },
  {
   "cell_type": "code",
   "execution_count": null,
   "id": "25731539-8dd6-4f22-8301-bb5e5056e6c0",
   "metadata": {},
   "outputs": [],
   "source": [
    "dva_vw, cap_vw = dva_extractor.get_dva(time=df_vw[\"time_h\"], capacity=df_vw[\"Q\"], voltage=df_vw[\"U\"],crop_cap_Ah=(0,180))"
   ]
  },
  {
   "cell_type": "code",
   "execution_count": null,
   "id": "45f879b6-e047-4d24-b7b7-0fdf7d020701",
   "metadata": {},
   "outputs": [],
   "source": [
    "# the cell data is measured from 2.8-4.2V\n",
    "# the vehicle data on cell level ranges from approx 3.3V-4.19V\n",
    "# to account for this the vehicle data is shifted\n",
    "deltaQ = dva_extractor.get_Q_shift_for_lower_cut_off_voltage(df_vw,df,n_seriell=108,n_parallel=2)"
   ]
  },
  {
   "cell_type": "markdown",
   "id": "35adeea7-d654-4c4e-9c6e-980403f0dbd8",
   "metadata": {},
   "source": [
    "## Plots C/50"
   ]
  },
  {
   "cell_type": "code",
   "execution_count": null,
   "id": "c92d283c-447c-4d98-9cbd-8839988805d9",
   "metadata": {},
   "outputs": [],
   "source": [
    "def pOCV_plot(axes,df_FC,df_C,df_A,df_vw):\n",
    "    sec_ax = axes.twinx()\n",
    "    axes.set_zorder(sec_ax.get_zorder()-1)  # default zorder is 0 for ax1 and ax2\n",
    "    axes.patch.set_visible(False)  # prevents ax1 from hiding ax2\n",
    "    # offset for compact fig\n",
    "    s=108\n",
    "    p=2\n",
    "    offset_interrup_y = s\n",
    "    # vehicle data \n",
    "    axes.plot(df_vw[\"Q\"],df_vw[\"U\"]-offset_interrup_y,color=\"black\")\n",
    "    \n",
    "    # labels\n",
    "    axes.set_ylabel(r\"Vehicle voltage in V\",fontsize=7)\n",
    "    #axes.set_xlabel(r\"Cell charge in Ah\",fontsize=7)\n",
    "    axes.tick_params('x', top=False, labeltop=False,bottom=True, labelbottom=False)\n",
    "    axes.tick_params('y', left=True, labelleft=True,right=False, labelright=False)\n",
    "    axes.set_ylim([0,4.5*s-offset_interrup_y])\n",
    "    axes.set_xlim([0,150])\n",
    "    \n",
    "    tick_positions = np.array([0,1,1.5,2.5,3.5])*s\n",
    "    axes.set_yticks(tick_positions)\n",
    "    axes.yaxis.set_minor_locator(FixedLocator(np.array([0.5,2,3])*s))\n",
    "    \n",
    "    axes.set_yticklabels([f\"{label*s:.0f}\" for label in [0,1,2.5,3.5,4.5]])\n",
    "    tick_positions = np.array([0,50,100,150])\n",
    "    axes.set_xticks(tick_positions)\n",
    "    axes.xaxis.set_minor_locator(FixedLocator([25,75,125]))\n",
    "    axes.tick_params(axis='x', labelsize=7)\n",
    "    axes.tick_params(axis='y', labelsize=7)\n",
    "    axes.grid()\n",
    "    axes.set_axisbelow(True)\n",
    "\n",
    "    ## secondary axes\n",
    "    # cell data\n",
    "    sec_ax.plot(df[\"Q\"]*p-deltaQ,df[\"U\"]-1,color=\"black\",linestyle=\"--\")\n",
    "    sec_ax.plot((df[\"Q\"]-5)*p*1.08-deltaQ,df_C[\"U\"]-1,color=VisualizationConfig.TUMorange.value)\n",
    "    cap_A = df[\"Q\"].values*0.93+0.5\n",
    "    cap_A[cap_A>60]*=1.07\n",
    "    sec_ax.plot(cap_A*p-deltaQ,df_A[\"U\"],color=VisualizationConfig.TUMblau.value)\n",
    "\n",
    "    sec_ax.set_ylim([0,4.5-1])\n",
    "    tick_labels = np.array([0,1,1.5,2.5,3.5])\n",
    "    sec_ax.set_yticks(tick_labels)\n",
    "    sec_ax.set_yticklabels([\"0\",\"1.5\",\"2.5\",\"3.5\",\"4.5\"])\n",
    "    sec_ax.tick_params(axis='y', labelsize=7)\n",
    "    sec_ax.set_ylabel(r\"Cell voltage in V\",fontsize=7)\n",
    "        \n",
    "    twiny = axes.twiny()\n",
    "    twiny.set_xlabel(r\"Vehicle energy in kWh\",fontsize=7) \n",
    "    twiny.set_xlim(0,150)\n",
    "    tick_positions = np.array([0,50,100,150])\n",
    "    twiny.set_xticks(tick_positions)\n",
    "    twiny.xaxis.set_minor_locator(FixedLocator([25,75,125]))\n",
    "    twiny.tick_params(axis='x', labelsize=7)\n",
    "    U_mean = df_vw[\"U\"].mean()\n",
    "    twiny.set_xticklabels([f\"{round(label*U_mean/10000)*10:.0f}\" for label in tick_positions])\n",
    "  \n",
    "\n",
    "    for k, spine in twiny.spines.items():  #ax.spines is a dictionary\n",
    "        spine.set_zorder(1)\n",
    "    # twiny.annotate(text=\"       \",\n",
    "    #                       xy=(-2,136),\n",
    "    #                       horizontalalignment=\"left\",\n",
    "    #                       verticalalignment=\"center\",\n",
    "    #                       fontsize=10,color=\"k\",rotation=0,annotation_clip=False,\n",
    "    #                 bbox=dict(boxstyle='square,pad=.0',fc='white', ec='white', alpha=1),zorder=2)   \n",
    "\n",
    "    twiny.annotate(text=\"$\\Vert$\",\n",
    "                          xy=(0,135),\n",
    "                          horizontalalignment=\"center\",\n",
    "                          verticalalignment=\"center\",\n",
    "                          fontsize=11,color=\"k\",rotation=90,zorder=3,\n",
    "                  bbox=dict(boxstyle='square,pad=.001',fc='white', ec='None', alpha=1))\n",
    "\n",
    "    twiny.annotate(text=\"$\\Vert$\",\n",
    "                          xy=(150,135),\n",
    "                          horizontalalignment=\"center\",\n",
    "                          verticalalignment=\"center\",\n",
    "                          fontsize=11,color=\"k\",rotation=90,zorder=3,\n",
    "                  bbox=dict(boxstyle='square,pad=.001',fc='white', ec='None', alpha=1))\n",
    "    return axes"
   ]
  },
  {
   "cell_type": "code",
   "execution_count": null,
   "id": "8b2ede4e-7f8c-4939-9780-3869c314cfd2",
   "metadata": {},
   "outputs": [],
   "source": [
    "def add_FOI_POCV(axes):\n",
    "    height=200\n",
    "    #axes.axvline(x=0, ymin=0, ymax=1,color=VisualizationConfig.TUMgrau50.value, linestyle=\"--\",zorder=1)\n",
    "    axes.annotate(text='', xy=(0,height), xytext=(150,height), arrowprops=dict(arrowstyle='<|-|>', shrinkA=0, shrinkB=0,facecolor=\"k\"))\n",
    "    axes.annotate(text=r'$Q_{calc.} = \\int I \\cdot dt$', xy=(150/2-20,height+2),horizontalalignment=\"left\",verticalalignment=\"bottom\",fontsize=7)\n",
    "    axes.annotate(text=r'$E_{calc.} = \\int UI \\cdot dt$', xy=(150/2-20,height-6),horizontalalignment=\"left\",verticalalignment=\"top\",fontsize=7)\n",
    "    return axes"
   ]
  },
  {
   "cell_type": "code",
   "execution_count": null,
   "id": "1277225f-c546-41ce-bcf0-d91d49e57ace",
   "metadata": {},
   "outputs": [],
   "source": [
    "def DVA_plot(axes,cap,dva,cap_C,dva_C,cap_A,dva_A,cap_vw,dva_vw,deltaQ):\n",
    "    sec_ax = axes.twinx()\n",
    "    #axes.set_zorder(1) \n",
    "    #axes.set_frame_on(False)\n",
    "    axes.set_zorder(sec_ax.get_zorder()-1)  # default zorder is 0 for ax1 and ax2\n",
    "    #axes.set_frame_on(False)\n",
    "    axes.patch.set_visible(False)  # prevents ax1 from hiding ax2\n",
    "    # offset for compact fig\n",
    "    Q_nom = np.max(cap_vw)\n",
    "    s=108\n",
    "    p=2\n",
    "    offset_interrup_y = s\n",
    "    # vehicle data \n",
    "    axes.plot(cap_vw,dva_vw*Q_nom,color=\"black\")\n",
    "    \n",
    "    # labels\n",
    "    axes.set_ylabel(r\"$Q_{N,pack}\\ \\cdot \\ \\left | \\frac{dU_{pack}}{dQ_{pack}} \\right |$ in V\",fontsize=7)\n",
    "    axes.set_xlabel(r\"Vehicle charge in Ah\",fontsize=7) \n",
    "    axes.tick_params('x',which=\"both\", top=True, labeltop=False,bottom=True, labelbottom=True)\n",
    "    axes.tick_params('y', left=True, labelleft=True,right=False, labelright=False)\n",
    "    axes.set_xlim(0,150)\n",
    "    tick_positions = np.array([0,50,100,150])\n",
    "    axes.set_xticks(tick_positions)\n",
    "    axes.xaxis.set_minor_locator(FixedLocator([25,75,125]))\n",
    "    axes.tick_params(axis='x', labelsize=7)\n",
    "    axes.tick_params(axis='y', labelsize=7)\n",
    "    axes.grid()\n",
    "    axes.set_axisbelow(True)\n",
    "    \n",
    "    axes.set_ylim([0,s*p])\n",
    "    tick_positions = np.array([0,s,s*p])\n",
    "    axes.set_yticks(tick_positions)\n",
    "    axes.yaxis.set_minor_locator(FixedLocator([s/2,s+s/2]))\n",
    "    \n",
    "    # cell data\n",
    "    sec_ax.plot(cap*2-deltaQ,dva*Q_nom/2,color=\"black\",linestyle=\"--\")\n",
    "    sec_ax.plot(cap_C*2-deltaQ,dva_C*Q_nom/2,color=VisualizationConfig.TUMorange.value)\n",
    "    sec_ax.plot(cap_A*2-deltaQ,dva_A*Q_nom/2,color=VisualizationConfig.TUMblau.value)\n",
    "    sec_ax.set_ylim([0,2])\n",
    "    sec_ax.set_ylabel(r\"$Q_{N,cell}\\ \\cdot \\ \\left | \\frac{dU_{cell}}{dQ_{cell}} \\right |$ in V\",fontsize=7)\n",
    "    tick_positions = np.array([0,1,2])\n",
    "    sec_ax.set_yticks(tick_positions)\n",
    "    sec_ax.yaxis.set_minor_locator(FixedLocator([0.5,1.5]))\n",
    "    return axes"
   ]
  },
  {
   "cell_type": "code",
   "execution_count": null,
   "id": "08a24598-dcc3-4fe8-a599-2a5a1cc6f0cc",
   "metadata": {},
   "outputs": [],
   "source": [
    "def add_FOI_DVA(axes):\n",
    "    #define new axis on highest level\n",
    "    newax = axes.twiny().twinx()\n",
    "    newax.set_zorder(2)\n",
    "    newax.set_ylim([0,216])\n",
    "    newax.set_xlim([0,150])\n",
    "    newax.get_xaxis().set_ticks([])\n",
    "    newax.get_yaxis().set_ticks([])\n",
    "    # define labels\n",
    "    x_QB = 86.5\n",
    "    height_NE = 190 \n",
    "    #anode\n",
    "    newax.axvline(x=x_QB, ymin=0.64, ymax=0.89,zorder=2, clip_on=False,color=\"k\",linestyle=\"-\",linewidth=1)\n",
    "    newax.annotate(text='', xy=(0,height_NE), xytext=(x_QB,height_NE), arrowprops=dict(arrowstyle='<|-|>', shrinkA=0, shrinkB=0,facecolor=\"k\"))\n",
    "    newax.annotate(text=r'$Q_{NE}$', xy=((x_QB-0)/2,height_NE+2),horizontalalignment=\"center\",verticalalignment=\"bottom\",fontsize=7)\n",
    "    # Balancing\n",
    "    newax.annotate(text='', xy=(150,height_NE), xytext=(x_QB+0.4,height_NE), arrowprops=dict(arrowstyle='<|-|>', shrinkA=0, shrinkB=0,facecolor=\"k\"))\n",
    "    newax.annotate(text=r'$Q_B$', xy=((150-x_QB)/2+x_QB,height_NE+2),horizontalalignment=\"center\",verticalalignment=\"bottom\",fontsize=7)\n",
    "    # #cathode\n",
    "    x_QC = 134\n",
    "    height_PE = 160\n",
    "    newax.axvline(x=x_QC, ymin=0.58, ymax=0.75,zorder=2, clip_on=False,color=\"k\",linestyle=\"-\",linewidth=1)\n",
    "    newax.annotate(text='', xy=(150,height_PE), xytext=(x_QC+0.4,height_PE), arrowprops=dict(arrowstyle='<|-|>', shrinkA=0, shrinkB=0,facecolor=\"k\"))\n",
    "    newax.annotate(text=r'$Q_{PE}$', xy=((150-x_QC)/2+x_QC,height_PE+3),horizontalalignment=\"center\",verticalalignment=\"bottom\",fontsize=7)\n",
    "    #stages\n",
    "    newax.annotate(text='4L', xy=(12.0*2-deltaQ,0.74*108), xytext=(7*2-deltaQ,1.15*108),fontsize=7,verticalalignment=\"bottom\",\n",
    "                      arrowprops=dict(arrowstyle='-', shrinkA=0, shrinkB=0, mutation_scale=20,color=VisualizationConfig.TUMblau.value),color=VisualizationConfig.TUMblau.value)\n",
    "    newax.annotate(text='3L', xy=(15.3*2-deltaQ,0.63*108), xytext=(17*2-deltaQ,1.1*108),fontsize=7,verticalalignment=\"bottom\",\n",
    "                      arrowprops=dict(arrowstyle='-', shrinkA=0, shrinkB=0, mutation_scale=20,color=VisualizationConfig.TUMblau.value),color=VisualizationConfig.TUMblau.value)\n",
    "    newax.annotate(text='2L', xy=(19.2*2-deltaQ,0.53*108), xytext=(23*2-deltaQ,0.8*108),fontsize=7,\n",
    "                      arrowprops=dict(arrowstyle='-', shrinkA=0, shrinkB=0, mutation_scale=20,color=VisualizationConfig.TUMblau.value),color=VisualizationConfig.TUMblau.value)\n",
    "    newax.annotate(text='stage 2', xy=(47*2-deltaQ,0.9*108), xytext=(30*2-deltaQ,1.1*108),fontsize=7,verticalalignment=\"bottom\",\n",
    "                      arrowprops=dict(arrowstyle='-', shrinkA=0, shrinkB=0, mutation_scale=20,color=VisualizationConfig.TUMblau.value),color=VisualizationConfig.TUMblau.value)\n",
    "                     \n",
    "    newax.annotate(text='H1', xy=(7.8*2-deltaQ,0.33*108), xytext=(13*2-deltaQ,0.05*108),fontsize=7,color=VisualizationConfig.TUMorange.value,\n",
    "                   arrowprops=dict(arrowstyle='-', shrinkA=0, shrinkB=0, mutation_scale=20,color=VisualizationConfig.TUMorange.value))\n",
    "    \n",
    "    newax.annotate(text='M', xy=(51.5*2-deltaQ,0.78*108), xytext=(54*2-deltaQ,0.24*108),fontsize=7,color=VisualizationConfig.TUMorange.value,\n",
    "                      arrowprops=dict(arrowstyle='-', shrinkA=0, shrinkB=0, mutation_scale=20,color=VisualizationConfig.TUMorange.value))\n",
    "                      \n",
    "    newax.annotate(text='H2', xy=(70.5*2-deltaQ,0.96*108), xytext=(72*2-deltaQ,0.54*108),fontsize=7,color=VisualizationConfig.TUMorange.value,\n",
    "                      arrowprops=dict(arrowstyle='-', shrinkA=0, shrinkB=0, mutation_scale=20,color=VisualizationConfig.TUMorange.value))\n",
    "    return axes"
   ]
  },
  {
   "cell_type": "code",
   "execution_count": null,
   "id": "221acae9-d411-42c5-b60e-ddd465e46b87",
   "metadata": {},
   "outputs": [],
   "source": [
    "nrow = 2\n",
    "fig, axes= plt.subplots(nrow,1,\n",
    "                        figsize=(cm2inch(VisualizationConfig.columnwidth_in_cm.value),\n",
    "                                nrow*cm2inch(4.8)))\n",
    "axes = axes.flatten()\n",
    "axes[0] = pOCV_plot(axes[0],df,df_C,df_A,df_vw)\n",
    "axes[1] = DVA_plot(axes[1],cap,dva,\n",
    "                           cap_C_trafo,dva_C_trafo,\n",
    "                           cap_A_trafo,dva_A_trafo,\n",
    "                            cap_vw,dva_vw,deltaQ)\n",
    "\n",
    "axes[0] = add_FOI_POCV(axes[0])\n",
    "axes[1] = add_FOI_DVA(axes[1])\n",
    "axes[0].yaxis.set_label_coords(-0.135, 0.5)\n",
    "axes[1].yaxis.set_label_coords(-0.11, 0.5) \n",
    "# legend\n",
    "handles, labels =axes[0].get_legend_handles_labels()  \n",
    "line = plt.hlines(-1,0,1,label='vehicle ', color=\"black\")\n",
    "line1 = plt.hlines(-1,0,1,label='full cell', color=\"black\",linestyle=\"--\")\n",
    "line2 = plt.hlines(-1,0,1,label='negative electrode', color=VisualizationConfig.TUMblau.value)\n",
    "line3 = plt.hlines(-1,0,1,label='positive electrode', color=VisualizationConfig.TUMorange.value)\n",
    "\n",
    "# add manual symbols to auto legend\n",
    "handles.extend([line,line1, line2,line3])\n",
    "axes[0].legend(handles=handles,loc=\"center\",ncols=2,handletextpad=0.4,fontsize=7,\n",
    "           framealpha =1 , fancybox=False,labelspacing=0.1,columnspacing=1,edgecolor=\"black\",bbox_to_anchor=(0.5, 1.45),handlelength=1.8)\n",
    "\n",
    "\n",
    "plt.tight_layout()\n",
    "# NR\n",
    "axes[0].text(-0.18, 1.1, r'a)', fontsize=7, horizontalalignment='center',\n",
    "     verticalalignment='center', transform=axes[0].transAxes)\n",
    "axes[1].text(-0.18, 1.1, r'b)', fontsize=7, horizontalalignment='center',\n",
    "     verticalalignment='center', transform=axes[1].transAxes)\n",
    "\n",
    "fig.savefig(os.path.join(GeneralConfig.path2figures.value,\"00-POCV_DVA_C_NMC532_halfcells.pdf\"))\n",
    "fig.savefig(os.path.join(GeneralConfig.path2figures.value,\"00-POCV_DVA_C_NMC532_halfcells.png\"),dpi=300)"
   ]
  },
  {
   "cell_type": "code",
   "execution_count": null,
   "id": "3e96f709-d767-4fe6-8389-8657619a7ba2",
   "metadata": {},
   "outputs": [],
   "source": []
  }
 ],
 "metadata": {
  "kernelspec": {
   "display_name": "Python 3 (ipykernel)",
   "language": "python",
   "name": "python3"
  },
  "language_info": {
   "codemirror_mode": {
    "name": "ipython",
    "version": 3
   },
   "file_extension": ".py",
   "mimetype": "text/x-python",
   "name": "python",
   "nbconvert_exporter": "python",
   "pygments_lexer": "ipython3",
   "version": "3.11.9"
  }
 },
 "nbformat": 4,
 "nbformat_minor": 5
}
