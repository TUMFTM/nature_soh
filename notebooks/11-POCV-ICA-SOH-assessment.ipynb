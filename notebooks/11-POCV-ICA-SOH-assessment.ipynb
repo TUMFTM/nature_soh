{
 "cells": [
  {
   "cell_type": "markdown",
   "id": "df7e6497-b58a-4941-8a0d-ec77ce3b8815",
   "metadata": {},
   "source": [
    "# Init and aged Vehicle ICA"
   ]
  },
  {
   "cell_type": "markdown",
   "id": "40554d3b-6a31-4ce3-b423-cdca367ca550",
   "metadata": {},
   "source": [
    "This figure shows the evaluation of vehicle charging data from state of the art electric vehicles. \\\n",
    "The standard measurement enables the calaculation of an overall capacity and energy loss per vehicle. \\\n",
    "Also ICA, mathematically the inverse of DVA, is performed on the vehicle level. Features of interest cannot always be derived from ICA, due to higher data quality requirements. Nonetheless, ICA can assist DVA, e.g. degradation cannot be fully analyzed by DVA.\\\n",
    "ICA is metnioned in the paper, but further analysis is omitted for conciseness. This notebook merely shows the interested reader further analysis methods on the vehicle level."
   ]
  },
  {
   "cell_type": "code",
   "execution_count": null,
   "id": "6cc0bf2d-790b-4c5d-bd58-d42bf8bc7ae3",
   "metadata": {},
   "outputs": [],
   "source": [
    "import os\n",
    "import sys\n",
    "import math\n",
    "sys.path.append(os.path.join(os.getcwd().partition('nature_soh')[0], \"nature_soh\"))\n",
    "from src.config_base import GeneralConfig"
   ]
  },
  {
   "cell_type": "code",
   "execution_count": null,
   "id": "7a248134-8c89-4cf3-bda6-30fd5e49676d",
   "metadata": {},
   "outputs": [],
   "source": [
    "import pandas as pd\n",
    "import numpy as np\n",
    "import scipy as sp\n",
    "import matplotlib.pyplot as plt\n",
    "import matplotlib.ticker as ticker\n",
    "from matplotlib.ticker import FormatStrFormatter\n",
    "import matplotlib.gridspec as gridspec\n",
    "from matplotlib.ticker import AutoMinorLocator, FixedLocator\n",
    "import matplotlib.patches as patches\n",
    "import matplotlib.lines as mlines"
   ]
  },
  {
   "cell_type": "code",
   "execution_count": null,
   "id": "538b73db-2367-4e25-8fd4-5f7e44474956",
   "metadata": {},
   "outputs": [],
   "source": [
    "from src.data.read_feather import ReadFeather\n",
    "from src.filtering.filter_methods import FilterMethods\n",
    "from src.voltage_capacity_analysis.ica import ICA\n",
    "from src.visualization.config_visualization import VisualizationConfig, instantiate_matplotlib_parameters, cm2inch\n",
    "instantiate_matplotlib_parameters()\n",
    "from src.visualization.colormaps import ColorMaps"
   ]
  },
  {
   "cell_type": "code",
   "execution_count": null,
   "id": "ec588ba8-a8fa-4c14-ad2c-ca28ad054dce",
   "metadata": {},
   "outputs": [],
   "source": [
    "tum_orange_cmap = ColorMaps.orange_tum()\n",
    "orange_colors = tum_orange_cmap(np.linspace(0,1, 10))\n",
    "tum_orange_cmap"
   ]
  },
  {
   "cell_type": "code",
   "execution_count": null,
   "id": "27235247-c600-4eac-9655-c40a1794707d",
   "metadata": {},
   "outputs": [],
   "source": [
    "tum_blue_cmap = ColorMaps.blue_tum()\n",
    "blue_colors = tum_blue_cmap(np.linspace(0,1, 10))\n",
    "tum_blue_cmap"
   ]
  },
  {
   "cell_type": "code",
   "execution_count": null,
   "id": "f891546e-04b2-4456-b4d5-1e9f9f653fdc",
   "metadata": {},
   "outputs": [],
   "source": [
    "tum_cmap = ColorMaps.blue_orange_tum(grayscale=0.5)\n",
    "colors = tum_cmap(np.linspace(0,1, 5))\n",
    "tum_cmap"
   ]
  },
  {
   "cell_type": "code",
   "execution_count": null,
   "id": "10ecbddb-f80b-4f6c-815a-5e0783fefbf4",
   "metadata": {},
   "outputs": [],
   "source": [
    "def filter_func_preprocess(signal):\n",
    "    perc_filter = 1/100 * len(signal) #% filter\n",
    "    filtered_signal = FilterMethods().rolling_mean_df(signal,window_size=FilterMethods().round_to_next_odd_number(perc_filter))\n",
    "    #filtered_signal = FilterMethods().savgol(signal,window_size=FilterMethods().round_to_next_odd_number(perc_filter * len(signal)))\n",
    "    return filtered_signal"
   ]
  },
  {
   "cell_type": "code",
   "execution_count": null,
   "id": "5e3e89ed-c7bb-4ab4-860c-4cf62ab6cbb3",
   "metadata": {},
   "outputs": [],
   "source": [
    "read_feather = ReadFeather()\n",
    "read_feather.set_filter_U(filter_func_preprocess)\n",
    "read_feather.set_filter_Q(filter_func_preprocess)"
   ]
  },
  {
   "cell_type": "markdown",
   "id": "96411e3e-75e1-4e36-bf5c-0b168d63706d",
   "metadata": {},
   "source": [
    "## Load vehicle data"
   ]
  },
  {
   "cell_type": "code",
   "execution_count": null,
   "id": "f0bac78b-b735-455f-aa8d-174257f26d7b",
   "metadata": {},
   "outputs": [],
   "source": [
    "%%capture\n",
    "df_taycan =  read_feather.read(os.path.join(GeneralConfig.path2data.value,\"Taycan\",\"Porsche_Taycan_JB_10A_CEE7_FTM_2023.feather\"), lower_voltage=650, upper_voltage=830)\n",
    "df_taycan_aged =  read_feather.read(os.path.join(GeneralConfig.path2data.value,\"Taycan\",\"Porsche_Taycan_JB_10A_CEE7_AMS_2024.feather\"),lower_voltage=650, upper_voltage=830)"
   ]
  },
  {
   "cell_type": "code",
   "execution_count": null,
   "id": "b840e97b-cafe-4f27-a79a-efbe95f36d61",
   "metadata": {},
   "outputs": [],
   "source": [
    "%%capture\n",
    "df_vw = read_feather.read(os.path.join(GeneralConfig.path2data.value,\"VW\",\"VW_ID3_JB_8A_CEE7_FTM_2021.feather\"), lower_voltage=360, upper_voltage=450)\n",
    "df_vw_aged = read_feather.read(os.path.join(GeneralConfig.path2data.value,\"VW\",\"VW_ID3_JB_8A_CEE7_FTM_2024.feather\"), lower_voltage=360, upper_voltage=450)"
   ]
  },
  {
   "cell_type": "code",
   "execution_count": null,
   "id": "862ca516-e8b9-403f-929b-ad83a4205d6c",
   "metadata": {},
   "outputs": [],
   "source": [
    "%%capture\n",
    "df_teslaY = read_feather.read(os.path.join(GeneralConfig.path2data.value,\"Tesla\",\"Tesla_Model_Y_JB_8A_CEE7_MI_2025.feather\"), lower_voltage=300, upper_voltage=400)\n",
    "df_teslaY_aged = read_feather.read(os.path.join(GeneralConfig.path2data.value,\"Tesla\",\"Tesla_Model_Y_JB_8A_CEE7_TW_2024.feather\"), lower_voltage=300, upper_voltage=400)"
   ]
  },
  {
   "cell_type": "code",
   "execution_count": null,
   "id": "a81ae131-e445-4a03-91c3-818427e49524",
   "metadata": {},
   "outputs": [],
   "source": [
    "%%capture\n",
    "df_tesla_aged = read_feather.read(os.path.join(GeneralConfig.path2data.value,\"Tesla\",\"Tesla_Model_3_JB_6A_CEE7_FTM_2025.feather\"), lower_voltage=335, upper_voltage=365)"
   ]
  },
  {
   "cell_type": "code",
   "execution_count": null,
   "id": "0e89fe5a-ce38-4333-a6b8-611b27716df8",
   "metadata": {},
   "outputs": [],
   "source": [
    "## the sharp voltage increased of LFP cells can be filtered out, if the windowsize is too wide, as happens for the Tesla measurement from 2021\n",
    "def filter_func_preprocess_tesla(signal):\n",
    "    perc_filter = 0.1/100 * len(signal) #% filter\n",
    "    filtered_signal = FilterMethods().rolling_mean_df(signal,window_size=FilterMethods().round_to_next_odd_number(perc_filter))\n",
    "    #filtered_signal = FilterMethods().savgol(signal,window_size=FilterMethods().round_to_next_odd_number(perc_filter * len(signal)))\n",
    "    return filtered_signal"
   ]
  },
  {
   "cell_type": "code",
   "execution_count": null,
   "id": "4cf1898a-635e-45c8-8959-6cc757a73134",
   "metadata": {},
   "outputs": [],
   "source": [
    "read_feather.set_filter_U(filter_func_preprocess_tesla)\n",
    "read_feather.set_filter_Q(filter_func_preprocess_tesla)"
   ]
  },
  {
   "cell_type": "code",
   "execution_count": null,
   "id": "5955ac91-8b75-4f83-a985-d9d76c2d94cb",
   "metadata": {},
   "outputs": [],
   "source": [
    "%%capture\n",
    "df_tesla = read_feather.read(os.path.join(GeneralConfig.path2data.value,\"Tesla\",\"Tesla_Model_3_JB_6A_CEE7_FTM_2021.feather\"), lower_voltage=335, upper_voltage=365)"
   ]
  },
  {
   "cell_type": "markdown",
   "id": "b49179ed-395d-4dc6-94f7-783dd0815005",
   "metadata": {
    "tags": []
   },
   "source": [
    "### ICA"
   ]
  },
  {
   "cell_type": "code",
   "execution_count": null,
   "id": "cfc837c8-23b6-4345-ab6a-231084ee9f5a",
   "metadata": {},
   "outputs": [],
   "source": [
    "def filter_func_v(signal):\n",
    "    perc_filter = 1 #% filter\n",
    "    filtered_signal = FilterMethods().rolling_mean_numpy(signal,window_size=FilterMethods().round_to_next_odd_number(perc_filter/100 * len(signal)))\n",
    "    filtered_signal_reverse = FilterMethods().rolling_mean_numpy(np.flip(signal),window_size=FilterMethods().round_to_next_odd_number(perc_filter/100 * len(signal)))\n",
    "    return (filtered_signal+np.flip(filtered_signal_reverse))/2"
   ]
  },
  {
   "cell_type": "code",
   "execution_count": null,
   "id": "866d8402-911f-48ac-82b1-f094b3424707",
   "metadata": {},
   "outputs": [],
   "source": [
    "def filter_func_v_post(signal):\n",
    "    perc_filter = 2 #% filter\n",
    "    filtered_signal = FilterMethods().rolling_mean_numpy(signal,window_size=FilterMethods().round_to_next_odd_number(perc_filter/100 * len(signal)))\n",
    "    filtered_signal_reverse = FilterMethods().rolling_mean_numpy(np.flip(signal),window_size=FilterMethods().round_to_next_odd_number(perc_filter/100 * len(signal)))\n",
    "    return (filtered_signal+np.flip(filtered_signal_reverse))/2"
   ]
  },
  {
   "cell_type": "code",
   "execution_count": null,
   "id": "186bf4b6-3617-4acf-afde-7440b6af8f98",
   "metadata": {},
   "outputs": [],
   "source": [
    "ica_extractor = ICA()\n",
    "ica_extractor.set_filter(filter_func_v)\n",
    "ica_extractor.set_post_filter(filter_func_v_post)"
   ]
  },
  {
   "cell_type": "code",
   "execution_count": null,
   "id": "717a20df-ee10-4aaf-97c5-32cf6ff532ca",
   "metadata": {},
   "outputs": [],
   "source": [
    "ica_taycan, volt_taycan =ica_extractor.get_ica(time=df_taycan[\"time_h\"], capacity=df_taycan[\"Q\"], voltage=df_taycan[\"U\"],crop_volt_V=(0,900))\n",
    "ica_taycan_aged, volt_taycan_aged =ica_extractor.get_ica(time=df_taycan_aged[\"time_h\"], capacity=df_taycan_aged[\"Q\"], voltage=df_taycan_aged[\"U\"],crop_volt_V=(0,900))"
   ]
  },
  {
   "cell_type": "code",
   "execution_count": null,
   "id": "21287db9-c695-4472-9f46-4f6bb92ea493",
   "metadata": {},
   "outputs": [],
   "source": [
    "ica_vw, volt_vw =ica_extractor.get_ica(time=df_vw[\"time_h\"], capacity=df_vw[\"Q\"], voltage=df_vw[\"U\"],crop_volt_V=(360,500))\n",
    "ica_vw_aged, volt_vw_aged =ica_extractor.get_ica(time=df_vw_aged[\"time_h\"], capacity=df_vw_aged[\"Q\"], voltage=df_vw_aged[\"U\"],crop_volt_V=(364,500))"
   ]
  },
  {
   "cell_type": "code",
   "execution_count": null,
   "id": "2b1714ca-1d73-494b-9cdd-457823a01125",
   "metadata": {},
   "outputs": [],
   "source": [
    "ica_tesla, volt_tesla = ica_extractor.get_ica(time=df_tesla[\"time_h\"], capacity=df_tesla[\"Q\"], voltage=df_tesla[\"U\"],\n",
    "                                              crop_volt_V=(280,390),postfilter=True,postfilter_volt_range=(350,360))\n",
    "ica_tesla_aged, volt_tesla_aged = ica_extractor.get_ica(time=df_tesla_aged[\"time_h\"], capacity=df_tesla_aged[\"Q\"], voltage=df_tesla_aged[\"U\"],\n",
    "                                                        crop_volt_V=(280,390),postfilter=True,postfilter_volt_range=(350,360))"
   ]
  },
  {
   "cell_type": "code",
   "execution_count": null,
   "id": "f9f8b981-5f95-46f8-882d-1a1de6cf0786",
   "metadata": {},
   "outputs": [],
   "source": [
    "ica_teslaY, volt_teslaY =ica_extractor.get_ica(time=df_teslaY[\"time_h\"], capacity=df_teslaY[\"Q\"], voltage=df_teslaY[\"U\"],crop_volt_V=(0,900))\n",
    "ica_teslaY_aged, volt_teslaY_aged =ica_extractor.get_ica(time=df_teslaY_aged[\"time_h\"], capacity=df_teslaY_aged[\"Q\"], voltage=df_teslaY_aged[\"U\"],crop_volt_V=(0,900))"
   ]
  },
  {
   "cell_type": "markdown",
   "id": "4068151d-5a17-4269-afe7-175cffd3bd13",
   "metadata": {},
   "source": [
    "## Figure"
   ]
  },
  {
   "cell_type": "markdown",
   "id": "baed02da-a0fa-47af-9788-d67e60b3e4bc",
   "metadata": {},
   "source": [
    "## pOCV"
   ]
  },
  {
   "cell_type": "code",
   "execution_count": null,
   "id": "f10b8a43-8b62-434e-b0a1-078f529433ae",
   "metadata": {},
   "outputs": [],
   "source": [
    "def plot_pocv_vw(axes):\n",
    "    ax2 = axes.twiny()\n",
    "    line1 = axes.plot(df_vw[\"Q\"],df_vw[\"U\"],color=VisualizationConfig.TUMblau.value,linewidth=1.5,label=\"$\\ \\ \\ \\ 400\\,km$\")\n",
    "    line2 = axes.plot(df_vw_aged[\"Q\"],df_vw_aged[\"U\"],color=VisualizationConfig.TUMorange.value,linewidth=1.5,label=\"$40500\\,km$\")\n",
    "    \n",
    "    axes.set_ylabel(r\"Vehicle voltage in V\",fontsize=7)\n",
    "    #axes.yaxis.set_label_coords(-0.05,0.5)\n",
    "    axes.set_xlabel(\"Charged capacity in Ah\") \n",
    "    axes.set_xlim([0,150])\n",
    "    tick_positions = np.array([0,50,100,150])\n",
    "    axes.set_xticks(tick_positions)\n",
    "    axes.xaxis.set_minor_locator(FixedLocator([25,75,125]))\n",
    "    axes.set_ylim([360,450])\n",
    "    tick_positions = np.array([360,390,420,450])\n",
    "    axes.set_yticks(tick_positions)\n",
    "    axes.tick_params('x', top=False, labeltop=False,bottom=True, labelbottom=True)\n",
    "    axes.tick_params('y', left=True, labelleft=True,right=False, labelright=False)\n",
    "    axes.grid()\n",
    "    axes.set_axisbelow(True)\n",
    "    # secondary x-axes \n",
    "    ax2.plot(df_vw[\"U\"].mean()*(df_vw[\"Q\"])/1000,-10*np.ones(len(df_vw[\"Q\"])),color=\"white\",linewidth=1.5)\n",
    "    ax2.set_xlabel(\"Charged energy in kWh\",fontsize=7)\n",
    "    ax2.set_xlim(np.array([0,150]))\n",
    "    tick_positions = np.array([0,50,100,150])\n",
    "    ax2.set_xticks(tick_positions)\n",
    "    ax2.set_xticklabels([f\"{round(label*df_vw.U.mean()/10000)*10:.0f}\" for label in tick_positions])\n",
    "    ax2.xaxis.set_minor_locator(FixedLocator([25,75,125]))\n",
    "    \n",
    "    axes.legend(handles=[line1[0], line2[0]],loc=\"upper left\",fontsize=5,ncols=2,handletextpad=0.4,handlelength=1.5,\n",
    "               framealpha =1 , fancybox=False,labelspacing=0.2,columnspacing=0.7,edgecolor=\"black\",title=r\"$\\bf{VW\\ ID.3\\ Pro\\ Performance\\ (C/NMC\\,532)}$\",title_fontsize=5,alignment='center')\n",
    "    return axes"
   ]
  },
  {
   "cell_type": "code",
   "execution_count": null,
   "id": "ac0a8fb4-1f0f-42e5-afb6-95ad5f7e498e",
   "metadata": {},
   "outputs": [],
   "source": [
    "def plot_pocv_taycan(axes):\n",
    "    ax2 = axes.twiny()\n",
    "    line1 = axes.plot(df_taycan[\"Q\"],df_taycan[\"U\"],color=VisualizationConfig.TUMblau.value,linewidth=1.5,label=\"$10000\\,km$\")\n",
    "    line2 = axes.plot(df_taycan_aged[\"Q\"],df_taycan_aged[\"U\"],color=VisualizationConfig.TUMorange.value,linewidth=1.5,label=\"$70500\\,km$\")\n",
    "    \n",
    "    axes.set_ylabel(r\"Vehicle voltage in V\",fontsize=7)\n",
    "    #axes.yaxis.set_label_coords(-0.05,0.5)\n",
    "    axes.set_xlabel(\"Charged capacity in Ah\") \n",
    "    axes.set_xlim([0,120])\n",
    "    tick_positions = np.array([0,40,80,120])\n",
    "    axes.set_xticks(tick_positions)\n",
    "    axes.xaxis.set_minor_locator(FixedLocator([20,60,100]))\n",
    "    axes.set_ylim([650,830])\n",
    "    tick_positions = np.array([650,695,740,785,830])\n",
    "    axes.set_yticks(tick_positions)\n",
    "    axes.tick_params('x', top=False, labeltop=False,bottom=True, labelbottom=True)\n",
    "    axes.tick_params('y', left=True, labelleft=True,right=False, labelright=False)\n",
    "    axes.grid()\n",
    "    axes.set_axisbelow(True)\n",
    "    # secondary x-axes \n",
    "    ax2.plot(df_taycan[\"U\"].mean()*(df_taycan[\"Q\"])/1000,-10*np.ones(len(df_taycan[\"Q\"])),color=\"white\",linewidth=1.5)\n",
    "    ax2.set_xlabel(\"Charged energy in kWh\",fontsize=7)\n",
    "    ax2.set_xlim([0,120])\n",
    "    tick_positions = np.array([0,40,80,120])\n",
    "    ax2.set_xticks(tick_positions)\n",
    "    ax2.set_xticklabels([f\"{round(label*df_taycan.U.mean()/10000)*10:.0f}\" for label in tick_positions])\n",
    "    ax2.xaxis.set_minor_locator(FixedLocator([20,60,100]))\n",
    "    ax2.tick_params('x',which=\"both\", top=True, labeltop=True,bottom=False, labelbottom=False)\n",
    "    \n",
    "    axes.legend(handles=[line1[0], line2[0]],loc=\"upper left\",fontsize=5,ncols=2,handletextpad=0.4,handlelength=1.5,\n",
    "               framealpha =1 , fancybox=False,labelspacing=0.2,columnspacing=0.7,edgecolor=\"black\",title=r\"$\\bf{Porsche\\ Taycan\\ (C/NMC\\,622)}$\",title_fontsize=5,alignment='center')\n",
    "    return axes"
   ]
  },
  {
   "cell_type": "code",
   "execution_count": null,
   "id": "20210e86-11ae-4ae5-9d7b-fd1ea18b3f46",
   "metadata": {},
   "outputs": [],
   "source": [
    "def plot_pocv_tesla(axes):\n",
    "    ax2 = axes.twiny()\n",
    "    line1 = axes.plot(df_tesla[\"Q\"],df_tesla[\"U\"],color=VisualizationConfig.TUMblau.value,linewidth=1.5,label=\"$\\ \\ 1000\\,km$\")\n",
    "    line2 = axes.plot(df_tesla_aged[\"Q\"],df_tesla_aged[\"U\"],color=VisualizationConfig.TUMorange.value,linewidth=1.5,label=\"$80100\\,km$\")\n",
    "    \n",
    "    axes.set_ylabel(r\"Vehicle voltage in V\",fontsize=7)\n",
    "    #axes.yaxis.set_label_coords(-0.05,0.5)\n",
    "    axes.set_xlabel(\"Charged capacity in Ah\") \n",
    "    axes.set_xlim([0,160])\n",
    "    tick_positions = np.array([0,40,80,120,160])\n",
    "    axes.set_xticks(tick_positions)\n",
    "    axes.xaxis.set_minor_locator(FixedLocator([20,60,100,140]))\n",
    "    axes.set_ylim([335,365])\n",
    "    tick_positions = np.array([335,345,355,365])\n",
    "    axes.set_yticks(tick_positions)\n",
    "    axes.tick_params('x', top=False, labeltop=False,bottom=True, labelbottom=True)\n",
    "    axes.tick_params('y', left=True, labelleft=True,right=False, labelright=False)\n",
    "    axes.grid()\n",
    "    axes.set_axisbelow(True)\n",
    "    # secondary x-axes \n",
    "    ax2.plot(df_tesla[\"U\"].mean()*(df_tesla[\"Q\"])/1000,-10*np.ones(len(df_tesla[\"Q\"])),color=\"white\",linewidth=1.5)\n",
    "    ax2.set_xlabel(\"Charged energy in kWh\",fontsize=7)\n",
    "    ax2.set_xlim([0,160])\n",
    "    tick_positions = np.array([0,40,80,120,160])\n",
    "    ax2.set_xticks(tick_positions)\n",
    "    ax2.set_xticklabels([f\"{round(label*df_tesla.U.mean()/1000)*1:.0f}\" for label in tick_positions[:-1]]+[56])\n",
    "    ax2.xaxis.set_minor_locator(FixedLocator([20,60,100,140]))\n",
    "    ax2.tick_params('x',which=\"both\", top=True, labeltop=True,bottom=False, labelbottom=False)\n",
    "    \n",
    "    axes.legend(handles=[line1[0], line2[0]],loc=\"upper left\",fontsize=5,ncols=2,handletextpad=0.4,handlelength=1.5,\n",
    "               framealpha =1 , fancybox=False,labelspacing=0.05,columnspacing=0.7,edgecolor=\"black\",title=r\"$\\bf{Tesla\\ Model\\ 3\\ SR+\\ (C/LFP)}$\",title_fontsize=5,alignment='center')\n",
    "    return axes"
   ]
  },
  {
   "cell_type": "code",
   "execution_count": null,
   "id": "b1044c59-a0e1-490b-97b1-390d2abdffce",
   "metadata": {},
   "outputs": [],
   "source": [
    "def plot_pocv_teslaY(axes):\n",
    "    ax2 = axes.twiny()\n",
    "    line1 = axes.plot(df_teslaY[\"Q\"],df_teslaY[\"U\"],color=VisualizationConfig.TUMblau.value,linewidth=1.5,label=\"$24800\\,km$\")\n",
    "    line2 = axes.plot(df_teslaY_aged[\"Q\"],df_teslaY_aged[\"U\"],color=VisualizationConfig.TUMorange.value,linewidth=1.5,label=\"$77600\\,km$\")\n",
    "    \n",
    "    axes.set_ylabel(r\"Vehicle voltage in V\",fontsize=7)\n",
    "    #axes.yaxis.set_label_coords(-0.05,0.5)\n",
    "    axes.set_xlabel(\"Charged capacity in Ah\") \n",
    "    axes.set_xlim([0,220])\n",
    "    tick_positions = np.array([0,55,110,165,220])\n",
    "    axes.set_xticks(tick_positions)\n",
    "    axes.xaxis.set_minor_locator(FixedLocator([22.5,77.5,132.5,187.5]))\n",
    "    axes.set_ylim([300,400])\n",
    "    tick_positions = np.array([300,325,350,375,400])\n",
    "    axes.set_yticks(tick_positions)\n",
    "    axes.tick_params('x', top=False, labeltop=False,bottom=True, labelbottom=True)\n",
    "    axes.tick_params('y', left=True, labelleft=True,right=False, labelright=False)\n",
    "    axes.grid()\n",
    "    axes.set_axisbelow(True)\n",
    "    # secondary x-axes \n",
    "    ax2.plot(df_tesla[\"U\"].mean()*(df_teslaY[\"Q\"])/1000,-10*np.ones(len(df_teslaY[\"Q\"])),color=\"white\",linewidth=1.5)\n",
    "    ax2.set_xlabel(\"Charged energy in kWh\",fontsize=7)\n",
    "    ax2.set_xlim([0,220])\n",
    "    tick_positions = np.array([0,55,110,165,220])\n",
    "    ax2.set_xticks(tick_positions)\n",
    "    ax2.set_xticklabels([f\"{round(label*df_teslaY.U.mean()/10000)*10:.0f}\" for label in tick_positions])\n",
    "    ax2.xaxis.set_minor_locator(FixedLocator([22.5,77.5,132.5,187.5]))\n",
    "    ax2.tick_params('x',which=\"both\", top=True, labeltop=True,bottom=False, labelbottom=False)\n",
    "\n",
    "    axes.legend(handles=[line1[0], line2[0]],loc=\"upper left\",fontsize=5,ncols=2,handletextpad=0.4,handlelength=1.5,\n",
    "               framealpha =1 , fancybox=False,labelspacing=0.2,columnspacing=0.7,edgecolor=\"black\",title=r\"$\\bf{Tesla\\ Model\\ Y\\ LR\\ (C/NMC\\,811)}$\",title_fontsize=5,alignment='center')\n",
    "    return axes"
   ]
  },
  {
   "cell_type": "markdown",
   "id": "600f9ea0-bfdb-4983-916e-5466ae88beb2",
   "metadata": {},
   "source": [
    "## Features of interest pOCV"
   ]
  },
  {
   "cell_type": "code",
   "execution_count": null,
   "id": "7a925b44-85c1-496b-a30b-97684ef3c78f",
   "metadata": {},
   "outputs": [],
   "source": [
    "def add_FOI_vw_pocv(axes):\n",
    "    deltaQ = df_vw.Q.max() - df_vw_aged.Q.max()\n",
    "    deltaE = df_vw.E.max() - df_vw_aged.E.max()\n",
    "    rectangle = patches.Rectangle((df_vw_aged.Q.max(),360), deltaQ, 450-360,fc=\"lightgray\",ec=\"lightgray\",alpha=0.7)\n",
    "    axes.add_artist(rectangle)\n",
    "    axes.annotate(f'$\\Delta Q$ = {deltaQ:.1f}$\\,Ah$ | $\\Delta E$ = {deltaE:.1f}$\\,kWh$',\n",
    "                  (0.6, 0.02), xycoords=rectangle,rotation=90, annotation_clip=True,fontsize=5,\n",
    "                 horizontalalignment = \"center\", verticalalignment = \"bottom\")\n",
    "    #axes.annotate(text='', xy=(145,440), xytext=(115,440), arrowprops=dict(arrowstyle='<|-', shrinkA=0, shrinkB=0,facecolor=\"k\"))\n",
    "    #axes.annotate(text=f'$\\Delta Q$ = {deltaQ:.1f}$\\,Ah$'+'\\n'+f'$\\Delta E$ = {deltaE:.1f}$\\,kWh$', xy=(150,420),horizontalalignment=\"right\",verticalalignment=\"bottom\",fontsize=5)#,bbox=dict(boxstyle='square,pad=0',fc='white', ec='none', alpha=0.7))\n",
    "    return axes"
   ]
  },
  {
   "cell_type": "code",
   "execution_count": null,
   "id": "32e065b6-b017-451e-b500-62031b7c648c",
   "metadata": {},
   "outputs": [],
   "source": [
    "def add_FOI_taycan_pocv(axes):\n",
    "    deltaQ = df_taycan.Q.max() - df_taycan_aged.Q.max()\n",
    "    deltaE = df_taycan.E.max() - df_taycan_aged.E.max()\n",
    "    rectangle = patches.Rectangle((df_taycan_aged.Q.max(),650), deltaQ, 830-650,fc=\"lightgray\",ec=\"lightgray\",alpha=0.7)\n",
    "    axes.add_artist(rectangle)\n",
    "    axes.annotate(f'$\\Delta Q$ = {deltaQ:.1f}$\\,Ah$ | $\\Delta E$ = {deltaE:.1f}$\\,kWh$',\n",
    "                  (0.6, 0.02), xycoords=rectangle,rotation=90, annotation_clip=True,fontsize=5,\n",
    "                 horizontalalignment = \"center\", verticalalignment = \"bottom\")\n",
    "    # axes.annotate(text='', xy=(115,820), xytext=(90,820), arrowprops=dict(arrowstyle='<|-', shrinkA=0, shrinkB=0,facecolor=\"k\"))\n",
    "    # axes.annotate(text=f'$\\Delta Q$ = {deltaQ:.1f}$\\,Ah$'+'\\n'+f'$\\Delta E$ = {deltaE:.1f}$\\,kWh$', xy=(120,785),horizontalalignment=\"right\",verticalalignment=\"bottom\",fontsize=5)#,bbox=dict(boxstyle='square,pad=0',fc='white', ec='none', alpha=0.7))\n",
    "    return axes"
   ]
  },
  {
   "cell_type": "code",
   "execution_count": null,
   "id": "a96a8a03-f611-486c-96aa-99c0b0ff86a6",
   "metadata": {},
   "outputs": [],
   "source": [
    "def add_FOI_tesla_pocv(axes):\n",
    "    deltaQ = df_tesla.Q.max() - df_tesla_aged.Q.max()\n",
    "    deltaE = df_tesla.E.max() - df_tesla_aged.E.max()\n",
    "    rectangle = patches.Rectangle((df_tesla_aged.Q.max(),335), deltaQ, 365-335,fc=\"lightgray\",ec=\"lightgray\",alpha=0.7)\n",
    "    axes.add_artist(rectangle)\n",
    "    axes.annotate(f'$\\Delta Q$ = {deltaQ:.1f}$\\,Ah$ | $\\Delta E$ = {deltaE:.1f}$\\,kWh$',\n",
    "                  (0.6, 0.02), xycoords=rectangle,rotation=90, annotation_clip=True,fontsize=5,\n",
    "                 horizontalalignment = \"center\", verticalalignment = \"bottom\",bbox=dict(boxstyle='square,pad=0',fc='lightgray', ec='none', alpha=0.6))\n",
    "    # axes.annotate(text='', xy=(159,363), xytext=(140,363), arrowprops=dict(arrowstyle='<|-', shrinkA=0, shrinkB=0,facecolor=\"k\"))\n",
    "    # axes.annotate(text=f'$\\Delta Q$ = {deltaQ:.1f}$\\,Ah$'+'\\n'+f'$\\Delta E$ = {deltaE:.1f}$\\,kWh$', xy=(121,357.5),horizontalalignment=\"left\",verticalalignment=\"bottom\",fontsize=5)#,bbox=dict(boxstyle='square,pad=0',fc='white', ec='none', alpha=0.7))\n",
    "    return axes"
   ]
  },
  {
   "cell_type": "code",
   "execution_count": null,
   "id": "f9cabde4-a0bb-4118-a1db-a7fd37ebf815",
   "metadata": {},
   "outputs": [],
   "source": [
    "def add_FOI_teslaY_pocv(axes):\n",
    "    deltaQ =  df_teslaY.Q.max() - df_teslaY_aged.Q.max() #\n",
    "    deltaE = df_teslaY.E.max() - df_teslaY_aged.E.max()\n",
    "    rectangle = patches.Rectangle((df_teslaY_aged.Q.max(),300), deltaQ+1, 400-300,fc=\"lightgray\",ec=\"lightgray\",alpha=0.7)\n",
    "    axes.add_artist(rectangle)\n",
    "    axes.annotate(f'$\\Delta Q$ = {deltaQ:.1f}$\\,Ah$ | $\\Delta E$ = {deltaE:.1f}$\\,kWh$',\n",
    "                  (0.6, 0.02), xycoords=rectangle,rotation=90, annotation_clip=True,fontsize=5,\n",
    "                 horizontalalignment = \"center\", verticalalignment = \"bottom\")\n",
    "    # axes.annotate(text='', xy=(195,395), xytext=(155,395), arrowprops=dict(arrowstyle='<|-', shrinkA=0, shrinkB=0,facecolor=\"k\"))\n",
    "    # axes.annotate(text=f'$\\Delta Q$ = {deltaQ:.1f}$\\,Ah$'+'\\n'+f'$\\Delta E$ = {deltaE:.1f}$\\,kWh$', xy=(200,375),horizontalalignment=\"right\",verticalalignment=\"bottom\",fontsize=5)#,bbox=dict(boxstyle='square,pad=0',fc='white', ec='none', alpha=0.7))\n",
    "    return axes"
   ]
  },
  {
   "cell_type": "markdown",
   "id": "d9ed33f6-b772-4405-bd06-f6d0a094a656",
   "metadata": {},
   "source": [
    "## ICA"
   ]
  },
  {
   "cell_type": "code",
   "execution_count": null,
   "id": "b2484fcd-348b-46ac-a619-79a5417da67c",
   "metadata": {},
   "outputs": [],
   "source": [
    "def plot_ica_vw(axes):\n",
    "    mask_init = ica_vw<4.48\n",
    "    mask_aged= ica_vw_aged<4.48\n",
    "    axes.plot(volt_vw[mask_init],ica_vw[mask_init],color=VisualizationConfig.TUMblau.value)\n",
    "    axes.plot(volt_vw_aged[mask_aged],ica_vw_aged[mask_aged],color=VisualizationConfig.TUMorange.value)\n",
    "    \n",
    "    axes.set_ylabel(r\"$\\frac{dQ}{dU}$ in $\\frac{Ah}{V}$\",fontsize=7)\n",
    "    axes.set_xlabel(r\"Vehicle voltage in V\",fontsize=7) \n",
    "    \n",
    "    axes.set_ylim([0,5])\n",
    "    tick_positions =np.array([0,1,2,3,4,5])\n",
    "    axes.set_yticks(tick_positions)\n",
    "    axes.set_xlim([360,450])\n",
    "    tick_positions = np.array([360,390,420,450])\n",
    "    axes.set_xticks(tick_positions)\n",
    "    axes.grid(axis='both')\n",
    "    axes.set_axisbelow(True)\n",
    "    return axes"
   ]
  },
  {
   "cell_type": "code",
   "execution_count": null,
   "id": "64ce9e67-f31b-4871-8842-e4d9e99abf6b",
   "metadata": {},
   "outputs": [],
   "source": [
    "def plot_ica_taycan(axes):\n",
    "    mask_init = ica_taycan<4.48\n",
    "    mask_aged= ica_taycan_aged<4.48\n",
    "    axes.plot(volt_taycan[mask_init],ica_taycan[mask_init],color=VisualizationConfig.TUMblau.value)\n",
    "    axes.plot(volt_taycan_aged[mask_aged],ica_taycan_aged[mask_aged],color=VisualizationConfig.TUMorange.value)\n",
    "    \n",
    "    axes.set_ylabel(r\"$\\frac{dQ}{dU}$ in $\\frac{Ah}{V}$\",fontsize=7)\n",
    "    axes.set_xlabel(r\"Vehicle voltage in V\",fontsize=7) \n",
    "    axes.set_xlim([650,830])\n",
    "    tick_positions = np.array([650,695,740,785,830])\n",
    "    axes.set_xticks(tick_positions)\n",
    "    \n",
    "    axes.set_ylim([0,2])\n",
    "    tick_positions =np.array([0,0.5,1,1.5,2])\n",
    "    axes.set_yticks(tick_positions)\n",
    "   \n",
    "    axes.grid(axis='both')\n",
    "    axes.set_axisbelow(True)\n",
    "    return axes"
   ]
  },
  {
   "cell_type": "code",
   "execution_count": null,
   "id": "a0605d92-c1a3-4580-b447-535909bd3118",
   "metadata": {},
   "outputs": [],
   "source": [
    "def plot_ica_tesla(axes):\n",
    "    mask_init = ica_tesla<1000\n",
    "    mask_aged= ica_tesla_aged<1000\n",
    "    axes.plot(volt_tesla[mask_init],ica_tesla[mask_init],color=VisualizationConfig.TUMblau.value)\n",
    "    axes.plot(volt_tesla_aged[mask_aged],ica_tesla_aged[mask_aged],color=VisualizationConfig.TUMorange.value)\n",
    "    \n",
    "    axes.set_ylabel(r\"$\\frac{dQ}{dU}$ in $\\frac{Ah}{V}$\",fontsize=7)\n",
    "    axes.set_xlabel(r\"Vehicle voltage in V\",fontsize=7) \n",
    "    axes.set_xlim([335,365])\n",
    "    tick_positions = np.array([335,345,355,365])\n",
    "    axes.set_xticks(tick_positions)\n",
    "    \n",
    "    axes.set_ylim([0,100])\n",
    "    tick_positions =np.array([0,25,50,75,100])\n",
    "    axes.set_yticks(tick_positions)\n",
    "    \n",
    "    axes.grid(axis='both')\n",
    "    axes.set_axisbelow(True)\n",
    "    return axes"
   ]
  },
  {
   "cell_type": "code",
   "execution_count": null,
   "id": "82490df6-8bfb-489f-a975-c87fc70ca47c",
   "metadata": {},
   "outputs": [],
   "source": [
    "def plot_ica_teslaY(axes):\n",
    "    mask_init = ica_teslaY<15\n",
    "    mask_aged= ica_teslaY_aged<15\n",
    "    axes.plot(volt_teslaY[mask_init],ica_teslaY[mask_init],color=VisualizationConfig.TUMblau.value)\n",
    "    axes.plot(volt_teslaY_aged[mask_aged],ica_teslaY_aged[mask_aged],color=VisualizationConfig.TUMorange.value)\n",
    "    \n",
    "    axes.set_ylabel(r\"$\\frac{dQ}{dU}$ in $\\frac{Ah}{V}$\",fontsize=7)\n",
    "    axes.set_xlabel(r\"Vehicle voltage in V\",fontsize=7) \n",
    "    \n",
    "    axes.set_ylim([0,16])\n",
    "    tick_positions =np.array([0,4,8,12,16])\n",
    "    axes.set_yticks(tick_positions)\n",
    "    axes.set_xlim([300,400])\n",
    "    tick_positions = np.array([300,325,350,375,400])\n",
    "    axes.set_xticks(tick_positions)\n",
    "    axes.grid(axis='both')\n",
    "    axes.set_axisbelow(True)\n",
    "    return axes"
   ]
  },
  {
   "cell_type": "markdown",
   "id": "ddf3efde-be73-4421-9c1d-c5234d375716",
   "metadata": {},
   "source": [
    "## Features of interest ICA\n",
    "ommitted, as ICA is not shown in the Paper.\n",
    "\n",
    "The interested reader is referred to Dubarry and Ansean, \"Best practices for incremental capacity analysis\"\n",
    "[Best practices for ICA](https://www.frontiersin.org/journals/energy-research/articles/10.3389/fenrg.2022.1023555/full)\n",
    "\n",
    "Aging can be further assessed in ICA through the use of so called degradation maps."
   ]
  },
  {
   "cell_type": "code",
   "execution_count": null,
   "id": "32551695-6cf2-4168-8cf9-f809bb8fe891",
   "metadata": {},
   "outputs": [],
   "source": [
    "def add_FOI_vw_dva(axes, scatter_dict):\n",
    "    \n",
    "    return axes"
   ]
  },
  {
   "cell_type": "code",
   "execution_count": null,
   "id": "9159b205-c5bf-4841-8e49-e4337effea5c",
   "metadata": {},
   "outputs": [],
   "source": [
    "def add_FOI_taycan_dva(axes,scatter_dict):\n",
    "    \n",
    "    return axes"
   ]
  },
  {
   "cell_type": "code",
   "execution_count": null,
   "id": "18572c06-4007-42cb-8481-7652256ae54f",
   "metadata": {},
   "outputs": [],
   "source": [
    "def add_FOI_tesla_dva(axes,scatter_dict):\n",
    "    \n",
    "    return axes"
   ]
  },
  {
   "cell_type": "code",
   "execution_count": null,
   "id": "722a4e2d-744a-4bda-a087-d05332f8a19e",
   "metadata": {},
   "outputs": [],
   "source": [
    "def add_FOI_teslaY_dva(axes,scatter_dict):\n",
    "    \n",
    "    return axes"
   ]
  },
  {
   "cell_type": "markdown",
   "id": "ab0043be-f97d-4492-acec-95d9b49e5e6b",
   "metadata": {},
   "source": [
    "## Plots"
   ]
  },
  {
   "cell_type": "code",
   "execution_count": null,
   "id": "cb87448a-ce65-4437-ba7f-ed5639181f3f",
   "metadata": {},
   "outputs": [],
   "source": [
    "fig, axes= plt.subplots(2,1,\n",
    "                        figsize=(cm2inch(12),\n",
    "                                cm2inch(12)),height_ratios=[1.5,2])\n",
    "\n",
    "axes[0] = plot_pocv_vw(axes[0])\n",
    "axes[0] = add_FOI_vw_pocv(axes[0])\n",
    "\n",
    "axes[1] =  plot_ica_vw(axes[1])\n",
    "plt.tight_layout()\n",
    "#fig.savefig(os.path.join(GeneralConfig.path2figures.value,\"11-POCV_ICA_SOH_assessment_VW.pdf\"))\n",
    "#fig.savefig(os.path.join(GeneralConfig.path2figures.value,\"11-POCV_ICA_SOH_assessment_VW.png\"),dpi=300, pad_inches = 0)"
   ]
  },
  {
   "cell_type": "code",
   "execution_count": null,
   "id": "964debd0-f141-4d7e-a66c-308417ca240b",
   "metadata": {},
   "outputs": [],
   "source": [
    "fig, axes= plt.subplots(2,1,\n",
    "                        figsize=(cm2inch(12),\n",
    "                                cm2inch(12)),height_ratios=[1.5,2])\n",
    "\n",
    "axes[0] = plot_pocv_taycan(axes[0])\n",
    "axes[0] = add_FOI_taycan_pocv(axes[0])\n",
    "\n",
    "axes[1] =  plot_ica_taycan(axes[1])\n",
    "plt.tight_layout()\n",
    "#fig.savefig(os.path.join(GeneralConfig.path2figures.value,\"11-POCV_ICA_SOH_assessment_Taycan.pdf\"))\n",
    "#fig.savefig(os.path.join(GeneralConfig.path2figures.value,\"11-POCV_ICA_SOH_assessment_Taycan.png\"),dpi=300, pad_inches = 0)"
   ]
  },
  {
   "cell_type": "code",
   "execution_count": null,
   "id": "2d226998-b57a-4117-9642-b460267aa5d5",
   "metadata": {},
   "outputs": [],
   "source": [
    "fig, axes= plt.subplots(2,1,\n",
    "                        figsize=(cm2inch(12),\n",
    "                                cm2inch(12)),height_ratios=[1.5,2])\n",
    "\n",
    "axes[0] = plot_pocv_tesla(axes[0])\n",
    "axes[0] = add_FOI_tesla_pocv(axes[0])\n",
    "\n",
    "axes[1] =  plot_ica_tesla(axes[1])\n",
    "plt.tight_layout()\n",
    "#fig.savefig(os.path.join(GeneralConfig.path2figures.value,\"11-POCV_ICA_SOH_assessment_Tesla_M3.pdf\"))\n",
    "#fig.savefig(os.path.join(GeneralConfig.path2figures.value,\"11-POCV_ICA_SOH_assessment_Tesla_M3.png\"),dpi=300, pad_inches = 0)"
   ]
  },
  {
   "cell_type": "code",
   "execution_count": null,
   "id": "afc5e438-c5b8-4246-87a4-7d45167c0c11",
   "metadata": {},
   "outputs": [],
   "source": [
    "fig, axes= plt.subplots(2,1,\n",
    "                        figsize=(cm2inch(12),\n",
    "                                cm2inch(12)),height_ratios=[1.5,2])\n",
    "\n",
    "axes[0] = plot_pocv_teslaY(axes[0])\n",
    "axes[0] = add_FOI_teslaY_pocv(axes[0])\n",
    "\n",
    "axes[1] =  plot_ica_teslaY(axes[1])\n",
    "plt.tight_layout()\n",
    "#fig.savefig(os.path.join(GeneralConfig.path2figures.value,\"11-POCV_ICA_SOH_assessment_Tesla_MY.pdf\"))\n",
    "#fig.savefig(os.path.join(GeneralConfig.path2figures.value,\"11-POCV_ICA_SOH_assessment_Tesla_MY.png\"),dpi=300, pad_inches = 0)"
   ]
  },
  {
   "cell_type": "code",
   "execution_count": null,
   "id": "0e7bd302-6bcd-4ec1-85d3-327126b3a272",
   "metadata": {},
   "outputs": [],
   "source": []
  },
  {
   "cell_type": "code",
   "execution_count": null,
   "id": "d3b32c13-5c43-4e28-b9fc-eeeec23f47b6",
   "metadata": {},
   "outputs": [],
   "source": []
  }
 ],
 "metadata": {
  "kernelspec": {
   "display_name": "Python 3 (ipykernel)",
   "language": "python",
   "name": "python3"
  },
  "language_info": {
   "codemirror_mode": {
    "name": "ipython",
    "version": 3
   },
   "file_extension": ".py",
   "mimetype": "text/x-python",
   "name": "python",
   "nbconvert_exporter": "python",
   "pygments_lexer": "ipython3",
   "version": "3.11.9"
  }
 },
 "nbformat": 4,
 "nbformat_minor": 5
}
